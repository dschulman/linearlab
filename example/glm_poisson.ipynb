{
 "cells": [
  {
   "cell_type": "markdown",
   "metadata": {},
   "source": [
    "See example at https://www.statsmodels.org/dev/examples/notebooks/generated/discrete_choice_overview.html#Poisson"
   ]
  },
  {
   "cell_type": "code",
   "execution_count": 1,
   "metadata": {},
   "outputs": [],
   "source": [
    "import statsmodels.api as sm\n",
    "import statsmodels.formula.api as smf"
   ]
  },
  {
   "cell_type": "code",
   "execution_count": 2,
   "metadata": {},
   "outputs": [],
   "source": [
    "import sys\n",
    "sys.path.append(\"..\")"
   ]
  },
  {
   "cell_type": "code",
   "execution_count": 3,
   "metadata": {},
   "outputs": [],
   "source": [
    "import linearlab as ll"
   ]
  },
  {
   "cell_type": "code",
   "execution_count": 4,
   "metadata": {},
   "outputs": [
    {
     "name": "stdout",
     "output_type": "stream",
     "text": [
      "::\n",
      "\n",
      "    Number of observations - 20,190\n",
      "    Number of variables - 10\n",
      "    Variable name definitions::\n",
      "\n",
      "        mdvis   - Number of outpatient visits to an MD\n",
      "        lncoins - ln(coinsurance + 1), 0 <= coninsurance <= 100\n",
      "        idp     - 1 if individual deductible plan, 0 otherwise\n",
      "        lpi     - ln(max(1, annual participation incentive payment))\n",
      "        fmde    - 0 if idp = 1; ln(max(1, MDE/(0.01 coinsurance))) otherwise\n",
      "        physlm  - 1 if the person has a physical limitation\n",
      "        disea   - number of chronic diseases\n",
      "        hlthg   - 1 if self-rated health is good\n",
      "        hlthf   - 1 if self-rated health is fair\n",
      "        hlthp   - 1 if self-rated health is poor\n",
      "        (Omitted category is excellent self-rated health)\n",
      "\n"
     ]
    }
   ],
   "source": [
    "print(sm.datasets.randhie.NOTE)"
   ]
  },
  {
   "cell_type": "code",
   "execution_count": 5,
   "metadata": {},
   "outputs": [],
   "source": [
    "randhie = sm.datasets.randhie.load().data"
   ]
  },
  {
   "cell_type": "code",
   "execution_count": 6,
   "metadata": {},
   "outputs": [
    {
     "data": {
      "text/html": [
       "<div>\n",
       "<style scoped>\n",
       "    .dataframe tbody tr th:only-of-type {\n",
       "        vertical-align: middle;\n",
       "    }\n",
       "\n",
       "    .dataframe tbody tr th {\n",
       "        vertical-align: top;\n",
       "    }\n",
       "\n",
       "    .dataframe thead th {\n",
       "        text-align: right;\n",
       "    }\n",
       "</style>\n",
       "<table border=\"1\" class=\"dataframe\">\n",
       "  <thead>\n",
       "    <tr style=\"text-align: right;\">\n",
       "      <th></th>\n",
       "      <th>mdvis</th>\n",
       "      <th>lncoins</th>\n",
       "      <th>idp</th>\n",
       "      <th>lpi</th>\n",
       "      <th>fmde</th>\n",
       "      <th>physlm</th>\n",
       "      <th>disea</th>\n",
       "      <th>hlthg</th>\n",
       "      <th>hlthf</th>\n",
       "      <th>hlthp</th>\n",
       "    </tr>\n",
       "  </thead>\n",
       "  <tbody>\n",
       "    <tr>\n",
       "      <th>0</th>\n",
       "      <td>0</td>\n",
       "      <td>4.615120</td>\n",
       "      <td>1</td>\n",
       "      <td>6.907755</td>\n",
       "      <td>0.000000</td>\n",
       "      <td>0.000000</td>\n",
       "      <td>13.73189</td>\n",
       "      <td>1</td>\n",
       "      <td>0</td>\n",
       "      <td>0</td>\n",
       "    </tr>\n",
       "    <tr>\n",
       "      <th>1</th>\n",
       "      <td>2</td>\n",
       "      <td>4.615120</td>\n",
       "      <td>1</td>\n",
       "      <td>6.907755</td>\n",
       "      <td>0.000000</td>\n",
       "      <td>0.000000</td>\n",
       "      <td>13.73189</td>\n",
       "      <td>1</td>\n",
       "      <td>0</td>\n",
       "      <td>0</td>\n",
       "    </tr>\n",
       "    <tr>\n",
       "      <th>2</th>\n",
       "      <td>0</td>\n",
       "      <td>4.615120</td>\n",
       "      <td>1</td>\n",
       "      <td>6.907755</td>\n",
       "      <td>0.000000</td>\n",
       "      <td>0.000000</td>\n",
       "      <td>13.73189</td>\n",
       "      <td>1</td>\n",
       "      <td>0</td>\n",
       "      <td>0</td>\n",
       "    </tr>\n",
       "    <tr>\n",
       "      <th>3</th>\n",
       "      <td>0</td>\n",
       "      <td>4.615120</td>\n",
       "      <td>1</td>\n",
       "      <td>6.907755</td>\n",
       "      <td>0.000000</td>\n",
       "      <td>0.000000</td>\n",
       "      <td>13.73189</td>\n",
       "      <td>1</td>\n",
       "      <td>0</td>\n",
       "      <td>0</td>\n",
       "    </tr>\n",
       "    <tr>\n",
       "      <th>4</th>\n",
       "      <td>0</td>\n",
       "      <td>4.615120</td>\n",
       "      <td>1</td>\n",
       "      <td>6.907755</td>\n",
       "      <td>0.000000</td>\n",
       "      <td>0.000000</td>\n",
       "      <td>13.73189</td>\n",
       "      <td>1</td>\n",
       "      <td>0</td>\n",
       "      <td>0</td>\n",
       "    </tr>\n",
       "    <tr>\n",
       "      <th>...</th>\n",
       "      <td>...</td>\n",
       "      <td>...</td>\n",
       "      <td>...</td>\n",
       "      <td>...</td>\n",
       "      <td>...</td>\n",
       "      <td>...</td>\n",
       "      <td>...</td>\n",
       "      <td>...</td>\n",
       "      <td>...</td>\n",
       "      <td>...</td>\n",
       "    </tr>\n",
       "    <tr>\n",
       "      <th>20185</th>\n",
       "      <td>2</td>\n",
       "      <td>0.000000</td>\n",
       "      <td>0</td>\n",
       "      <td>5.377498</td>\n",
       "      <td>0.000000</td>\n",
       "      <td>0.144292</td>\n",
       "      <td>10.57626</td>\n",
       "      <td>0</td>\n",
       "      <td>0</td>\n",
       "      <td>0</td>\n",
       "    </tr>\n",
       "    <tr>\n",
       "      <th>20186</th>\n",
       "      <td>0</td>\n",
       "      <td>0.000000</td>\n",
       "      <td>0</td>\n",
       "      <td>5.377498</td>\n",
       "      <td>0.000000</td>\n",
       "      <td>0.144292</td>\n",
       "      <td>10.57626</td>\n",
       "      <td>0</td>\n",
       "      <td>0</td>\n",
       "      <td>0</td>\n",
       "    </tr>\n",
       "    <tr>\n",
       "      <th>20187</th>\n",
       "      <td>8</td>\n",
       "      <td>3.258096</td>\n",
       "      <td>0</td>\n",
       "      <td>6.874819</td>\n",
       "      <td>8.006368</td>\n",
       "      <td>0.144292</td>\n",
       "      <td>10.57626</td>\n",
       "      <td>0</td>\n",
       "      <td>0</td>\n",
       "      <td>0</td>\n",
       "    </tr>\n",
       "    <tr>\n",
       "      <th>20188</th>\n",
       "      <td>8</td>\n",
       "      <td>3.258096</td>\n",
       "      <td>0</td>\n",
       "      <td>5.156178</td>\n",
       "      <td>6.542472</td>\n",
       "      <td>0.144292</td>\n",
       "      <td>10.57626</td>\n",
       "      <td>0</td>\n",
       "      <td>0</td>\n",
       "      <td>0</td>\n",
       "    </tr>\n",
       "    <tr>\n",
       "      <th>20189</th>\n",
       "      <td>6</td>\n",
       "      <td>3.258096</td>\n",
       "      <td>0</td>\n",
       "      <td>6.620073</td>\n",
       "      <td>8.006368</td>\n",
       "      <td>0.144292</td>\n",
       "      <td>10.57626</td>\n",
       "      <td>0</td>\n",
       "      <td>0</td>\n",
       "      <td>0</td>\n",
       "    </tr>\n",
       "  </tbody>\n",
       "</table>\n",
       "<p>20190 rows × 10 columns</p>\n",
       "</div>"
      ],
      "text/plain": [
       "       mdvis   lncoins  idp       lpi      fmde    physlm     disea  hlthg  \\\n",
       "0          0  4.615120    1  6.907755  0.000000  0.000000  13.73189      1   \n",
       "1          2  4.615120    1  6.907755  0.000000  0.000000  13.73189      1   \n",
       "2          0  4.615120    1  6.907755  0.000000  0.000000  13.73189      1   \n",
       "3          0  4.615120    1  6.907755  0.000000  0.000000  13.73189      1   \n",
       "4          0  4.615120    1  6.907755  0.000000  0.000000  13.73189      1   \n",
       "...      ...       ...  ...       ...       ...       ...       ...    ...   \n",
       "20185      2  0.000000    0  5.377498  0.000000  0.144292  10.57626      0   \n",
       "20186      0  0.000000    0  5.377498  0.000000  0.144292  10.57626      0   \n",
       "20187      8  3.258096    0  6.874819  8.006368  0.144292  10.57626      0   \n",
       "20188      8  3.258096    0  5.156178  6.542472  0.144292  10.57626      0   \n",
       "20189      6  3.258096    0  6.620073  8.006368  0.144292  10.57626      0   \n",
       "\n",
       "       hlthf  hlthp  \n",
       "0          0      0  \n",
       "1          0      0  \n",
       "2          0      0  \n",
       "3          0      0  \n",
       "4          0      0  \n",
       "...      ...    ...  \n",
       "20185      0      0  \n",
       "20186      0      0  \n",
       "20187      0      0  \n",
       "20188      0      0  \n",
       "20189      0      0  \n",
       "\n",
       "[20190 rows x 10 columns]"
      ]
     },
     "execution_count": 6,
     "metadata": {},
     "output_type": "execute_result"
    }
   ],
   "source": [
    "randhie"
   ]
  },
  {
   "cell_type": "code",
   "execution_count": 7,
   "metadata": {},
   "outputs": [],
   "source": [
    "formula = \"mdvis ~ lncoins + idp + lpi + fmde + physlm + disea + hlthg + hlthf + hlthp\""
   ]
  },
  {
   "cell_type": "code",
   "execution_count": 8,
   "metadata": {},
   "outputs": [],
   "source": [
    "sm_pois_model = smf.glm(formula, randhie, family=sm.families.Poisson())"
   ]
  },
  {
   "cell_type": "code",
   "execution_count": 9,
   "metadata": {},
   "outputs": [],
   "source": [
    "sm_pois_fit = sm_pois_model.fit()"
   ]
  },
  {
   "cell_type": "code",
   "execution_count": 10,
   "metadata": {},
   "outputs": [
    {
     "data": {
      "text/html": [
       "<table class=\"simpletable\">\n",
       "<caption>Generalized Linear Model Regression Results</caption>\n",
       "<tr>\n",
       "  <th>Dep. Variable:</th>         <td>mdvis</td>      <th>  No. Observations:  </th>  <td> 20190</td> \n",
       "</tr>\n",
       "<tr>\n",
       "  <th>Model:</th>                  <td>GLM</td>       <th>  Df Residuals:      </th>  <td> 20180</td> \n",
       "</tr>\n",
       "<tr>\n",
       "  <th>Model Family:</th>         <td>Poisson</td>     <th>  Df Model:          </th>  <td>     9</td> \n",
       "</tr>\n",
       "<tr>\n",
       "  <th>Link Function:</th>          <td>Log</td>       <th>  Scale:             </th> <td>  1.0000</td>\n",
       "</tr>\n",
       "<tr>\n",
       "  <th>Method:</th>                <td>IRLS</td>       <th>  Log-Likelihood:    </th> <td> -62420.</td>\n",
       "</tr>\n",
       "<tr>\n",
       "  <th>Date:</th>            <td>Sat, 12 Aug 2023</td> <th>  Deviance:          </th> <td>  83934.</td>\n",
       "</tr>\n",
       "<tr>\n",
       "  <th>Time:</th>                <td>06:20:14</td>     <th>  Pearson chi2:      </th> <td>1.27e+05</td>\n",
       "</tr>\n",
       "<tr>\n",
       "  <th>No. Iterations:</th>          <td>5</td>        <th>  Pseudo R-squ. (CS):</th>  <td>0.3422</td> \n",
       "</tr>\n",
       "<tr>\n",
       "  <th>Covariance Type:</th>     <td>nonrobust</td>    <th>                     </th>     <td> </td>   \n",
       "</tr>\n",
       "</table>\n",
       "<table class=\"simpletable\">\n",
       "<tr>\n",
       "      <td></td>         <th>coef</th>     <th>std err</th>      <th>z</th>      <th>P>|z|</th>  <th>[0.025</th>    <th>0.975]</th>  \n",
       "</tr>\n",
       "<tr>\n",
       "  <th>Intercept</th> <td>    0.7004</td> <td>    0.011</td> <td>   62.741</td> <td> 0.000</td> <td>    0.678</td> <td>    0.722</td>\n",
       "</tr>\n",
       "<tr>\n",
       "  <th>lncoins</th>   <td>   -0.0525</td> <td>    0.003</td> <td>  -18.216</td> <td> 0.000</td> <td>   -0.058</td> <td>   -0.047</td>\n",
       "</tr>\n",
       "<tr>\n",
       "  <th>idp</th>       <td>   -0.2471</td> <td>    0.011</td> <td>  -23.272</td> <td> 0.000</td> <td>   -0.268</td> <td>   -0.226</td>\n",
       "</tr>\n",
       "<tr>\n",
       "  <th>lpi</th>       <td>    0.0353</td> <td>    0.002</td> <td>   19.302</td> <td> 0.000</td> <td>    0.032</td> <td>    0.039</td>\n",
       "</tr>\n",
       "<tr>\n",
       "  <th>fmde</th>      <td>   -0.0346</td> <td>    0.002</td> <td>  -21.439</td> <td> 0.000</td> <td>   -0.038</td> <td>   -0.031</td>\n",
       "</tr>\n",
       "<tr>\n",
       "  <th>physlm</th>    <td>    0.2717</td> <td>    0.012</td> <td>   22.200</td> <td> 0.000</td> <td>    0.248</td> <td>    0.296</td>\n",
       "</tr>\n",
       "<tr>\n",
       "  <th>disea</th>     <td>    0.0339</td> <td>    0.001</td> <td>   60.098</td> <td> 0.000</td> <td>    0.033</td> <td>    0.035</td>\n",
       "</tr>\n",
       "<tr>\n",
       "  <th>hlthg</th>     <td>   -0.0126</td> <td>    0.009</td> <td>   -1.366</td> <td> 0.172</td> <td>   -0.031</td> <td>    0.005</td>\n",
       "</tr>\n",
       "<tr>\n",
       "  <th>hlthf</th>     <td>    0.0541</td> <td>    0.015</td> <td>    3.531</td> <td> 0.000</td> <td>    0.024</td> <td>    0.084</td>\n",
       "</tr>\n",
       "<tr>\n",
       "  <th>hlthp</th>     <td>    0.2061</td> <td>    0.026</td> <td>    7.843</td> <td> 0.000</td> <td>    0.155</td> <td>    0.258</td>\n",
       "</tr>\n",
       "</table>"
      ],
      "text/latex": [
       "\\begin{center}\n",
       "\\begin{tabular}{lclc}\n",
       "\\toprule\n",
       "\\textbf{Dep. Variable:}   &      mdvis       & \\textbf{  No. Observations:  } &    20190    \\\\\n",
       "\\textbf{Model:}           &       GLM        & \\textbf{  Df Residuals:      } &    20180    \\\\\n",
       "\\textbf{Model Family:}    &     Poisson      & \\textbf{  Df Model:          } &        9    \\\\\n",
       "\\textbf{Link Function:}   &       Log        & \\textbf{  Scale:             } &    1.0000   \\\\\n",
       "\\textbf{Method:}          &       IRLS       & \\textbf{  Log-Likelihood:    } &   -62420.   \\\\\n",
       "\\textbf{Date:}            & Sat, 12 Aug 2023 & \\textbf{  Deviance:          } &    83934.   \\\\\n",
       "\\textbf{Time:}            &     06:20:14     & \\textbf{  Pearson chi2:      } &  1.27e+05   \\\\\n",
       "\\textbf{No. Iterations:}  &        5         & \\textbf{  Pseudo R-squ. (CS):} &   0.3422    \\\\\n",
       "\\textbf{Covariance Type:} &    nonrobust     & \\textbf{                     } &             \\\\\n",
       "\\bottomrule\n",
       "\\end{tabular}\n",
       "\\begin{tabular}{lcccccc}\n",
       "                   & \\textbf{coef} & \\textbf{std err} & \\textbf{z} & \\textbf{P$> |$z$|$} & \\textbf{[0.025} & \\textbf{0.975]}  \\\\\n",
       "\\midrule\n",
       "\\textbf{Intercept} &       0.7004  &        0.011     &    62.741  &         0.000        &        0.678    &        0.722     \\\\\n",
       "\\textbf{lncoins}   &      -0.0525  &        0.003     &   -18.216  &         0.000        &       -0.058    &       -0.047     \\\\\n",
       "\\textbf{idp}       &      -0.2471  &        0.011     &   -23.272  &         0.000        &       -0.268    &       -0.226     \\\\\n",
       "\\textbf{lpi}       &       0.0353  &        0.002     &    19.302  &         0.000        &        0.032    &        0.039     \\\\\n",
       "\\textbf{fmde}      &      -0.0346  &        0.002     &   -21.439  &         0.000        &       -0.038    &       -0.031     \\\\\n",
       "\\textbf{physlm}    &       0.2717  &        0.012     &    22.200  &         0.000        &        0.248    &        0.296     \\\\\n",
       "\\textbf{disea}     &       0.0339  &        0.001     &    60.098  &         0.000        &        0.033    &        0.035     \\\\\n",
       "\\textbf{hlthg}     &      -0.0126  &        0.009     &    -1.366  &         0.172        &       -0.031    &        0.005     \\\\\n",
       "\\textbf{hlthf}     &       0.0541  &        0.015     &     3.531  &         0.000        &        0.024    &        0.084     \\\\\n",
       "\\textbf{hlthp}     &       0.2061  &        0.026     &     7.843  &         0.000        &        0.155    &        0.258     \\\\\n",
       "\\bottomrule\n",
       "\\end{tabular}\n",
       "%\\caption{Generalized Linear Model Regression Results}\n",
       "\\end{center}"
      ],
      "text/plain": [
       "<class 'statsmodels.iolib.summary.Summary'>\n",
       "\"\"\"\n",
       "                 Generalized Linear Model Regression Results                  \n",
       "==============================================================================\n",
       "Dep. Variable:                  mdvis   No. Observations:                20190\n",
       "Model:                            GLM   Df Residuals:                    20180\n",
       "Model Family:                 Poisson   Df Model:                            9\n",
       "Link Function:                    Log   Scale:                          1.0000\n",
       "Method:                          IRLS   Log-Likelihood:                -62420.\n",
       "Date:                Sat, 12 Aug 2023   Deviance:                       83934.\n",
       "Time:                        06:20:14   Pearson chi2:                 1.27e+05\n",
       "No. Iterations:                     5   Pseudo R-squ. (CS):             0.3422\n",
       "Covariance Type:            nonrobust                                         \n",
       "==============================================================================\n",
       "                 coef    std err          z      P>|z|      [0.025      0.975]\n",
       "------------------------------------------------------------------------------\n",
       "Intercept      0.7004      0.011     62.741      0.000       0.678       0.722\n",
       "lncoins       -0.0525      0.003    -18.216      0.000      -0.058      -0.047\n",
       "idp           -0.2471      0.011    -23.272      0.000      -0.268      -0.226\n",
       "lpi            0.0353      0.002     19.302      0.000       0.032       0.039\n",
       "fmde          -0.0346      0.002    -21.439      0.000      -0.038      -0.031\n",
       "physlm         0.2717      0.012     22.200      0.000       0.248       0.296\n",
       "disea          0.0339      0.001     60.098      0.000       0.033       0.035\n",
       "hlthg         -0.0126      0.009     -1.366      0.172      -0.031       0.005\n",
       "hlthf          0.0541      0.015      3.531      0.000       0.024       0.084\n",
       "hlthp          0.2061      0.026      7.843      0.000       0.155       0.258\n",
       "==============================================================================\n",
       "\"\"\""
      ]
     },
     "execution_count": 10,
     "metadata": {},
     "output_type": "execute_result"
    }
   ],
   "source": [
    "sm_pois_fit.summary()"
   ]
  },
  {
   "cell_type": "code",
   "execution_count": 11,
   "metadata": {},
   "outputs": [],
   "source": [
    "ll_pois_model = ll.glm(randhie, formula, lik=ll.lik.poisson())"
   ]
  },
  {
   "cell_type": "code",
   "execution_count": 12,
   "metadata": {},
   "outputs": [],
   "source": [
    "ll_pois_fit = ll_pois_model.fit()"
   ]
  },
  {
   "cell_type": "code",
   "execution_count": 13,
   "metadata": {},
   "outputs": [
    {
     "data": {
      "text/plain": [
       "-62419.58856444893"
      ]
     },
     "execution_count": 13,
     "metadata": {},
     "output_type": "execute_result"
    }
   ],
   "source": [
    "ll_pois_fit.loglik"
   ]
  },
  {
   "cell_type": "code",
   "execution_count": 14,
   "metadata": {},
   "outputs": [
    {
     "data": {
      "text/plain": [
       "mu  Intercept    0.700353\n",
       "    lncoins     -0.052535\n",
       "    idp         -0.247087\n",
       "    lpi          0.035290\n",
       "    fmde        -0.034578\n",
       "    physlm       0.271714\n",
       "    disea        0.033941\n",
       "    hlthg       -0.012635\n",
       "    hlthf        0.054056\n",
       "    hlthp        0.206115\n",
       "dtype: float64"
      ]
     },
     "execution_count": 14,
     "metadata": {},
     "output_type": "execute_result"
    }
   ],
   "source": [
    "ll_pois_fit.beta_grouped"
   ]
  },
  {
   "cell_type": "markdown",
   "metadata": {},
   "source": [
    "Note that statsmodels does not include the softplusinv link function, so we can't easily compare."
   ]
  },
  {
   "cell_type": "code",
   "execution_count": 15,
   "metadata": {},
   "outputs": [],
   "source": [
    "ll_pois_softmax_model = ll.glm(randhie, formula, lik=ll.lik.poisson(ll.link.softplusinv))"
   ]
  },
  {
   "cell_type": "code",
   "execution_count": 16,
   "metadata": {},
   "outputs": [],
   "source": [
    "ll_pois_softmax_fit = ll_pois_softmax_model.fit()"
   ]
  },
  {
   "cell_type": "code",
   "execution_count": 17,
   "metadata": {},
   "outputs": [
    {
     "data": {
      "text/plain": [
       "-62357.706991445295"
      ]
     },
     "execution_count": 17,
     "metadata": {},
     "output_type": "execute_result"
    }
   ],
   "source": [
    "ll_pois_softmax_fit.loglik"
   ]
  },
  {
   "cell_type": "code",
   "execution_count": 18,
   "metadata": {},
   "outputs": [
    {
     "data": {
      "text/plain": [
       "mu  Intercept    1.672007\n",
       "    lncoins     -0.179115\n",
       "    idp         -0.806327\n",
       "    lpi          0.120109\n",
       "    fmde        -0.111938\n",
       "    physlm       1.038660\n",
       "    disea        0.123859\n",
       "    hlthg       -0.122138\n",
       "    hlthf        0.089108\n",
       "    hlthp        1.124529\n",
       "dtype: float64"
      ]
     },
     "execution_count": 18,
     "metadata": {},
     "output_type": "execute_result"
    }
   ],
   "source": [
    "ll_pois_softmax_fit.beta_grouped"
   ]
  }
 ],
 "metadata": {
  "kernelspec": {
   "display_name": ".venv",
   "language": "python",
   "name": "python3"
  },
  "language_info": {
   "codemirror_mode": {
    "name": "ipython",
    "version": 3
   },
   "file_extension": ".py",
   "mimetype": "text/x-python",
   "name": "python",
   "nbconvert_exporter": "python",
   "pygments_lexer": "ipython3",
   "version": "3.11.3"
  },
  "orig_nbformat": 4
 },
 "nbformat": 4,
 "nbformat_minor": 2
}
