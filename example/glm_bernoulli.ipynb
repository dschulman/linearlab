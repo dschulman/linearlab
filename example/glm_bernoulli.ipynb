{
 "cells": [
  {
   "attachments": {},
   "cell_type": "markdown",
   "metadata": {},
   "source": [
    "Reproducing the logit and probit models from https://www.statsmodels.org/stable/examples/notebooks/generated/discrete_choice_overview.html"
   ]
  },
  {
   "cell_type": "code",
   "execution_count": 1,
   "metadata": {},
   "outputs": [],
   "source": [
    "import statsmodels.api as sm\n",
    "import statsmodels.formula.api as smf"
   ]
  },
  {
   "cell_type": "code",
   "execution_count": 2,
   "metadata": {},
   "outputs": [],
   "source": [
    "spector = sm.datasets.spector.load().data"
   ]
  },
  {
   "cell_type": "code",
   "execution_count": 3,
   "metadata": {},
   "outputs": [
    {
     "data": {
      "text/html": [
       "<div>\n",
       "<style scoped>\n",
       "    .dataframe tbody tr th:only-of-type {\n",
       "        vertical-align: middle;\n",
       "    }\n",
       "\n",
       "    .dataframe tbody tr th {\n",
       "        vertical-align: top;\n",
       "    }\n",
       "\n",
       "    .dataframe thead th {\n",
       "        text-align: right;\n",
       "    }\n",
       "</style>\n",
       "<table border=\"1\" class=\"dataframe\">\n",
       "  <thead>\n",
       "    <tr style=\"text-align: right;\">\n",
       "      <th></th>\n",
       "      <th>GPA</th>\n",
       "      <th>TUCE</th>\n",
       "      <th>PSI</th>\n",
       "      <th>GRADE</th>\n",
       "    </tr>\n",
       "  </thead>\n",
       "  <tbody>\n",
       "    <tr>\n",
       "      <th>0</th>\n",
       "      <td>2.66</td>\n",
       "      <td>20.0</td>\n",
       "      <td>0.0</td>\n",
       "      <td>0.0</td>\n",
       "    </tr>\n",
       "    <tr>\n",
       "      <th>1</th>\n",
       "      <td>2.89</td>\n",
       "      <td>22.0</td>\n",
       "      <td>0.0</td>\n",
       "      <td>0.0</td>\n",
       "    </tr>\n",
       "    <tr>\n",
       "      <th>2</th>\n",
       "      <td>3.28</td>\n",
       "      <td>24.0</td>\n",
       "      <td>0.0</td>\n",
       "      <td>0.0</td>\n",
       "    </tr>\n",
       "    <tr>\n",
       "      <th>3</th>\n",
       "      <td>2.92</td>\n",
       "      <td>12.0</td>\n",
       "      <td>0.0</td>\n",
       "      <td>0.0</td>\n",
       "    </tr>\n",
       "    <tr>\n",
       "      <th>4</th>\n",
       "      <td>4.00</td>\n",
       "      <td>21.0</td>\n",
       "      <td>0.0</td>\n",
       "      <td>1.0</td>\n",
       "    </tr>\n",
       "    <tr>\n",
       "      <th>5</th>\n",
       "      <td>2.86</td>\n",
       "      <td>17.0</td>\n",
       "      <td>0.0</td>\n",
       "      <td>0.0</td>\n",
       "    </tr>\n",
       "    <tr>\n",
       "      <th>6</th>\n",
       "      <td>2.76</td>\n",
       "      <td>17.0</td>\n",
       "      <td>0.0</td>\n",
       "      <td>0.0</td>\n",
       "    </tr>\n",
       "    <tr>\n",
       "      <th>7</th>\n",
       "      <td>2.87</td>\n",
       "      <td>21.0</td>\n",
       "      <td>0.0</td>\n",
       "      <td>0.0</td>\n",
       "    </tr>\n",
       "    <tr>\n",
       "      <th>8</th>\n",
       "      <td>3.03</td>\n",
       "      <td>25.0</td>\n",
       "      <td>0.0</td>\n",
       "      <td>0.0</td>\n",
       "    </tr>\n",
       "    <tr>\n",
       "      <th>9</th>\n",
       "      <td>3.92</td>\n",
       "      <td>29.0</td>\n",
       "      <td>0.0</td>\n",
       "      <td>1.0</td>\n",
       "    </tr>\n",
       "    <tr>\n",
       "      <th>10</th>\n",
       "      <td>2.63</td>\n",
       "      <td>20.0</td>\n",
       "      <td>0.0</td>\n",
       "      <td>0.0</td>\n",
       "    </tr>\n",
       "    <tr>\n",
       "      <th>11</th>\n",
       "      <td>3.32</td>\n",
       "      <td>23.0</td>\n",
       "      <td>0.0</td>\n",
       "      <td>0.0</td>\n",
       "    </tr>\n",
       "    <tr>\n",
       "      <th>12</th>\n",
       "      <td>3.57</td>\n",
       "      <td>23.0</td>\n",
       "      <td>0.0</td>\n",
       "      <td>0.0</td>\n",
       "    </tr>\n",
       "    <tr>\n",
       "      <th>13</th>\n",
       "      <td>3.26</td>\n",
       "      <td>25.0</td>\n",
       "      <td>0.0</td>\n",
       "      <td>1.0</td>\n",
       "    </tr>\n",
       "    <tr>\n",
       "      <th>14</th>\n",
       "      <td>3.53</td>\n",
       "      <td>26.0</td>\n",
       "      <td>0.0</td>\n",
       "      <td>0.0</td>\n",
       "    </tr>\n",
       "    <tr>\n",
       "      <th>15</th>\n",
       "      <td>2.74</td>\n",
       "      <td>19.0</td>\n",
       "      <td>0.0</td>\n",
       "      <td>0.0</td>\n",
       "    </tr>\n",
       "    <tr>\n",
       "      <th>16</th>\n",
       "      <td>2.75</td>\n",
       "      <td>25.0</td>\n",
       "      <td>0.0</td>\n",
       "      <td>0.0</td>\n",
       "    </tr>\n",
       "    <tr>\n",
       "      <th>17</th>\n",
       "      <td>2.83</td>\n",
       "      <td>19.0</td>\n",
       "      <td>0.0</td>\n",
       "      <td>0.0</td>\n",
       "    </tr>\n",
       "    <tr>\n",
       "      <th>18</th>\n",
       "      <td>3.12</td>\n",
       "      <td>23.0</td>\n",
       "      <td>1.0</td>\n",
       "      <td>0.0</td>\n",
       "    </tr>\n",
       "    <tr>\n",
       "      <th>19</th>\n",
       "      <td>3.16</td>\n",
       "      <td>25.0</td>\n",
       "      <td>1.0</td>\n",
       "      <td>1.0</td>\n",
       "    </tr>\n",
       "    <tr>\n",
       "      <th>20</th>\n",
       "      <td>2.06</td>\n",
       "      <td>22.0</td>\n",
       "      <td>1.0</td>\n",
       "      <td>0.0</td>\n",
       "    </tr>\n",
       "    <tr>\n",
       "      <th>21</th>\n",
       "      <td>3.62</td>\n",
       "      <td>28.0</td>\n",
       "      <td>1.0</td>\n",
       "      <td>1.0</td>\n",
       "    </tr>\n",
       "    <tr>\n",
       "      <th>22</th>\n",
       "      <td>2.89</td>\n",
       "      <td>14.0</td>\n",
       "      <td>1.0</td>\n",
       "      <td>0.0</td>\n",
       "    </tr>\n",
       "    <tr>\n",
       "      <th>23</th>\n",
       "      <td>3.51</td>\n",
       "      <td>26.0</td>\n",
       "      <td>1.0</td>\n",
       "      <td>0.0</td>\n",
       "    </tr>\n",
       "    <tr>\n",
       "      <th>24</th>\n",
       "      <td>3.54</td>\n",
       "      <td>24.0</td>\n",
       "      <td>1.0</td>\n",
       "      <td>1.0</td>\n",
       "    </tr>\n",
       "    <tr>\n",
       "      <th>25</th>\n",
       "      <td>2.83</td>\n",
       "      <td>27.0</td>\n",
       "      <td>1.0</td>\n",
       "      <td>1.0</td>\n",
       "    </tr>\n",
       "    <tr>\n",
       "      <th>26</th>\n",
       "      <td>3.39</td>\n",
       "      <td>17.0</td>\n",
       "      <td>1.0</td>\n",
       "      <td>1.0</td>\n",
       "    </tr>\n",
       "    <tr>\n",
       "      <th>27</th>\n",
       "      <td>2.67</td>\n",
       "      <td>24.0</td>\n",
       "      <td>1.0</td>\n",
       "      <td>0.0</td>\n",
       "    </tr>\n",
       "    <tr>\n",
       "      <th>28</th>\n",
       "      <td>3.65</td>\n",
       "      <td>21.0</td>\n",
       "      <td>1.0</td>\n",
       "      <td>1.0</td>\n",
       "    </tr>\n",
       "    <tr>\n",
       "      <th>29</th>\n",
       "      <td>4.00</td>\n",
       "      <td>23.0</td>\n",
       "      <td>1.0</td>\n",
       "      <td>1.0</td>\n",
       "    </tr>\n",
       "    <tr>\n",
       "      <th>30</th>\n",
       "      <td>3.10</td>\n",
       "      <td>21.0</td>\n",
       "      <td>1.0</td>\n",
       "      <td>0.0</td>\n",
       "    </tr>\n",
       "    <tr>\n",
       "      <th>31</th>\n",
       "      <td>2.39</td>\n",
       "      <td>19.0</td>\n",
       "      <td>1.0</td>\n",
       "      <td>1.0</td>\n",
       "    </tr>\n",
       "  </tbody>\n",
       "</table>\n",
       "</div>"
      ],
      "text/plain": [
       "     GPA  TUCE  PSI  GRADE\n",
       "0   2.66  20.0  0.0    0.0\n",
       "1   2.89  22.0  0.0    0.0\n",
       "2   3.28  24.0  0.0    0.0\n",
       "3   2.92  12.0  0.0    0.0\n",
       "4   4.00  21.0  0.0    1.0\n",
       "5   2.86  17.0  0.0    0.0\n",
       "6   2.76  17.0  0.0    0.0\n",
       "7   2.87  21.0  0.0    0.0\n",
       "8   3.03  25.0  0.0    0.0\n",
       "9   3.92  29.0  0.0    1.0\n",
       "10  2.63  20.0  0.0    0.0\n",
       "11  3.32  23.0  0.0    0.0\n",
       "12  3.57  23.0  0.0    0.0\n",
       "13  3.26  25.0  0.0    1.0\n",
       "14  3.53  26.0  0.0    0.0\n",
       "15  2.74  19.0  0.0    0.0\n",
       "16  2.75  25.0  0.0    0.0\n",
       "17  2.83  19.0  0.0    0.0\n",
       "18  3.12  23.0  1.0    0.0\n",
       "19  3.16  25.0  1.0    1.0\n",
       "20  2.06  22.0  1.0    0.0\n",
       "21  3.62  28.0  1.0    1.0\n",
       "22  2.89  14.0  1.0    0.0\n",
       "23  3.51  26.0  1.0    0.0\n",
       "24  3.54  24.0  1.0    1.0\n",
       "25  2.83  27.0  1.0    1.0\n",
       "26  3.39  17.0  1.0    1.0\n",
       "27  2.67  24.0  1.0    0.0\n",
       "28  3.65  21.0  1.0    1.0\n",
       "29  4.00  23.0  1.0    1.0\n",
       "30  3.10  21.0  1.0    0.0\n",
       "31  2.39  19.0  1.0    1.0"
      ]
     },
     "execution_count": 3,
     "metadata": {},
     "output_type": "execute_result"
    }
   ],
   "source": [
    "spector"
   ]
  },
  {
   "cell_type": "code",
   "execution_count": 4,
   "metadata": {},
   "outputs": [],
   "source": [
    "sm_logit_model = smf.logit(\"GRADE ~ GPA + TUCE + PSI\", spector)"
   ]
  },
  {
   "cell_type": "code",
   "execution_count": 5,
   "metadata": {},
   "outputs": [
    {
     "name": "stdout",
     "output_type": "stream",
     "text": [
      "Optimization terminated successfully.\n",
      "         Current function value: 0.402801\n",
      "         Iterations 7\n"
     ]
    }
   ],
   "source": [
    "sm_logit_fit = sm_logit_model.fit()"
   ]
  },
  {
   "cell_type": "code",
   "execution_count": 6,
   "metadata": {},
   "outputs": [
    {
     "data": {
      "text/html": [
       "<table class=\"simpletable\">\n",
       "<caption>Logit Regression Results</caption>\n",
       "<tr>\n",
       "  <th>Dep. Variable:</th>         <td>GRADE</td>      <th>  No. Observations:  </th>  <td>    32</td> \n",
       "</tr>\n",
       "<tr>\n",
       "  <th>Model:</th>                 <td>Logit</td>      <th>  Df Residuals:      </th>  <td>    28</td> \n",
       "</tr>\n",
       "<tr>\n",
       "  <th>Method:</th>                 <td>MLE</td>       <th>  Df Model:          </th>  <td>     3</td> \n",
       "</tr>\n",
       "<tr>\n",
       "  <th>Date:</th>            <td>Mon, 07 Aug 2023</td> <th>  Pseudo R-squ.:     </th>  <td>0.3740</td> \n",
       "</tr>\n",
       "<tr>\n",
       "  <th>Time:</th>                <td>07:01:15</td>     <th>  Log-Likelihood:    </th> <td> -12.890</td>\n",
       "</tr>\n",
       "<tr>\n",
       "  <th>converged:</th>             <td>True</td>       <th>  LL-Null:           </th> <td> -20.592</td>\n",
       "</tr>\n",
       "<tr>\n",
       "  <th>Covariance Type:</th>     <td>nonrobust</td>    <th>  LLR p-value:       </th> <td>0.001502</td>\n",
       "</tr>\n",
       "</table>\n",
       "<table class=\"simpletable\">\n",
       "<tr>\n",
       "      <td></td>         <th>coef</th>     <th>std err</th>      <th>z</th>      <th>P>|z|</th>  <th>[0.025</th>    <th>0.975]</th>  \n",
       "</tr>\n",
       "<tr>\n",
       "  <th>Intercept</th> <td>  -13.0213</td> <td>    4.931</td> <td>   -2.641</td> <td> 0.008</td> <td>  -22.687</td> <td>   -3.356</td>\n",
       "</tr>\n",
       "<tr>\n",
       "  <th>GPA</th>       <td>    2.8261</td> <td>    1.263</td> <td>    2.238</td> <td> 0.025</td> <td>    0.351</td> <td>    5.301</td>\n",
       "</tr>\n",
       "<tr>\n",
       "  <th>TUCE</th>      <td>    0.0952</td> <td>    0.142</td> <td>    0.672</td> <td> 0.501</td> <td>   -0.182</td> <td>    0.373</td>\n",
       "</tr>\n",
       "<tr>\n",
       "  <th>PSI</th>       <td>    2.3787</td> <td>    1.065</td> <td>    2.234</td> <td> 0.025</td> <td>    0.292</td> <td>    4.465</td>\n",
       "</tr>\n",
       "</table>"
      ],
      "text/latex": [
       "\\begin{center}\n",
       "\\begin{tabular}{lclc}\n",
       "\\toprule\n",
       "\\textbf{Dep. Variable:}   &      GRADE       & \\textbf{  No. Observations:  } &       32    \\\\\n",
       "\\textbf{Model:}           &      Logit       & \\textbf{  Df Residuals:      } &       28    \\\\\n",
       "\\textbf{Method:}          &       MLE        & \\textbf{  Df Model:          } &        3    \\\\\n",
       "\\textbf{Date:}            & Mon, 07 Aug 2023 & \\textbf{  Pseudo R-squ.:     } &   0.3740    \\\\\n",
       "\\textbf{Time:}            &     07:01:15     & \\textbf{  Log-Likelihood:    } &   -12.890   \\\\\n",
       "\\textbf{converged:}       &       True       & \\textbf{  LL-Null:           } &   -20.592   \\\\\n",
       "\\textbf{Covariance Type:} &    nonrobust     & \\textbf{  LLR p-value:       } &  0.001502   \\\\\n",
       "\\bottomrule\n",
       "\\end{tabular}\n",
       "\\begin{tabular}{lcccccc}\n",
       "                   & \\textbf{coef} & \\textbf{std err} & \\textbf{z} & \\textbf{P$> |$z$|$} & \\textbf{[0.025} & \\textbf{0.975]}  \\\\\n",
       "\\midrule\n",
       "\\textbf{Intercept} &     -13.0213  &        4.931     &    -2.641  &         0.008        &      -22.687    &       -3.356     \\\\\n",
       "\\textbf{GPA}       &       2.8261  &        1.263     &     2.238  &         0.025        &        0.351    &        5.301     \\\\\n",
       "\\textbf{TUCE}      &       0.0952  &        0.142     &     0.672  &         0.501        &       -0.182    &        0.373     \\\\\n",
       "\\textbf{PSI}       &       2.3787  &        1.065     &     2.234  &         0.025        &        0.292    &        4.465     \\\\\n",
       "\\bottomrule\n",
       "\\end{tabular}\n",
       "%\\caption{Logit Regression Results}\n",
       "\\end{center}"
      ],
      "text/plain": [
       "<class 'statsmodels.iolib.summary.Summary'>\n",
       "\"\"\"\n",
       "                           Logit Regression Results                           \n",
       "==============================================================================\n",
       "Dep. Variable:                  GRADE   No. Observations:                   32\n",
       "Model:                          Logit   Df Residuals:                       28\n",
       "Method:                           MLE   Df Model:                            3\n",
       "Date:                Mon, 07 Aug 2023   Pseudo R-squ.:                  0.3740\n",
       "Time:                        07:01:15   Log-Likelihood:                -12.890\n",
       "converged:                       True   LL-Null:                       -20.592\n",
       "Covariance Type:            nonrobust   LLR p-value:                  0.001502\n",
       "==============================================================================\n",
       "                 coef    std err          z      P>|z|      [0.025      0.975]\n",
       "------------------------------------------------------------------------------\n",
       "Intercept    -13.0213      4.931     -2.641      0.008     -22.687      -3.356\n",
       "GPA            2.8261      1.263      2.238      0.025       0.351       5.301\n",
       "TUCE           0.0952      0.142      0.672      0.501      -0.182       0.373\n",
       "PSI            2.3787      1.065      2.234      0.025       0.292       4.465\n",
       "==============================================================================\n",
       "\"\"\""
      ]
     },
     "execution_count": 6,
     "metadata": {},
     "output_type": "execute_result"
    }
   ],
   "source": [
    "sm_logit_fit.summary()"
   ]
  },
  {
   "cell_type": "code",
   "execution_count": 7,
   "metadata": {},
   "outputs": [],
   "source": [
    "sm_probit_model = smf.probit(\"GRADE ~ GPA + TUCE + PSI\", spector)"
   ]
  },
  {
   "cell_type": "code",
   "execution_count": 8,
   "metadata": {},
   "outputs": [
    {
     "name": "stdout",
     "output_type": "stream",
     "text": [
      "Optimization terminated successfully.\n",
      "         Current function value: 0.400588\n",
      "         Iterations 6\n"
     ]
    }
   ],
   "source": [
    "sm_probit_fit = sm_probit_model.fit()"
   ]
  },
  {
   "cell_type": "code",
   "execution_count": 9,
   "metadata": {},
   "outputs": [
    {
     "data": {
      "text/html": [
       "<table class=\"simpletable\">\n",
       "<caption>Probit Regression Results</caption>\n",
       "<tr>\n",
       "  <th>Dep. Variable:</th>         <td>GRADE</td>      <th>  No. Observations:  </th>  <td>    32</td> \n",
       "</tr>\n",
       "<tr>\n",
       "  <th>Model:</th>                <td>Probit</td>      <th>  Df Residuals:      </th>  <td>    28</td> \n",
       "</tr>\n",
       "<tr>\n",
       "  <th>Method:</th>                 <td>MLE</td>       <th>  Df Model:          </th>  <td>     3</td> \n",
       "</tr>\n",
       "<tr>\n",
       "  <th>Date:</th>            <td>Mon, 07 Aug 2023</td> <th>  Pseudo R-squ.:     </th>  <td>0.3775</td> \n",
       "</tr>\n",
       "<tr>\n",
       "  <th>Time:</th>                <td>07:01:15</td>     <th>  Log-Likelihood:    </th> <td> -12.819</td>\n",
       "</tr>\n",
       "<tr>\n",
       "  <th>converged:</th>             <td>True</td>       <th>  LL-Null:           </th> <td> -20.592</td>\n",
       "</tr>\n",
       "<tr>\n",
       "  <th>Covariance Type:</th>     <td>nonrobust</td>    <th>  LLR p-value:       </th> <td>0.001405</td>\n",
       "</tr>\n",
       "</table>\n",
       "<table class=\"simpletable\">\n",
       "<tr>\n",
       "      <td></td>         <th>coef</th>     <th>std err</th>      <th>z</th>      <th>P>|z|</th>  <th>[0.025</th>    <th>0.975]</th>  \n",
       "</tr>\n",
       "<tr>\n",
       "  <th>Intercept</th> <td>   -7.4523</td> <td>    2.542</td> <td>   -2.931</td> <td> 0.003</td> <td>  -12.435</td> <td>   -2.469</td>\n",
       "</tr>\n",
       "<tr>\n",
       "  <th>GPA</th>       <td>    1.6258</td> <td>    0.694</td> <td>    2.343</td> <td> 0.019</td> <td>    0.266</td> <td>    2.986</td>\n",
       "</tr>\n",
       "<tr>\n",
       "  <th>TUCE</th>      <td>    0.0517</td> <td>    0.084</td> <td>    0.617</td> <td> 0.537</td> <td>   -0.113</td> <td>    0.216</td>\n",
       "</tr>\n",
       "<tr>\n",
       "  <th>PSI</th>       <td>    1.4263</td> <td>    0.595</td> <td>    2.397</td> <td> 0.017</td> <td>    0.260</td> <td>    2.593</td>\n",
       "</tr>\n",
       "</table>"
      ],
      "text/latex": [
       "\\begin{center}\n",
       "\\begin{tabular}{lclc}\n",
       "\\toprule\n",
       "\\textbf{Dep. Variable:}   &      GRADE       & \\textbf{  No. Observations:  } &       32    \\\\\n",
       "\\textbf{Model:}           &      Probit      & \\textbf{  Df Residuals:      } &       28    \\\\\n",
       "\\textbf{Method:}          &       MLE        & \\textbf{  Df Model:          } &        3    \\\\\n",
       "\\textbf{Date:}            & Mon, 07 Aug 2023 & \\textbf{  Pseudo R-squ.:     } &   0.3775    \\\\\n",
       "\\textbf{Time:}            &     07:01:15     & \\textbf{  Log-Likelihood:    } &   -12.819   \\\\\n",
       "\\textbf{converged:}       &       True       & \\textbf{  LL-Null:           } &   -20.592   \\\\\n",
       "\\textbf{Covariance Type:} &    nonrobust     & \\textbf{  LLR p-value:       } &  0.001405   \\\\\n",
       "\\bottomrule\n",
       "\\end{tabular}\n",
       "\\begin{tabular}{lcccccc}\n",
       "                   & \\textbf{coef} & \\textbf{std err} & \\textbf{z} & \\textbf{P$> |$z$|$} & \\textbf{[0.025} & \\textbf{0.975]}  \\\\\n",
       "\\midrule\n",
       "\\textbf{Intercept} &      -7.4523  &        2.542     &    -2.931  &         0.003        &      -12.435    &       -2.469     \\\\\n",
       "\\textbf{GPA}       &       1.6258  &        0.694     &     2.343  &         0.019        &        0.266    &        2.986     \\\\\n",
       "\\textbf{TUCE}      &       0.0517  &        0.084     &     0.617  &         0.537        &       -0.113    &        0.216     \\\\\n",
       "\\textbf{PSI}       &       1.4263  &        0.595     &     2.397  &         0.017        &        0.260    &        2.593     \\\\\n",
       "\\bottomrule\n",
       "\\end{tabular}\n",
       "%\\caption{Probit Regression Results}\n",
       "\\end{center}"
      ],
      "text/plain": [
       "<class 'statsmodels.iolib.summary.Summary'>\n",
       "\"\"\"\n",
       "                          Probit Regression Results                           \n",
       "==============================================================================\n",
       "Dep. Variable:                  GRADE   No. Observations:                   32\n",
       "Model:                         Probit   Df Residuals:                       28\n",
       "Method:                           MLE   Df Model:                            3\n",
       "Date:                Mon, 07 Aug 2023   Pseudo R-squ.:                  0.3775\n",
       "Time:                        07:01:15   Log-Likelihood:                -12.819\n",
       "converged:                       True   LL-Null:                       -20.592\n",
       "Covariance Type:            nonrobust   LLR p-value:                  0.001405\n",
       "==============================================================================\n",
       "                 coef    std err          z      P>|z|      [0.025      0.975]\n",
       "------------------------------------------------------------------------------\n",
       "Intercept     -7.4523      2.542     -2.931      0.003     -12.435      -2.469\n",
       "GPA            1.6258      0.694      2.343      0.019       0.266       2.986\n",
       "TUCE           0.0517      0.084      0.617      0.537      -0.113       0.216\n",
       "PSI            1.4263      0.595      2.397      0.017       0.260       2.593\n",
       "==============================================================================\n",
       "\"\"\""
      ]
     },
     "execution_count": 9,
     "metadata": {},
     "output_type": "execute_result"
    }
   ],
   "source": [
    "sm_probit_fit.summary()"
   ]
  },
  {
   "cell_type": "code",
   "execution_count": 10,
   "metadata": {},
   "outputs": [],
   "source": [
    "sm_cauchit_model = smf.glm(\n",
    "    \"GRADE ~ GPA + TUCE + PSI\", spector, \n",
    "    family = sm.families.Binomial(link = sm.families.links.Cauchy())\n",
    ")"
   ]
  },
  {
   "cell_type": "code",
   "execution_count": 11,
   "metadata": {},
   "outputs": [],
   "source": [
    "sm_cauchit_fit = sm_cauchit_model.fit()"
   ]
  },
  {
   "cell_type": "code",
   "execution_count": 12,
   "metadata": {},
   "outputs": [
    {
     "data": {
      "text/html": [
       "<table class=\"simpletable\">\n",
       "<caption>Generalized Linear Model Regression Results</caption>\n",
       "<tr>\n",
       "  <th>Dep. Variable:</th>         <td>GRADE</td>      <th>  No. Observations:  </th>  <td>    32</td> \n",
       "</tr>\n",
       "<tr>\n",
       "  <th>Model:</th>                  <td>GLM</td>       <th>  Df Residuals:      </th>  <td>    28</td> \n",
       "</tr>\n",
       "<tr>\n",
       "  <th>Model Family:</th>        <td>Binomial</td>     <th>  Df Model:          </th>  <td>     3</td> \n",
       "</tr>\n",
       "<tr>\n",
       "  <th>Link Function:</th>        <td>Cauchy</td>      <th>  Scale:             </th> <td>  1.0000</td>\n",
       "</tr>\n",
       "<tr>\n",
       "  <th>Method:</th>                <td>IRLS</td>       <th>  Log-Likelihood:    </th> <td> -12.885</td>\n",
       "</tr>\n",
       "<tr>\n",
       "  <th>Date:</th>            <td>Mon, 07 Aug 2023</td> <th>  Deviance:          </th> <td>  25.771</td>\n",
       "</tr>\n",
       "<tr>\n",
       "  <th>Time:</th>                <td>07:01:16</td>     <th>  Pearson chi2:      </th>  <td>  32.5</td> \n",
       "</tr>\n",
       "<tr>\n",
       "  <th>No. Iterations:</th>         <td>14</td>        <th>  Pseudo R-squ. (CS):</th>  <td>0.3822</td> \n",
       "</tr>\n",
       "<tr>\n",
       "  <th>Covariance Type:</th>     <td>nonrobust</td>    <th>                     </th>     <td> </td>   \n",
       "</tr>\n",
       "</table>\n",
       "<table class=\"simpletable\">\n",
       "<tr>\n",
       "      <td></td>         <th>coef</th>     <th>std err</th>      <th>z</th>      <th>P>|z|</th>  <th>[0.025</th>    <th>0.975]</th>  \n",
       "</tr>\n",
       "<tr>\n",
       "  <th>Intercept</th> <td>  -21.3862</td> <td>   14.000</td> <td>   -1.528</td> <td> 0.127</td> <td>  -48.827</td> <td>    6.054</td>\n",
       "</tr>\n",
       "<tr>\n",
       "  <th>GPA</th>       <td>    4.4889</td> <td>    2.861</td> <td>    1.569</td> <td> 0.117</td> <td>   -1.118</td> <td>   10.096</td>\n",
       "</tr>\n",
       "<tr>\n",
       "  <th>TUCE</th>      <td>    0.1912</td> <td>    0.225</td> <td>    0.848</td> <td> 0.397</td> <td>   -0.251</td> <td>    0.633</td>\n",
       "</tr>\n",
       "<tr>\n",
       "  <th>PSI</th>       <td>    3.2985</td> <td>    2.172</td> <td>    1.518</td> <td> 0.129</td> <td>   -0.959</td> <td>    7.556</td>\n",
       "</tr>\n",
       "</table>"
      ],
      "text/latex": [
       "\\begin{center}\n",
       "\\begin{tabular}{lclc}\n",
       "\\toprule\n",
       "\\textbf{Dep. Variable:}   &      GRADE       & \\textbf{  No. Observations:  } &       32    \\\\\n",
       "\\textbf{Model:}           &       GLM        & \\textbf{  Df Residuals:      } &       28    \\\\\n",
       "\\textbf{Model Family:}    &     Binomial     & \\textbf{  Df Model:          } &        3    \\\\\n",
       "\\textbf{Link Function:}   &      Cauchy      & \\textbf{  Scale:             } &    1.0000   \\\\\n",
       "\\textbf{Method:}          &       IRLS       & \\textbf{  Log-Likelihood:    } &   -12.885   \\\\\n",
       "\\textbf{Date:}            & Mon, 07 Aug 2023 & \\textbf{  Deviance:          } &    25.771   \\\\\n",
       "\\textbf{Time:}            &     07:01:16     & \\textbf{  Pearson chi2:      } &     32.5    \\\\\n",
       "\\textbf{No. Iterations:}  &        14        & \\textbf{  Pseudo R-squ. (CS):} &   0.3822    \\\\\n",
       "\\textbf{Covariance Type:} &    nonrobust     & \\textbf{                     } &             \\\\\n",
       "\\bottomrule\n",
       "\\end{tabular}\n",
       "\\begin{tabular}{lcccccc}\n",
       "                   & \\textbf{coef} & \\textbf{std err} & \\textbf{z} & \\textbf{P$> |$z$|$} & \\textbf{[0.025} & \\textbf{0.975]}  \\\\\n",
       "\\midrule\n",
       "\\textbf{Intercept} &     -21.3862  &       14.000     &    -1.528  &         0.127        &      -48.827    &        6.054     \\\\\n",
       "\\textbf{GPA}       &       4.4889  &        2.861     &     1.569  &         0.117        &       -1.118    &       10.096     \\\\\n",
       "\\textbf{TUCE}      &       0.1912  &        0.225     &     0.848  &         0.397        &       -0.251    &        0.633     \\\\\n",
       "\\textbf{PSI}       &       3.2985  &        2.172     &     1.518  &         0.129        &       -0.959    &        7.556     \\\\\n",
       "\\bottomrule\n",
       "\\end{tabular}\n",
       "%\\caption{Generalized Linear Model Regression Results}\n",
       "\\end{center}"
      ],
      "text/plain": [
       "<class 'statsmodels.iolib.summary.Summary'>\n",
       "\"\"\"\n",
       "                 Generalized Linear Model Regression Results                  \n",
       "==============================================================================\n",
       "Dep. Variable:                  GRADE   No. Observations:                   32\n",
       "Model:                            GLM   Df Residuals:                       28\n",
       "Model Family:                Binomial   Df Model:                            3\n",
       "Link Function:                 Cauchy   Scale:                          1.0000\n",
       "Method:                          IRLS   Log-Likelihood:                -12.885\n",
       "Date:                Mon, 07 Aug 2023   Deviance:                       25.771\n",
       "Time:                        07:01:16   Pearson chi2:                     32.5\n",
       "No. Iterations:                    14   Pseudo R-squ. (CS):             0.3822\n",
       "Covariance Type:            nonrobust                                         \n",
       "==============================================================================\n",
       "                 coef    std err          z      P>|z|      [0.025      0.975]\n",
       "------------------------------------------------------------------------------\n",
       "Intercept    -21.3862     14.000     -1.528      0.127     -48.827       6.054\n",
       "GPA            4.4889      2.861      1.569      0.117      -1.118      10.096\n",
       "TUCE           0.1912      0.225      0.848      0.397      -0.251       0.633\n",
       "PSI            3.2985      2.172      1.518      0.129      -0.959       7.556\n",
       "==============================================================================\n",
       "\"\"\""
      ]
     },
     "execution_count": 12,
     "metadata": {},
     "output_type": "execute_result"
    }
   ],
   "source": [
    "sm_cauchit_fit.summary()"
   ]
  },
  {
   "cell_type": "code",
   "execution_count": 13,
   "metadata": {},
   "outputs": [],
   "source": [
    "sm_loglog_model = smf.glm(\n",
    "    \"GRADE ~ GPA + TUCE + PSI\", spector, \n",
    "    family = sm.families.Binomial(link = sm.families.links.LogLog())\n",
    ")"
   ]
  },
  {
   "cell_type": "code",
   "execution_count": 14,
   "metadata": {},
   "outputs": [],
   "source": [
    "sm_loglog_fit = sm_loglog_model.fit()"
   ]
  },
  {
   "cell_type": "code",
   "execution_count": 15,
   "metadata": {},
   "outputs": [
    {
     "data": {
      "text/html": [
       "<table class=\"simpletable\">\n",
       "<caption>Generalized Linear Model Regression Results</caption>\n",
       "<tr>\n",
       "  <th>Dep. Variable:</th>         <td>GRADE</td>      <th>  No. Observations:  </th>  <td>    32</td> \n",
       "</tr>\n",
       "<tr>\n",
       "  <th>Model:</th>                  <td>GLM</td>       <th>  Df Residuals:      </th>  <td>    28</td> \n",
       "</tr>\n",
       "<tr>\n",
       "  <th>Model Family:</th>        <td>Binomial</td>     <th>  Df Model:          </th>  <td>     3</td> \n",
       "</tr>\n",
       "<tr>\n",
       "  <th>Link Function:</th>        <td>LogLog</td>      <th>  Scale:             </th> <td>  1.0000</td>\n",
       "</tr>\n",
       "<tr>\n",
       "  <th>Method:</th>                <td>IRLS</td>       <th>  Log-Likelihood:    </th> <td> -12.707</td>\n",
       "</tr>\n",
       "<tr>\n",
       "  <th>Date:</th>            <td>Mon, 07 Aug 2023</td> <th>  Deviance:          </th> <td>  25.414</td>\n",
       "</tr>\n",
       "<tr>\n",
       "  <th>Time:</th>                <td>07:01:16</td>     <th>  Pearson chi2:      </th>  <td>  23.8</td> \n",
       "</tr>\n",
       "<tr>\n",
       "  <th>No. Iterations:</th>          <td>8</td>        <th>  Pseudo R-squ. (CS):</th>  <td>0.3891</td> \n",
       "</tr>\n",
       "<tr>\n",
       "  <th>Covariance Type:</th>     <td>nonrobust</td>    <th>                     </th>     <td> </td>   \n",
       "</tr>\n",
       "</table>\n",
       "<table class=\"simpletable\">\n",
       "<tr>\n",
       "      <td></td>         <th>coef</th>     <th>std err</th>      <th>z</th>      <th>P>|z|</th>  <th>[0.025</th>    <th>0.975]</th>  \n",
       "</tr>\n",
       "<tr>\n",
       "  <th>Intercept</th> <td>   -7.1405</td> <td>    2.686</td> <td>   -2.659</td> <td> 0.008</td> <td>  -12.404</td> <td>   -1.877</td>\n",
       "</tr>\n",
       "<tr>\n",
       "  <th>GPA</th>       <td>    1.5845</td> <td>    0.709</td> <td>    2.234</td> <td> 0.026</td> <td>    0.194</td> <td>    2.975</td>\n",
       "</tr>\n",
       "<tr>\n",
       "  <th>TUCE</th>      <td>    0.0602</td> <td>    0.090</td> <td>    0.673</td> <td> 0.501</td> <td>   -0.115</td> <td>    0.236</td>\n",
       "</tr>\n",
       "<tr>\n",
       "  <th>PSI</th>       <td>    1.6162</td> <td>    0.643</td> <td>    2.514</td> <td> 0.012</td> <td>    0.356</td> <td>    2.876</td>\n",
       "</tr>\n",
       "</table>"
      ],
      "text/latex": [
       "\\begin{center}\n",
       "\\begin{tabular}{lclc}\n",
       "\\toprule\n",
       "\\textbf{Dep. Variable:}   &      GRADE       & \\textbf{  No. Observations:  } &       32    \\\\\n",
       "\\textbf{Model:}           &       GLM        & \\textbf{  Df Residuals:      } &       28    \\\\\n",
       "\\textbf{Model Family:}    &     Binomial     & \\textbf{  Df Model:          } &        3    \\\\\n",
       "\\textbf{Link Function:}   &      LogLog      & \\textbf{  Scale:             } &    1.0000   \\\\\n",
       "\\textbf{Method:}          &       IRLS       & \\textbf{  Log-Likelihood:    } &   -12.707   \\\\\n",
       "\\textbf{Date:}            & Mon, 07 Aug 2023 & \\textbf{  Deviance:          } &    25.414   \\\\\n",
       "\\textbf{Time:}            &     07:01:16     & \\textbf{  Pearson chi2:      } &     23.8    \\\\\n",
       "\\textbf{No. Iterations:}  &        8         & \\textbf{  Pseudo R-squ. (CS):} &   0.3891    \\\\\n",
       "\\textbf{Covariance Type:} &    nonrobust     & \\textbf{                     } &             \\\\\n",
       "\\bottomrule\n",
       "\\end{tabular}\n",
       "\\begin{tabular}{lcccccc}\n",
       "                   & \\textbf{coef} & \\textbf{std err} & \\textbf{z} & \\textbf{P$> |$z$|$} & \\textbf{[0.025} & \\textbf{0.975]}  \\\\\n",
       "\\midrule\n",
       "\\textbf{Intercept} &      -7.1405  &        2.686     &    -2.659  &         0.008        &      -12.404    &       -1.877     \\\\\n",
       "\\textbf{GPA}       &       1.5845  &        0.709     &     2.234  &         0.026        &        0.194    &        2.975     \\\\\n",
       "\\textbf{TUCE}      &       0.0602  &        0.090     &     0.673  &         0.501        &       -0.115    &        0.236     \\\\\n",
       "\\textbf{PSI}       &       1.6162  &        0.643     &     2.514  &         0.012        &        0.356    &        2.876     \\\\\n",
       "\\bottomrule\n",
       "\\end{tabular}\n",
       "%\\caption{Generalized Linear Model Regression Results}\n",
       "\\end{center}"
      ],
      "text/plain": [
       "<class 'statsmodels.iolib.summary.Summary'>\n",
       "\"\"\"\n",
       "                 Generalized Linear Model Regression Results                  \n",
       "==============================================================================\n",
       "Dep. Variable:                  GRADE   No. Observations:                   32\n",
       "Model:                            GLM   Df Residuals:                       28\n",
       "Model Family:                Binomial   Df Model:                            3\n",
       "Link Function:                 LogLog   Scale:                          1.0000\n",
       "Method:                          IRLS   Log-Likelihood:                -12.707\n",
       "Date:                Mon, 07 Aug 2023   Deviance:                       25.414\n",
       "Time:                        07:01:16   Pearson chi2:                     23.8\n",
       "No. Iterations:                     8   Pseudo R-squ. (CS):             0.3891\n",
       "Covariance Type:            nonrobust                                         \n",
       "==============================================================================\n",
       "                 coef    std err          z      P>|z|      [0.025      0.975]\n",
       "------------------------------------------------------------------------------\n",
       "Intercept     -7.1405      2.686     -2.659      0.008     -12.404      -1.877\n",
       "GPA            1.5845      0.709      2.234      0.026       0.194       2.975\n",
       "TUCE           0.0602      0.090      0.673      0.501      -0.115       0.236\n",
       "PSI            1.6162      0.643      2.514      0.012       0.356       2.876\n",
       "==============================================================================\n",
       "\"\"\""
      ]
     },
     "execution_count": 15,
     "metadata": {},
     "output_type": "execute_result"
    }
   ],
   "source": [
    "sm_loglog_fit.summary()"
   ]
  },
  {
   "cell_type": "code",
   "execution_count": 16,
   "metadata": {},
   "outputs": [],
   "source": [
    "sm_cloglog_model = smf.glm(\n",
    "    \"GRADE ~ GPA + TUCE + PSI\", spector, \n",
    "    family = sm.families.Binomial(link = sm.families.links.CLogLog())\n",
    ")"
   ]
  },
  {
   "cell_type": "code",
   "execution_count": 17,
   "metadata": {},
   "outputs": [],
   "source": [
    "sm_cloglog_fit = sm_cloglog_model.fit()"
   ]
  },
  {
   "cell_type": "code",
   "execution_count": 18,
   "metadata": {},
   "outputs": [
    {
     "data": {
      "text/html": [
       "<table class=\"simpletable\">\n",
       "<caption>Generalized Linear Model Regression Results</caption>\n",
       "<tr>\n",
       "  <th>Dep. Variable:</th>         <td>GRADE</td>      <th>  No. Observations:  </th>  <td>    32</td> \n",
       "</tr>\n",
       "<tr>\n",
       "  <th>Model:</th>                  <td>GLM</td>       <th>  Df Residuals:      </th>  <td>    28</td> \n",
       "</tr>\n",
       "<tr>\n",
       "  <th>Model Family:</th>        <td>Binomial</td>     <th>  Df Model:          </th>  <td>     3</td> \n",
       "</tr>\n",
       "<tr>\n",
       "  <th>Link Function:</th>        <td>CLogLog</td>     <th>  Scale:             </th> <td>  1.0000</td>\n",
       "</tr>\n",
       "<tr>\n",
       "  <th>Method:</th>                <td>IRLS</td>       <th>  Log-Likelihood:    </th> <td> -13.008</td>\n",
       "</tr>\n",
       "<tr>\n",
       "  <th>Date:</th>            <td>Mon, 07 Aug 2023</td> <th>  Deviance:          </th> <td>  26.016</td>\n",
       "</tr>\n",
       "<tr>\n",
       "  <th>Time:</th>                <td>07:01:16</td>     <th>  Pearson chi2:      </th>  <td>  28.0</td> \n",
       "</tr>\n",
       "<tr>\n",
       "  <th>No. Iterations:</th>         <td>10</td>        <th>  Pseudo R-squ. (CS):</th>  <td>0.3775</td> \n",
       "</tr>\n",
       "<tr>\n",
       "  <th>Covariance Type:</th>     <td>nonrobust</td>    <th>                     </th>     <td> </td>   \n",
       "</tr>\n",
       "</table>\n",
       "<table class=\"simpletable\">\n",
       "<tr>\n",
       "      <td></td>         <th>coef</th>     <th>std err</th>      <th>z</th>      <th>P>|z|</th>  <th>[0.025</th>    <th>0.975]</th>  \n",
       "</tr>\n",
       "<tr>\n",
       "  <th>Intercept</th> <td>  -10.0314</td> <td>    3.436</td> <td>   -2.919</td> <td> 0.004</td> <td>  -16.766</td> <td>   -3.297</td>\n",
       "</tr>\n",
       "<tr>\n",
       "  <th>GPA</th>       <td>    2.2935</td> <td>    0.918</td> <td>    2.499</td> <td> 0.012</td> <td>    0.495</td> <td>    4.092</td>\n",
       "</tr>\n",
       "<tr>\n",
       "  <th>TUCE</th>      <td>    0.0412</td> <td>    0.097</td> <td>    0.424</td> <td> 0.671</td> <td>   -0.149</td> <td>    0.231</td>\n",
       "</tr>\n",
       "<tr>\n",
       "  <th>PSI</th>       <td>    1.5623</td> <td>    0.726</td> <td>    2.151</td> <td> 0.031</td> <td>    0.139</td> <td>    2.986</td>\n",
       "</tr>\n",
       "</table>"
      ],
      "text/latex": [
       "\\begin{center}\n",
       "\\begin{tabular}{lclc}\n",
       "\\toprule\n",
       "\\textbf{Dep. Variable:}   &      GRADE       & \\textbf{  No. Observations:  } &       32    \\\\\n",
       "\\textbf{Model:}           &       GLM        & \\textbf{  Df Residuals:      } &       28    \\\\\n",
       "\\textbf{Model Family:}    &     Binomial     & \\textbf{  Df Model:          } &        3    \\\\\n",
       "\\textbf{Link Function:}   &     CLogLog      & \\textbf{  Scale:             } &    1.0000   \\\\\n",
       "\\textbf{Method:}          &       IRLS       & \\textbf{  Log-Likelihood:    } &   -13.008   \\\\\n",
       "\\textbf{Date:}            & Mon, 07 Aug 2023 & \\textbf{  Deviance:          } &    26.016   \\\\\n",
       "\\textbf{Time:}            &     07:01:16     & \\textbf{  Pearson chi2:      } &     28.0    \\\\\n",
       "\\textbf{No. Iterations:}  &        10        & \\textbf{  Pseudo R-squ. (CS):} &   0.3775    \\\\\n",
       "\\textbf{Covariance Type:} &    nonrobust     & \\textbf{                     } &             \\\\\n",
       "\\bottomrule\n",
       "\\end{tabular}\n",
       "\\begin{tabular}{lcccccc}\n",
       "                   & \\textbf{coef} & \\textbf{std err} & \\textbf{z} & \\textbf{P$> |$z$|$} & \\textbf{[0.025} & \\textbf{0.975]}  \\\\\n",
       "\\midrule\n",
       "\\textbf{Intercept} &     -10.0314  &        3.436     &    -2.919  &         0.004        &      -16.766    &       -3.297     \\\\\n",
       "\\textbf{GPA}       &       2.2935  &        0.918     &     2.499  &         0.012        &        0.495    &        4.092     \\\\\n",
       "\\textbf{TUCE}      &       0.0412  &        0.097     &     0.424  &         0.671        &       -0.149    &        0.231     \\\\\n",
       "\\textbf{PSI}       &       1.5623  &        0.726     &     2.151  &         0.031        &        0.139    &        2.986     \\\\\n",
       "\\bottomrule\n",
       "\\end{tabular}\n",
       "%\\caption{Generalized Linear Model Regression Results}\n",
       "\\end{center}"
      ],
      "text/plain": [
       "<class 'statsmodels.iolib.summary.Summary'>\n",
       "\"\"\"\n",
       "                 Generalized Linear Model Regression Results                  \n",
       "==============================================================================\n",
       "Dep. Variable:                  GRADE   No. Observations:                   32\n",
       "Model:                            GLM   Df Residuals:                       28\n",
       "Model Family:                Binomial   Df Model:                            3\n",
       "Link Function:                CLogLog   Scale:                          1.0000\n",
       "Method:                          IRLS   Log-Likelihood:                -13.008\n",
       "Date:                Mon, 07 Aug 2023   Deviance:                       26.016\n",
       "Time:                        07:01:16   Pearson chi2:                     28.0\n",
       "No. Iterations:                    10   Pseudo R-squ. (CS):             0.3775\n",
       "Covariance Type:            nonrobust                                         \n",
       "==============================================================================\n",
       "                 coef    std err          z      P>|z|      [0.025      0.975]\n",
       "------------------------------------------------------------------------------\n",
       "Intercept    -10.0314      3.436     -2.919      0.004     -16.766      -3.297\n",
       "GPA            2.2935      0.918      2.499      0.012       0.495       4.092\n",
       "TUCE           0.0412      0.097      0.424      0.671      -0.149       0.231\n",
       "PSI            1.5623      0.726      2.151      0.031       0.139       2.986\n",
       "==============================================================================\n",
       "\"\"\""
      ]
     },
     "execution_count": 18,
     "metadata": {},
     "output_type": "execute_result"
    }
   ],
   "source": [
    "sm_cloglog_fit.summary()"
   ]
  },
  {
   "cell_type": "code",
   "execution_count": 19,
   "metadata": {},
   "outputs": [],
   "source": [
    "import sys\n",
    "sys.path.append(\"..\")"
   ]
  },
  {
   "cell_type": "code",
   "execution_count": 20,
   "metadata": {},
   "outputs": [],
   "source": [
    "import linearlab as ll"
   ]
  },
  {
   "cell_type": "code",
   "execution_count": 21,
   "metadata": {},
   "outputs": [],
   "source": [
    "ll_logit_model = ll.glm(spector, \"GRADE ~ GPA + TUCE + PSI\", ll.bernoulli())"
   ]
  },
  {
   "cell_type": "code",
   "execution_count": 22,
   "metadata": {},
   "outputs": [],
   "source": [
    "ll_logit_fit = ll_logit_model.fit()"
   ]
  },
  {
   "cell_type": "code",
   "execution_count": 23,
   "metadata": {},
   "outputs": [
    {
     "data": {
      "text/plain": [
       "-12.889634222131416"
      ]
     },
     "execution_count": 23,
     "metadata": {},
     "output_type": "execute_result"
    }
   ],
   "source": [
    "ll_logit_fit.loglik"
   ]
  },
  {
   "cell_type": "code",
   "execution_count": 24,
   "metadata": {},
   "outputs": [
    {
     "data": {
      "text/plain": [
       "p  Intercept   -13.021347\n",
       "   GPA           2.826113\n",
       "   TUCE          0.095158\n",
       "   PSI           2.378688\n",
       "dtype: float64"
      ]
     },
     "execution_count": 24,
     "metadata": {},
     "output_type": "execute_result"
    }
   ],
   "source": [
    "ll_logit_fit.beta_grouped"
   ]
  },
  {
   "cell_type": "code",
   "execution_count": 25,
   "metadata": {},
   "outputs": [],
   "source": [
    "ll_probit_model = ll.glm(spector, \"GRADE ~ GPA + TUCE + PSI\", ll.bernoulli(ll.probit))"
   ]
  },
  {
   "cell_type": "code",
   "execution_count": 26,
   "metadata": {},
   "outputs": [],
   "source": [
    "ll_probit_fit = ll_probit_model.fit()"
   ]
  },
  {
   "cell_type": "code",
   "execution_count": 27,
   "metadata": {},
   "outputs": [
    {
     "data": {
      "text/plain": [
       "-12.818804068889442"
      ]
     },
     "execution_count": 27,
     "metadata": {},
     "output_type": "execute_result"
    }
   ],
   "source": [
    "ll_probit_fit.loglik"
   ]
  },
  {
   "cell_type": "code",
   "execution_count": 28,
   "metadata": {},
   "outputs": [
    {
     "data": {
      "text/plain": [
       "p  Intercept   -7.452320\n",
       "   GPA          1.625810\n",
       "   TUCE         0.051729\n",
       "   PSI          1.426332\n",
       "dtype: float64"
      ]
     },
     "execution_count": 28,
     "metadata": {},
     "output_type": "execute_result"
    }
   ],
   "source": [
    "ll_probit_fit.beta_grouped"
   ]
  },
  {
   "cell_type": "code",
   "execution_count": 29,
   "metadata": {},
   "outputs": [],
   "source": [
    "ll_cauchit_model = ll.glm(spector, \"GRADE ~ GPA + TUCE + PSI\", ll.bernoulli(ll.cauchit))"
   ]
  },
  {
   "cell_type": "code",
   "execution_count": 30,
   "metadata": {},
   "outputs": [],
   "source": [
    "ll_cauchit_fit = ll_cauchit_model.fit()"
   ]
  },
  {
   "cell_type": "code",
   "execution_count": 31,
   "metadata": {},
   "outputs": [
    {
     "data": {
      "text/plain": [
       "-12.88528557434738"
      ]
     },
     "execution_count": 31,
     "metadata": {},
     "output_type": "execute_result"
    }
   ],
   "source": [
    "ll_cauchit_fit.loglik"
   ]
  },
  {
   "cell_type": "code",
   "execution_count": 32,
   "metadata": {},
   "outputs": [
    {
     "data": {
      "text/plain": [
       "p  Intercept   -21.386290\n",
       "   GPA           4.488928\n",
       "   TUCE          0.191150\n",
       "   PSI           3.298518\n",
       "dtype: float64"
      ]
     },
     "execution_count": 32,
     "metadata": {},
     "output_type": "execute_result"
    }
   ],
   "source": [
    "ll_cauchit_fit.beta_grouped"
   ]
  },
  {
   "cell_type": "code",
   "execution_count": 33,
   "metadata": {},
   "outputs": [],
   "source": [
    "ll_loglog_model = ll.glm(spector, \"GRADE ~ GPA + TUCE + PSI\", ll.bernoulli(ll.loglog))"
   ]
  },
  {
   "cell_type": "code",
   "execution_count": 34,
   "metadata": {},
   "outputs": [],
   "source": [
    "ll_loglog_fit = ll_loglog_model.fit()"
   ]
  },
  {
   "cell_type": "code",
   "execution_count": 35,
   "metadata": {},
   "outputs": [
    {
     "data": {
      "text/plain": [
       "-12.70720037921814"
      ]
     },
     "execution_count": 35,
     "metadata": {},
     "output_type": "execute_result"
    }
   ],
   "source": [
    "ll_loglog_fit.loglik"
   ]
  },
  {
   "cell_type": "code",
   "execution_count": 36,
   "metadata": {},
   "outputs": [
    {
     "data": {
      "text/plain": [
       "p  Intercept   -7.140547\n",
       "   GPA          1.584494\n",
       "   TUCE         0.060229\n",
       "   PSI          1.616231\n",
       "dtype: float64"
      ]
     },
     "execution_count": 36,
     "metadata": {},
     "output_type": "execute_result"
    }
   ],
   "source": [
    "ll_loglog_fit.beta_grouped"
   ]
  },
  {
   "cell_type": "code",
   "execution_count": 37,
   "metadata": {},
   "outputs": [],
   "source": [
    "ll_cloglog_model = ll.glm(spector, \"GRADE ~ GPA + TUCE + PSI\", ll.bernoulli(ll.cloglog))"
   ]
  },
  {
   "cell_type": "code",
   "execution_count": 38,
   "metadata": {},
   "outputs": [],
   "source": [
    "ll_cloglog_fit = ll_cloglog_model.fit()"
   ]
  },
  {
   "cell_type": "code",
   "execution_count": 39,
   "metadata": {},
   "outputs": [
    {
     "data": {
      "text/plain": [
       "-13.008003696318426"
      ]
     },
     "execution_count": 39,
     "metadata": {},
     "output_type": "execute_result"
    }
   ],
   "source": [
    "ll_cloglog_fit.loglik"
   ]
  },
  {
   "cell_type": "code",
   "execution_count": 40,
   "metadata": {},
   "outputs": [
    {
     "data": {
      "text/plain": [
       "p  Intercept   -10.031419\n",
       "   GPA           2.293553\n",
       "   TUCE          0.041156\n",
       "   PSI           1.562276\n",
       "dtype: float64"
      ]
     },
     "execution_count": 40,
     "metadata": {},
     "output_type": "execute_result"
    }
   ],
   "source": [
    "ll_cloglog_fit.beta_grouped"
   ]
  }
 ],
 "metadata": {
  "kernelspec": {
   "display_name": ".venv",
   "language": "python",
   "name": "python3"
  },
  "language_info": {
   "codemirror_mode": {
    "name": "ipython",
    "version": 3
   },
   "file_extension": ".py",
   "mimetype": "text/x-python",
   "name": "python",
   "nbconvert_exporter": "python",
   "pygments_lexer": "ipython3",
   "version": "3.11.3"
  },
  "orig_nbformat": 4
 },
 "nbformat": 4,
 "nbformat_minor": 2
}
