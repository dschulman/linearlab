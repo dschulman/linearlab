{
 "cells": [
  {
   "cell_type": "code",
   "execution_count": 1,
   "metadata": {},
   "outputs": [],
   "source": [
    "import statsmodels.api as sm\n",
    "import statsmodels.formula.api as smf"
   ]
  },
  {
   "cell_type": "code",
   "execution_count": 2,
   "metadata": {},
   "outputs": [],
   "source": [
    "import statsmodels.othermod.betareg as smbeta"
   ]
  },
  {
   "cell_type": "code",
   "execution_count": 3,
   "metadata": {},
   "outputs": [],
   "source": [
    "import sys\n",
    "sys.path.append(\"..\")"
   ]
  },
  {
   "cell_type": "code",
   "execution_count": 4,
   "metadata": {},
   "outputs": [],
   "source": [
    "import linearlab as ll"
   ]
  },
  {
   "cell_type": "code",
   "execution_count": 5,
   "metadata": {},
   "outputs": [],
   "source": [
    "data = sm.datasets.get_rdataset(\"StressAnxiety\", \"betareg\").data"
   ]
  },
  {
   "cell_type": "code",
   "execution_count": 6,
   "metadata": {},
   "outputs": [
    {
     "data": {
      "text/html": [
       "<div>\n",
       "<style scoped>\n",
       "    .dataframe tbody tr th:only-of-type {\n",
       "        vertical-align: middle;\n",
       "    }\n",
       "\n",
       "    .dataframe tbody tr th {\n",
       "        vertical-align: top;\n",
       "    }\n",
       "\n",
       "    .dataframe thead th {\n",
       "        text-align: right;\n",
       "    }\n",
       "</style>\n",
       "<table border=\"1\" class=\"dataframe\">\n",
       "  <thead>\n",
       "    <tr style=\"text-align: right;\">\n",
       "      <th></th>\n",
       "      <th>stress</th>\n",
       "      <th>anxiety</th>\n",
       "    </tr>\n",
       "  </thead>\n",
       "  <tbody>\n",
       "    <tr>\n",
       "      <th>0</th>\n",
       "      <td>0.01</td>\n",
       "      <td>0.01</td>\n",
       "    </tr>\n",
       "    <tr>\n",
       "      <th>1</th>\n",
       "      <td>0.29</td>\n",
       "      <td>0.17</td>\n",
       "    </tr>\n",
       "    <tr>\n",
       "      <th>2</th>\n",
       "      <td>0.17</td>\n",
       "      <td>0.01</td>\n",
       "    </tr>\n",
       "    <tr>\n",
       "      <th>3</th>\n",
       "      <td>0.41</td>\n",
       "      <td>0.05</td>\n",
       "    </tr>\n",
       "    <tr>\n",
       "      <th>4</th>\n",
       "      <td>0.21</td>\n",
       "      <td>0.09</td>\n",
       "    </tr>\n",
       "    <tr>\n",
       "      <th>...</th>\n",
       "      <td>...</td>\n",
       "      <td>...</td>\n",
       "    </tr>\n",
       "    <tr>\n",
       "      <th>161</th>\n",
       "      <td>0.37</td>\n",
       "      <td>0.29</td>\n",
       "    </tr>\n",
       "    <tr>\n",
       "      <th>162</th>\n",
       "      <td>0.53</td>\n",
       "      <td>0.25</td>\n",
       "    </tr>\n",
       "    <tr>\n",
       "      <th>163</th>\n",
       "      <td>0.65</td>\n",
       "      <td>0.49</td>\n",
       "    </tr>\n",
       "    <tr>\n",
       "      <th>164</th>\n",
       "      <td>0.17</td>\n",
       "      <td>0.01</td>\n",
       "    </tr>\n",
       "    <tr>\n",
       "      <th>165</th>\n",
       "      <td>0.09</td>\n",
       "      <td>0.01</td>\n",
       "    </tr>\n",
       "  </tbody>\n",
       "</table>\n",
       "<p>166 rows × 2 columns</p>\n",
       "</div>"
      ],
      "text/plain": [
       "     stress  anxiety\n",
       "0      0.01     0.01\n",
       "1      0.29     0.17\n",
       "2      0.17     0.01\n",
       "3      0.41     0.05\n",
       "4      0.21     0.09\n",
       "..      ...      ...\n",
       "161    0.37     0.29\n",
       "162    0.53     0.25\n",
       "163    0.65     0.49\n",
       "164    0.17     0.01\n",
       "165    0.09     0.01\n",
       "\n",
       "[166 rows x 2 columns]"
      ]
     },
     "execution_count": 6,
     "metadata": {},
     "output_type": "execute_result"
    }
   ],
   "source": [
    "data"
   ]
  },
  {
   "cell_type": "code",
   "execution_count": 7,
   "metadata": {},
   "outputs": [],
   "source": [
    "sm_beta_model = smbeta.BetaModel.from_formula(\n",
    "    formula = \"anxiety ~ stress\",\n",
    "    data = data,\n",
    "    exog_precision_formula = \"~ stress\"\n",
    ")"
   ]
  },
  {
   "cell_type": "code",
   "execution_count": 8,
   "metadata": {},
   "outputs": [],
   "source": [
    "sm_beta_fit = sm_beta_model.fit()"
   ]
  },
  {
   "cell_type": "code",
   "execution_count": 9,
   "metadata": {},
   "outputs": [
    {
     "data": {
      "text/html": [
       "<table class=\"simpletable\">\n",
       "<caption>BetaModel Results</caption>\n",
       "<tr>\n",
       "  <th>Dep. Variable:</th>          <td>anxiety</td>      <th>  Log-Likelihood:    </th> <td>  301.96</td>\n",
       "</tr>\n",
       "<tr>\n",
       "  <th>Model:</th>                 <td>BetaModel</td>     <th>  AIC:               </th> <td>  -595.9</td>\n",
       "</tr>\n",
       "<tr>\n",
       "  <th>Method:</th>           <td>Maximum Likelihood</td> <th>  BIC:               </th> <td>  -583.5</td>\n",
       "</tr>\n",
       "<tr>\n",
       "  <th>Date:</th>              <td>Fri, 25 Aug 2023</td>  <th>                     </th>     <td> </td>   \n",
       "</tr>\n",
       "<tr>\n",
       "  <th>Time:</th>                  <td>06:55:25</td>      <th>                     </th>     <td> </td>   \n",
       "</tr>\n",
       "<tr>\n",
       "  <th>No. Observations:</th>       <td>   166</td>       <th>                     </th>     <td> </td>   \n",
       "</tr>\n",
       "<tr>\n",
       "  <th>Df Residuals:</th>           <td>   162</td>       <th>                     </th>     <td> </td>   \n",
       "</tr>\n",
       "<tr>\n",
       "  <th>Df Model:</th>               <td>     2</td>       <th>                     </th>     <td> </td>   \n",
       "</tr>\n",
       "</table>\n",
       "<table class=\"simpletable\">\n",
       "<tr>\n",
       "       <td></td>          <th>coef</th>     <th>std err</th>      <th>z</th>      <th>P>|z|</th>  <th>[0.025</th>    <th>0.975]</th>  \n",
       "</tr>\n",
       "<tr>\n",
       "  <th>Intercept</th>   <td>   -4.0237</td> <td>    0.144</td> <td>  -27.900</td> <td> 0.000</td> <td>   -4.306</td> <td>   -3.741</td>\n",
       "</tr>\n",
       "<tr>\n",
       "  <th>stress</th>      <td>    4.9414</td> <td>    0.441</td> <td>   11.208</td> <td> 0.000</td> <td>    4.077</td> <td>    5.805</td>\n",
       "</tr>\n",
       "<tr>\n",
       "  <th>precision-1</th> <td>    3.9608</td> <td>    0.251</td> <td>   15.776</td> <td> 0.000</td> <td>    3.469</td> <td>    4.453</td>\n",
       "</tr>\n",
       "<tr>\n",
       "  <th>precision-2</th> <td>   -4.2733</td> <td>    0.753</td> <td>   -5.674</td> <td> 0.000</td> <td>   -5.749</td> <td>   -2.797</td>\n",
       "</tr>\n",
       "</table>"
      ],
      "text/latex": [
       "\\begin{center}\n",
       "\\begin{tabular}{lclc}\n",
       "\\toprule\n",
       "\\textbf{Dep. Variable:}    &      anxiety       & \\textbf{  Log-Likelihood:    } &    301.96   \\\\\n",
       "\\textbf{Model:}            &     BetaModel      & \\textbf{  AIC:               } &    -595.9   \\\\\n",
       "\\textbf{Method:}           & Maximum Likelihood & \\textbf{  BIC:               } &    -583.5   \\\\\n",
       "\\textbf{Date:}             &  Fri, 25 Aug 2023  & \\textbf{                     } &             \\\\\n",
       "\\textbf{Time:}             &      06:55:25      & \\textbf{                     } &             \\\\\n",
       "\\textbf{No. Observations:} &          166       & \\textbf{                     } &             \\\\\n",
       "\\textbf{Df Residuals:}     &          162       & \\textbf{                     } &             \\\\\n",
       "\\textbf{Df Model:}         &            2       & \\textbf{                     } &             \\\\\n",
       "\\bottomrule\n",
       "\\end{tabular}\n",
       "\\begin{tabular}{lcccccc}\n",
       "                     & \\textbf{coef} & \\textbf{std err} & \\textbf{z} & \\textbf{P$> |$z$|$} & \\textbf{[0.025} & \\textbf{0.975]}  \\\\\n",
       "\\midrule\n",
       "\\textbf{Intercept}   &      -4.0237  &        0.144     &   -27.900  &         0.000        &       -4.306    &       -3.741     \\\\\n",
       "\\textbf{stress}      &       4.9414  &        0.441     &    11.208  &         0.000        &        4.077    &        5.805     \\\\\n",
       "\\textbf{precision-1} &       3.9608  &        0.251     &    15.776  &         0.000        &        3.469    &        4.453     \\\\\n",
       "\\textbf{precision-2} &      -4.2733  &        0.753     &    -5.674  &         0.000        &       -5.749    &       -2.797     \\\\\n",
       "\\bottomrule\n",
       "\\end{tabular}\n",
       "%\\caption{BetaModel Results}\n",
       "\\end{center}"
      ],
      "text/plain": [
       "<class 'statsmodels.iolib.summary.Summary'>\n",
       "\"\"\"\n",
       "                              BetaModel Results                               \n",
       "==============================================================================\n",
       "Dep. Variable:                anxiety   Log-Likelihood:                 301.96\n",
       "Model:                      BetaModel   AIC:                            -595.9\n",
       "Method:            Maximum Likelihood   BIC:                            -583.5\n",
       "Date:                Fri, 25 Aug 2023                                         \n",
       "Time:                        06:55:25                                         \n",
       "No. Observations:                 166                                         \n",
       "Df Residuals:                     162                                         \n",
       "Df Model:                           2                                         \n",
       "===============================================================================\n",
       "                  coef    std err          z      P>|z|      [0.025      0.975]\n",
       "-------------------------------------------------------------------------------\n",
       "Intercept      -4.0237      0.144    -27.900      0.000      -4.306      -3.741\n",
       "stress          4.9414      0.441     11.208      0.000       4.077       5.805\n",
       "precision-1     3.9608      0.251     15.776      0.000       3.469       4.453\n",
       "precision-2    -4.2733      0.753     -5.674      0.000      -5.749      -2.797\n",
       "===============================================================================\n",
       "\"\"\""
      ]
     },
     "execution_count": 9,
     "metadata": {},
     "output_type": "execute_result"
    }
   ],
   "source": [
    "sm_beta_fit.summary()"
   ]
  },
  {
   "cell_type": "code",
   "execution_count": 10,
   "metadata": {},
   "outputs": [],
   "source": [
    "ll_beta_model = ll.glm(data, \"anxiety ~ stress | stress\", lik = ll.lik.beta())"
   ]
  },
  {
   "cell_type": "code",
   "execution_count": 11,
   "metadata": {},
   "outputs": [],
   "source": [
    "ll_beta_fit = ll_beta_model.fit()"
   ]
  },
  {
   "cell_type": "code",
   "execution_count": 12,
   "metadata": {},
   "outputs": [
    {
     "data": {
      "text/html": [
       "<div><p>GLM model with beta likelihood with mean (logit link) and dispersion (log link)</p><p>Log-likelihood: 301.96</p><table border=\"1\" class=\"dataframe\">\n",
       "  <thead>\n",
       "    <tr style=\"text-align: right;\">\n",
       "      <th></th>\n",
       "      <th></th>\n",
       "      <th>est</th>\n",
       "      <th>se</th>\n",
       "    </tr>\n",
       "  </thead>\n",
       "  <tbody>\n",
       "    <tr>\n",
       "      <th rowspan=\"2\" valign=\"top\">mu</th>\n",
       "      <th>Intercept</th>\n",
       "      <td>-4.023716</td>\n",
       "      <td>0.132222</td>\n",
       "    </tr>\n",
       "    <tr>\n",
       "      <th>stress</th>\n",
       "      <td>4.941367</td>\n",
       "      <td>0.401282</td>\n",
       "    </tr>\n",
       "    <tr>\n",
       "      <th rowspan=\"2\" valign=\"top\">phi</th>\n",
       "      <th>Intercept</th>\n",
       "      <td>-3.960847</td>\n",
       "      <td>0.195462</td>\n",
       "    </tr>\n",
       "    <tr>\n",
       "      <th>stress</th>\n",
       "      <td>4.273312</td>\n",
       "      <td>0.532849</td>\n",
       "    </tr>\n",
       "  </tbody>\n",
       "</table></div>"
      ],
      "text/plain": [
       "GLM model with beta likelihood with mean (logit link) and dispersion (log link)\n",
       "Log-likelihood: 301.960087\n",
       "                    est        se\n",
       "mu  Intercept -4.023716  0.132222\n",
       "    stress     4.941367  0.401282\n",
       "phi Intercept -3.960847  0.195462\n",
       "    stress     4.273312  0.532849"
      ]
     },
     "execution_count": 12,
     "metadata": {},
     "output_type": "execute_result"
    }
   ],
   "source": [
    "ll_beta_fit"
   ]
  },
  {
   "cell_type": "code",
   "execution_count": 13,
   "metadata": {},
   "outputs": [],
   "source": [
    "ll_betacan_model = ll.glm(data, \"anxiety ~ stress | stress\", lik = ll.lik.beta_canon())"
   ]
  },
  {
   "cell_type": "code",
   "execution_count": 14,
   "metadata": {},
   "outputs": [],
   "source": [
    "ll_betacan_fit = ll_betacan_model.fit()"
   ]
  },
  {
   "cell_type": "code",
   "execution_count": 15,
   "metadata": {},
   "outputs": [
    {
     "data": {
      "text/html": [
       "<div><p>GLM model with beta likelihood with alpha (log link) and beta (log link)</p><p>Log-likelihood: 303.95</p><table border=\"1\" class=\"dataframe\">\n",
       "  <thead>\n",
       "    <tr style=\"text-align: right;\">\n",
       "      <th></th>\n",
       "      <th></th>\n",
       "      <th>est</th>\n",
       "      <th>se</th>\n",
       "    </tr>\n",
       "  </thead>\n",
       "  <tbody>\n",
       "    <tr>\n",
       "      <th rowspan=\"2\" valign=\"top\">alpha</th>\n",
       "      <th>Intercept</th>\n",
       "      <td>0.009326</td>\n",
       "      <td>0.164074</td>\n",
       "    </tr>\n",
       "    <tr>\n",
       "      <th>stress</th>\n",
       "      <td>0.089315</td>\n",
       "      <td>0.503936</td>\n",
       "    </tr>\n",
       "    <tr>\n",
       "      <th rowspan=\"2\" valign=\"top\">beta</th>\n",
       "      <th>Intercept</th>\n",
       "      <td>4.093708</td>\n",
       "      <td>0.201609</td>\n",
       "    </tr>\n",
       "    <tr>\n",
       "      <th>stress</th>\n",
       "      <td>-5.083608</td>\n",
       "      <td>0.578416</td>\n",
       "    </tr>\n",
       "  </tbody>\n",
       "</table></div>"
      ],
      "text/plain": [
       "GLM model with beta likelihood with alpha (log link) and beta (log link)\n",
       "Log-likelihood: 303.947133\n",
       "                      est        se\n",
       "alpha Intercept  0.009326  0.164074\n",
       "      stress     0.089315  0.503936\n",
       "beta  Intercept  4.093708  0.201609\n",
       "      stress    -5.083608  0.578416"
      ]
     },
     "execution_count": 15,
     "metadata": {},
     "output_type": "execute_result"
    }
   ],
   "source": [
    "ll_betacan_fit"
   ]
  }
 ],
 "metadata": {
  "kernelspec": {
   "display_name": ".venv",
   "language": "python",
   "name": "python3"
  },
  "language_info": {
   "codemirror_mode": {
    "name": "ipython",
    "version": 3
   },
   "file_extension": ".py",
   "mimetype": "text/x-python",
   "name": "python",
   "nbconvert_exporter": "python",
   "pygments_lexer": "ipython3",
   "version": "3.11.3"
  },
  "orig_nbformat": 4
 },
 "nbformat": 4,
 "nbformat_minor": 2
}
