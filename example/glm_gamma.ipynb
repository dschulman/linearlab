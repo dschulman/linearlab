{
 "cells": [
  {
   "cell_type": "markdown",
   "metadata": {},
   "source": [
    "https://www.statsmodels.org/dev/examples/notebooks/generated/glm.html#GLM:-Gamma-for-proportional-count-response"
   ]
  },
  {
   "cell_type": "code",
   "execution_count": 1,
   "metadata": {},
   "outputs": [],
   "source": [
    "import numpy as np"
   ]
  },
  {
   "cell_type": "code",
   "execution_count": 2,
   "metadata": {},
   "outputs": [],
   "source": [
    "import statsmodels.api as sm\n",
    "import statsmodels.formula.api as smf"
   ]
  },
  {
   "cell_type": "code",
   "execution_count": 3,
   "metadata": {},
   "outputs": [],
   "source": [
    "import sys\n",
    "sys.path.append(\"..\")"
   ]
  },
  {
   "cell_type": "code",
   "execution_count": 4,
   "metadata": {},
   "outputs": [],
   "source": [
    "import linearlab as ll"
   ]
  },
  {
   "cell_type": "code",
   "execution_count": 5,
   "metadata": {},
   "outputs": [
    {
     "name": "stdout",
     "output_type": "stream",
     "text": [
      "\n",
      "This data is based on the example in Gill and describes the proportion of\n",
      "voters who voted Yes to grant the Scottish Parliament taxation powers.\n",
      "The data are divided into 32 council districts.  This example's explanatory\n",
      "variables include the amount of council tax collected in pounds sterling as\n",
      "of April 1997 per two adults before adjustments, the female percentage of\n",
      "total claims for unemployment benefits as of January, 1998, the standardized\n",
      "mortality rate (UK is 100), the percentage of labor force participation,\n",
      "regional GDP, the percentage of children aged 5 to 15, and an interaction term\n",
      "between female unemployment and the council tax.\n",
      "\n",
      "The original source files and variable information are included in\n",
      "/scotland/src/\n",
      "\n"
     ]
    }
   ],
   "source": [
    "print(sm.datasets.scotland.DESCRLONG)"
   ]
  },
  {
   "cell_type": "code",
   "execution_count": 6,
   "metadata": {},
   "outputs": [],
   "source": [
    "scotland = sm.datasets.scotland.load().data"
   ]
  },
  {
   "cell_type": "code",
   "execution_count": 7,
   "metadata": {},
   "outputs": [
    {
     "data": {
      "text/html": [
       "<div>\n",
       "<style scoped>\n",
       "    .dataframe tbody tr th:only-of-type {\n",
       "        vertical-align: middle;\n",
       "    }\n",
       "\n",
       "    .dataframe tbody tr th {\n",
       "        vertical-align: top;\n",
       "    }\n",
       "\n",
       "    .dataframe thead th {\n",
       "        text-align: right;\n",
       "    }\n",
       "</style>\n",
       "<table border=\"1\" class=\"dataframe\">\n",
       "  <thead>\n",
       "    <tr style=\"text-align: right;\">\n",
       "      <th></th>\n",
       "      <th>YES</th>\n",
       "      <th>COUTAX</th>\n",
       "      <th>UNEMPF</th>\n",
       "      <th>MOR</th>\n",
       "      <th>ACT</th>\n",
       "      <th>GDP</th>\n",
       "      <th>AGE</th>\n",
       "      <th>COUTAX_FEMALEUNEMP</th>\n",
       "    </tr>\n",
       "  </thead>\n",
       "  <tbody>\n",
       "    <tr>\n",
       "      <th>0</th>\n",
       "      <td>60.3</td>\n",
       "      <td>712.0</td>\n",
       "      <td>21.0</td>\n",
       "      <td>105.0</td>\n",
       "      <td>82.4</td>\n",
       "      <td>13566.0</td>\n",
       "      <td>12.3</td>\n",
       "      <td>14952.0</td>\n",
       "    </tr>\n",
       "    <tr>\n",
       "      <th>1</th>\n",
       "      <td>52.3</td>\n",
       "      <td>643.0</td>\n",
       "      <td>26.5</td>\n",
       "      <td>97.0</td>\n",
       "      <td>80.2</td>\n",
       "      <td>13566.0</td>\n",
       "      <td>15.3</td>\n",
       "      <td>17039.5</td>\n",
       "    </tr>\n",
       "    <tr>\n",
       "      <th>2</th>\n",
       "      <td>53.4</td>\n",
       "      <td>679.0</td>\n",
       "      <td>28.3</td>\n",
       "      <td>113.0</td>\n",
       "      <td>86.3</td>\n",
       "      <td>9611.0</td>\n",
       "      <td>13.9</td>\n",
       "      <td>19215.7</td>\n",
       "    </tr>\n",
       "    <tr>\n",
       "      <th>3</th>\n",
       "      <td>57.0</td>\n",
       "      <td>801.0</td>\n",
       "      <td>27.1</td>\n",
       "      <td>109.0</td>\n",
       "      <td>80.4</td>\n",
       "      <td>9483.0</td>\n",
       "      <td>13.6</td>\n",
       "      <td>21707.1</td>\n",
       "    </tr>\n",
       "    <tr>\n",
       "      <th>4</th>\n",
       "      <td>68.7</td>\n",
       "      <td>753.0</td>\n",
       "      <td>22.0</td>\n",
       "      <td>115.0</td>\n",
       "      <td>64.7</td>\n",
       "      <td>9265.0</td>\n",
       "      <td>14.6</td>\n",
       "      <td>16566.0</td>\n",
       "    </tr>\n",
       "    <tr>\n",
       "      <th>5</th>\n",
       "      <td>48.8</td>\n",
       "      <td>714.0</td>\n",
       "      <td>24.3</td>\n",
       "      <td>107.0</td>\n",
       "      <td>79.0</td>\n",
       "      <td>9555.0</td>\n",
       "      <td>13.8</td>\n",
       "      <td>17350.2</td>\n",
       "    </tr>\n",
       "    <tr>\n",
       "      <th>6</th>\n",
       "      <td>65.5</td>\n",
       "      <td>920.0</td>\n",
       "      <td>21.2</td>\n",
       "      <td>118.0</td>\n",
       "      <td>72.2</td>\n",
       "      <td>9611.0</td>\n",
       "      <td>13.3</td>\n",
       "      <td>19504.0</td>\n",
       "    </tr>\n",
       "    <tr>\n",
       "      <th>7</th>\n",
       "      <td>70.5</td>\n",
       "      <td>779.0</td>\n",
       "      <td>20.5</td>\n",
       "      <td>114.0</td>\n",
       "      <td>75.2</td>\n",
       "      <td>9483.0</td>\n",
       "      <td>14.5</td>\n",
       "      <td>15969.5</td>\n",
       "    </tr>\n",
       "    <tr>\n",
       "      <th>8</th>\n",
       "      <td>59.1</td>\n",
       "      <td>771.0</td>\n",
       "      <td>23.2</td>\n",
       "      <td>102.0</td>\n",
       "      <td>81.1</td>\n",
       "      <td>9483.0</td>\n",
       "      <td>14.2</td>\n",
       "      <td>17887.2</td>\n",
       "    </tr>\n",
       "    <tr>\n",
       "      <th>9</th>\n",
       "      <td>62.7</td>\n",
       "      <td>724.0</td>\n",
       "      <td>20.5</td>\n",
       "      <td>112.0</td>\n",
       "      <td>80.3</td>\n",
       "      <td>12656.0</td>\n",
       "      <td>13.7</td>\n",
       "      <td>14842.0</td>\n",
       "    </tr>\n",
       "    <tr>\n",
       "      <th>10</th>\n",
       "      <td>51.6</td>\n",
       "      <td>682.0</td>\n",
       "      <td>23.8</td>\n",
       "      <td>96.0</td>\n",
       "      <td>83.0</td>\n",
       "      <td>9483.0</td>\n",
       "      <td>14.6</td>\n",
       "      <td>16231.6</td>\n",
       "    </tr>\n",
       "    <tr>\n",
       "      <th>11</th>\n",
       "      <td>62.0</td>\n",
       "      <td>837.0</td>\n",
       "      <td>22.1</td>\n",
       "      <td>111.0</td>\n",
       "      <td>74.5</td>\n",
       "      <td>12656.0</td>\n",
       "      <td>11.6</td>\n",
       "      <td>18497.7</td>\n",
       "    </tr>\n",
       "    <tr>\n",
       "      <th>12</th>\n",
       "      <td>68.4</td>\n",
       "      <td>599.0</td>\n",
       "      <td>19.9</td>\n",
       "      <td>117.0</td>\n",
       "      <td>83.8</td>\n",
       "      <td>8298.0</td>\n",
       "      <td>15.1</td>\n",
       "      <td>11920.1</td>\n",
       "    </tr>\n",
       "    <tr>\n",
       "      <th>13</th>\n",
       "      <td>69.2</td>\n",
       "      <td>680.0</td>\n",
       "      <td>21.5</td>\n",
       "      <td>121.0</td>\n",
       "      <td>77.6</td>\n",
       "      <td>9265.0</td>\n",
       "      <td>13.7</td>\n",
       "      <td>14620.0</td>\n",
       "    </tr>\n",
       "    <tr>\n",
       "      <th>14</th>\n",
       "      <td>64.7</td>\n",
       "      <td>747.0</td>\n",
       "      <td>22.5</td>\n",
       "      <td>109.0</td>\n",
       "      <td>77.9</td>\n",
       "      <td>8314.0</td>\n",
       "      <td>14.4</td>\n",
       "      <td>16807.5</td>\n",
       "    </tr>\n",
       "    <tr>\n",
       "      <th>15</th>\n",
       "      <td>75.0</td>\n",
       "      <td>982.0</td>\n",
       "      <td>19.4</td>\n",
       "      <td>137.0</td>\n",
       "      <td>65.3</td>\n",
       "      <td>9483.0</td>\n",
       "      <td>13.3</td>\n",
       "      <td>19050.8</td>\n",
       "    </tr>\n",
       "    <tr>\n",
       "      <th>16</th>\n",
       "      <td>62.1</td>\n",
       "      <td>719.0</td>\n",
       "      <td>25.9</td>\n",
       "      <td>109.0</td>\n",
       "      <td>80.9</td>\n",
       "      <td>8298.0</td>\n",
       "      <td>14.9</td>\n",
       "      <td>18622.1</td>\n",
       "    </tr>\n",
       "    <tr>\n",
       "      <th>17</th>\n",
       "      <td>67.2</td>\n",
       "      <td>831.0</td>\n",
       "      <td>18.5</td>\n",
       "      <td>138.0</td>\n",
       "      <td>80.2</td>\n",
       "      <td>9483.0</td>\n",
       "      <td>14.6</td>\n",
       "      <td>15373.5</td>\n",
       "    </tr>\n",
       "    <tr>\n",
       "      <th>18</th>\n",
       "      <td>67.7</td>\n",
       "      <td>858.0</td>\n",
       "      <td>19.4</td>\n",
       "      <td>119.0</td>\n",
       "      <td>84.8</td>\n",
       "      <td>12656.0</td>\n",
       "      <td>14.3</td>\n",
       "      <td>16645.2</td>\n",
       "    </tr>\n",
       "    <tr>\n",
       "      <th>19</th>\n",
       "      <td>52.7</td>\n",
       "      <td>652.0</td>\n",
       "      <td>27.2</td>\n",
       "      <td>108.0</td>\n",
       "      <td>86.4</td>\n",
       "      <td>13566.0</td>\n",
       "      <td>14.6</td>\n",
       "      <td>17734.4</td>\n",
       "    </tr>\n",
       "    <tr>\n",
       "      <th>20</th>\n",
       "      <td>65.7</td>\n",
       "      <td>718.0</td>\n",
       "      <td>23.7</td>\n",
       "      <td>115.0</td>\n",
       "      <td>73.5</td>\n",
       "      <td>9483.0</td>\n",
       "      <td>15.0</td>\n",
       "      <td>17016.6</td>\n",
       "    </tr>\n",
       "    <tr>\n",
       "      <th>21</th>\n",
       "      <td>72.2</td>\n",
       "      <td>787.0</td>\n",
       "      <td>20.8</td>\n",
       "      <td>126.0</td>\n",
       "      <td>74.7</td>\n",
       "      <td>9483.0</td>\n",
       "      <td>14.9</td>\n",
       "      <td>16369.6</td>\n",
       "    </tr>\n",
       "    <tr>\n",
       "      <th>22</th>\n",
       "      <td>47.4</td>\n",
       "      <td>515.0</td>\n",
       "      <td>26.8</td>\n",
       "      <td>106.0</td>\n",
       "      <td>87.8</td>\n",
       "      <td>8298.0</td>\n",
       "      <td>15.3</td>\n",
       "      <td>13802.0</td>\n",
       "    </tr>\n",
       "    <tr>\n",
       "      <th>23</th>\n",
       "      <td>51.3</td>\n",
       "      <td>732.0</td>\n",
       "      <td>23.0</td>\n",
       "      <td>103.0</td>\n",
       "      <td>86.6</td>\n",
       "      <td>9611.0</td>\n",
       "      <td>13.8</td>\n",
       "      <td>16836.0</td>\n",
       "    </tr>\n",
       "    <tr>\n",
       "      <th>24</th>\n",
       "      <td>63.6</td>\n",
       "      <td>783.0</td>\n",
       "      <td>20.5</td>\n",
       "      <td>125.0</td>\n",
       "      <td>78.5</td>\n",
       "      <td>9483.0</td>\n",
       "      <td>14.1</td>\n",
       "      <td>16051.5</td>\n",
       "    </tr>\n",
       "    <tr>\n",
       "      <th>25</th>\n",
       "      <td>50.7</td>\n",
       "      <td>612.0</td>\n",
       "      <td>23.7</td>\n",
       "      <td>100.0</td>\n",
       "      <td>80.6</td>\n",
       "      <td>9033.0</td>\n",
       "      <td>13.3</td>\n",
       "      <td>14504.4</td>\n",
       "    </tr>\n",
       "    <tr>\n",
       "      <th>26</th>\n",
       "      <td>51.6</td>\n",
       "      <td>486.0</td>\n",
       "      <td>23.2</td>\n",
       "      <td>117.0</td>\n",
       "      <td>84.8</td>\n",
       "      <td>8298.0</td>\n",
       "      <td>15.9</td>\n",
       "      <td>11275.2</td>\n",
       "    </tr>\n",
       "    <tr>\n",
       "      <th>27</th>\n",
       "      <td>56.2</td>\n",
       "      <td>765.0</td>\n",
       "      <td>23.6</td>\n",
       "      <td>105.0</td>\n",
       "      <td>79.2</td>\n",
       "      <td>9483.0</td>\n",
       "      <td>13.7</td>\n",
       "      <td>18054.0</td>\n",
       "    </tr>\n",
       "    <tr>\n",
       "      <th>28</th>\n",
       "      <td>67.6</td>\n",
       "      <td>793.0</td>\n",
       "      <td>21.7</td>\n",
       "      <td>125.0</td>\n",
       "      <td>78.4</td>\n",
       "      <td>9483.0</td>\n",
       "      <td>14.5</td>\n",
       "      <td>17208.1</td>\n",
       "    </tr>\n",
       "    <tr>\n",
       "      <th>29</th>\n",
       "      <td>58.9</td>\n",
       "      <td>776.0</td>\n",
       "      <td>23.0</td>\n",
       "      <td>110.0</td>\n",
       "      <td>77.2</td>\n",
       "      <td>9265.0</td>\n",
       "      <td>13.6</td>\n",
       "      <td>17848.0</td>\n",
       "    </tr>\n",
       "    <tr>\n",
       "      <th>30</th>\n",
       "      <td>74.7</td>\n",
       "      <td>978.0</td>\n",
       "      <td>19.3</td>\n",
       "      <td>130.0</td>\n",
       "      <td>71.5</td>\n",
       "      <td>9483.0</td>\n",
       "      <td>15.3</td>\n",
       "      <td>18875.4</td>\n",
       "    </tr>\n",
       "    <tr>\n",
       "      <th>31</th>\n",
       "      <td>67.3</td>\n",
       "      <td>792.0</td>\n",
       "      <td>21.2</td>\n",
       "      <td>126.0</td>\n",
       "      <td>82.2</td>\n",
       "      <td>12656.0</td>\n",
       "      <td>15.1</td>\n",
       "      <td>16790.4</td>\n",
       "    </tr>\n",
       "  </tbody>\n",
       "</table>\n",
       "</div>"
      ],
      "text/plain": [
       "     YES  COUTAX  UNEMPF    MOR   ACT      GDP   AGE  COUTAX_FEMALEUNEMP\n",
       "0   60.3   712.0    21.0  105.0  82.4  13566.0  12.3             14952.0\n",
       "1   52.3   643.0    26.5   97.0  80.2  13566.0  15.3             17039.5\n",
       "2   53.4   679.0    28.3  113.0  86.3   9611.0  13.9             19215.7\n",
       "3   57.0   801.0    27.1  109.0  80.4   9483.0  13.6             21707.1\n",
       "4   68.7   753.0    22.0  115.0  64.7   9265.0  14.6             16566.0\n",
       "5   48.8   714.0    24.3  107.0  79.0   9555.0  13.8             17350.2\n",
       "6   65.5   920.0    21.2  118.0  72.2   9611.0  13.3             19504.0\n",
       "7   70.5   779.0    20.5  114.0  75.2   9483.0  14.5             15969.5\n",
       "8   59.1   771.0    23.2  102.0  81.1   9483.0  14.2             17887.2\n",
       "9   62.7   724.0    20.5  112.0  80.3  12656.0  13.7             14842.0\n",
       "10  51.6   682.0    23.8   96.0  83.0   9483.0  14.6             16231.6\n",
       "11  62.0   837.0    22.1  111.0  74.5  12656.0  11.6             18497.7\n",
       "12  68.4   599.0    19.9  117.0  83.8   8298.0  15.1             11920.1\n",
       "13  69.2   680.0    21.5  121.0  77.6   9265.0  13.7             14620.0\n",
       "14  64.7   747.0    22.5  109.0  77.9   8314.0  14.4             16807.5\n",
       "15  75.0   982.0    19.4  137.0  65.3   9483.0  13.3             19050.8\n",
       "16  62.1   719.0    25.9  109.0  80.9   8298.0  14.9             18622.1\n",
       "17  67.2   831.0    18.5  138.0  80.2   9483.0  14.6             15373.5\n",
       "18  67.7   858.0    19.4  119.0  84.8  12656.0  14.3             16645.2\n",
       "19  52.7   652.0    27.2  108.0  86.4  13566.0  14.6             17734.4\n",
       "20  65.7   718.0    23.7  115.0  73.5   9483.0  15.0             17016.6\n",
       "21  72.2   787.0    20.8  126.0  74.7   9483.0  14.9             16369.6\n",
       "22  47.4   515.0    26.8  106.0  87.8   8298.0  15.3             13802.0\n",
       "23  51.3   732.0    23.0  103.0  86.6   9611.0  13.8             16836.0\n",
       "24  63.6   783.0    20.5  125.0  78.5   9483.0  14.1             16051.5\n",
       "25  50.7   612.0    23.7  100.0  80.6   9033.0  13.3             14504.4\n",
       "26  51.6   486.0    23.2  117.0  84.8   8298.0  15.9             11275.2\n",
       "27  56.2   765.0    23.6  105.0  79.2   9483.0  13.7             18054.0\n",
       "28  67.6   793.0    21.7  125.0  78.4   9483.0  14.5             17208.1\n",
       "29  58.9   776.0    23.0  110.0  77.2   9265.0  13.6             17848.0\n",
       "30  74.7   978.0    19.3  130.0  71.5   9483.0  15.3             18875.4\n",
       "31  67.3   792.0    21.2  126.0  82.2  12656.0  15.1             16790.4"
      ]
     },
     "execution_count": 7,
     "metadata": {},
     "output_type": "execute_result"
    }
   ],
   "source": [
    "scotland"
   ]
  },
  {
   "cell_type": "code",
   "execution_count": 8,
   "metadata": {},
   "outputs": [
    {
     "data": {
      "text/plain": [
       "Index(['YES', 'COUTAX', 'UNEMPF', 'MOR', 'ACT', 'GDP', 'AGE',\n",
       "       'COUTAX_FEMALEUNEMP'],\n",
       "      dtype='object')"
      ]
     },
     "execution_count": 8,
     "metadata": {},
     "output_type": "execute_result"
    }
   ],
   "source": [
    "scotland.columns"
   ]
  },
  {
   "cell_type": "code",
   "execution_count": 9,
   "metadata": {},
   "outputs": [],
   "source": [
    "formula = \"YES ~ COUTAX + UNEMPF + MOR + ACT + GDP + AGE + COUTAX_FEMALEUNEMP\""
   ]
  },
  {
   "cell_type": "code",
   "execution_count": 10,
   "metadata": {},
   "outputs": [],
   "source": [
    "sm_gamma_model = smf.glm(formula, scotland, family=sm.families.Gamma(sm.families.links.Log()))"
   ]
  },
  {
   "cell_type": "code",
   "execution_count": 11,
   "metadata": {},
   "outputs": [],
   "source": [
    "sm_gamma_fit = sm_gamma_model.fit()"
   ]
  },
  {
   "cell_type": "code",
   "execution_count": 12,
   "metadata": {},
   "outputs": [
    {
     "data": {
      "text/html": [
       "<table class=\"simpletable\">\n",
       "<caption>Generalized Linear Model Regression Results</caption>\n",
       "<tr>\n",
       "  <th>Dep. Variable:</th>          <td>YES</td>       <th>  No. Observations:  </th>  <td>    32</td>  \n",
       "</tr>\n",
       "<tr>\n",
       "  <th>Model:</th>                  <td>GLM</td>       <th>  Df Residuals:      </th>  <td>    24</td>  \n",
       "</tr>\n",
       "<tr>\n",
       "  <th>Model Family:</th>          <td>Gamma</td>      <th>  Df Model:          </th>  <td>     7</td>  \n",
       "</tr>\n",
       "<tr>\n",
       "  <th>Link Function:</th>          <td>Log</td>       <th>  Scale:             </th> <td>0.0035927</td>\n",
       "</tr>\n",
       "<tr>\n",
       "  <th>Method:</th>                <td>IRLS</td>       <th>  Log-Likelihood:    </th> <td> -83.110</td> \n",
       "</tr>\n",
       "<tr>\n",
       "  <th>Date:</th>            <td>Sun, 13 Aug 2023</td> <th>  Deviance:          </th> <td>0.087988</td> \n",
       "</tr>\n",
       "<tr>\n",
       "  <th>Time:</th>                <td>07:41:40</td>     <th>  Pearson chi2:      </th>  <td>0.0862</td>  \n",
       "</tr>\n",
       "<tr>\n",
       "  <th>No. Iterations:</th>          <td>7</td>        <th>  Pseudo R-squ. (CS):</th>  <td>0.9797</td>  \n",
       "</tr>\n",
       "<tr>\n",
       "  <th>Covariance Type:</th>     <td>nonrobust</td>    <th>                     </th>     <td> </td>    \n",
       "</tr>\n",
       "</table>\n",
       "<table class=\"simpletable\">\n",
       "<tr>\n",
       "           <td></td>             <th>coef</th>     <th>std err</th>      <th>z</th>      <th>P>|z|</th>  <th>[0.025</th>    <th>0.975]</th>  \n",
       "</tr>\n",
       "<tr>\n",
       "  <th>Intercept</th>          <td>    5.6581</td> <td>    0.680</td> <td>    8.318</td> <td> 0.000</td> <td>    4.325</td> <td>    6.991</td>\n",
       "</tr>\n",
       "<tr>\n",
       "  <th>COUTAX</th>             <td>   -0.0024</td> <td>    0.001</td> <td>   -2.466</td> <td> 0.014</td> <td>   -0.004</td> <td>   -0.000</td>\n",
       "</tr>\n",
       "<tr>\n",
       "  <th>UNEMPF</th>             <td>   -0.1005</td> <td>    0.031</td> <td>   -3.269</td> <td> 0.001</td> <td>   -0.161</td> <td>   -0.040</td>\n",
       "</tr>\n",
       "<tr>\n",
       "  <th>MOR</th>                <td>    0.0048</td> <td>    0.002</td> <td>    2.946</td> <td> 0.003</td> <td>    0.002</td> <td>    0.008</td>\n",
       "</tr>\n",
       "<tr>\n",
       "  <th>ACT</th>                <td>   -0.0067</td> <td>    0.003</td> <td>   -2.534</td> <td> 0.011</td> <td>   -0.012</td> <td>   -0.002</td>\n",
       "</tr>\n",
       "<tr>\n",
       "  <th>GDP</th>                <td> 8.173e-06</td> <td> 7.19e-06</td> <td>    1.136</td> <td> 0.256</td> <td>-5.93e-06</td> <td> 2.23e-05</td>\n",
       "</tr>\n",
       "<tr>\n",
       "  <th>AGE</th>                <td>    0.0298</td> <td>    0.015</td> <td>    2.009</td> <td> 0.045</td> <td>    0.001</td> <td>    0.059</td>\n",
       "</tr>\n",
       "<tr>\n",
       "  <th>COUTAX_FEMALEUNEMP</th> <td>    0.0001</td> <td> 4.33e-05</td> <td>    2.724</td> <td> 0.006</td> <td> 3.31e-05</td> <td>    0.000</td>\n",
       "</tr>\n",
       "</table>"
      ],
      "text/latex": [
       "\\begin{center}\n",
       "\\begin{tabular}{lclc}\n",
       "\\toprule\n",
       "\\textbf{Dep. Variable:}      &       YES        & \\textbf{  No. Observations:  } &       32    \\\\\n",
       "\\textbf{Model:}              &       GLM        & \\textbf{  Df Residuals:      } &       24    \\\\\n",
       "\\textbf{Model Family:}       &      Gamma       & \\textbf{  Df Model:          } &        7    \\\\\n",
       "\\textbf{Link Function:}      &       Log        & \\textbf{  Scale:             } & 0.0035927   \\\\\n",
       "\\textbf{Method:}             &       IRLS       & \\textbf{  Log-Likelihood:    } &   -83.110   \\\\\n",
       "\\textbf{Date:}               & Sun, 13 Aug 2023 & \\textbf{  Deviance:          } &  0.087988   \\\\\n",
       "\\textbf{Time:}               &     07:41:40     & \\textbf{  Pearson chi2:      } &   0.0862    \\\\\n",
       "\\textbf{No. Iterations:}     &        7         & \\textbf{  Pseudo R-squ. (CS):} &   0.9797    \\\\\n",
       "\\textbf{Covariance Type:}    &    nonrobust     & \\textbf{                     } &             \\\\\n",
       "\\bottomrule\n",
       "\\end{tabular}\n",
       "\\begin{tabular}{lcccccc}\n",
       "                             & \\textbf{coef} & \\textbf{std err} & \\textbf{z} & \\textbf{P$> |$z$|$} & \\textbf{[0.025} & \\textbf{0.975]}  \\\\\n",
       "\\midrule\n",
       "\\textbf{Intercept}           &       5.6581  &        0.680     &     8.318  &         0.000        &        4.325    &        6.991     \\\\\n",
       "\\textbf{COUTAX}              &      -0.0024  &        0.001     &    -2.466  &         0.014        &       -0.004    &       -0.000     \\\\\n",
       "\\textbf{UNEMPF}              &      -0.1005  &        0.031     &    -3.269  &         0.001        &       -0.161    &       -0.040     \\\\\n",
       "\\textbf{MOR}                 &       0.0048  &        0.002     &     2.946  &         0.003        &        0.002    &        0.008     \\\\\n",
       "\\textbf{ACT}                 &      -0.0067  &        0.003     &    -2.534  &         0.011        &       -0.012    &       -0.002     \\\\\n",
       "\\textbf{GDP}                 &    8.173e-06  &     7.19e-06     &     1.136  &         0.256        &    -5.93e-06    &     2.23e-05     \\\\\n",
       "\\textbf{AGE}                 &       0.0298  &        0.015     &     2.009  &         0.045        &        0.001    &        0.059     \\\\\n",
       "\\textbf{COUTAX\\_FEMALEUNEMP} &       0.0001  &     4.33e-05     &     2.724  &         0.006        &     3.31e-05    &        0.000     \\\\\n",
       "\\bottomrule\n",
       "\\end{tabular}\n",
       "%\\caption{Generalized Linear Model Regression Results}\n",
       "\\end{center}"
      ],
      "text/plain": [
       "<class 'statsmodels.iolib.summary.Summary'>\n",
       "\"\"\"\n",
       "                 Generalized Linear Model Regression Results                  \n",
       "==============================================================================\n",
       "Dep. Variable:                    YES   No. Observations:                   32\n",
       "Model:                            GLM   Df Residuals:                       24\n",
       "Model Family:                   Gamma   Df Model:                            7\n",
       "Link Function:                    Log   Scale:                       0.0035927\n",
       "Method:                          IRLS   Log-Likelihood:                -83.110\n",
       "Date:                Sun, 13 Aug 2023   Deviance:                     0.087988\n",
       "Time:                        07:41:40   Pearson chi2:                   0.0862\n",
       "No. Iterations:                     7   Pseudo R-squ. (CS):             0.9797\n",
       "Covariance Type:            nonrobust                                         \n",
       "======================================================================================\n",
       "                         coef    std err          z      P>|z|      [0.025      0.975]\n",
       "--------------------------------------------------------------------------------------\n",
       "Intercept              5.6581      0.680      8.318      0.000       4.325       6.991\n",
       "COUTAX                -0.0024      0.001     -2.466      0.014      -0.004      -0.000\n",
       "UNEMPF                -0.1005      0.031     -3.269      0.001      -0.161      -0.040\n",
       "MOR                    0.0048      0.002      2.946      0.003       0.002       0.008\n",
       "ACT                   -0.0067      0.003     -2.534      0.011      -0.012      -0.002\n",
       "GDP                 8.173e-06   7.19e-06      1.136      0.256   -5.93e-06    2.23e-05\n",
       "AGE                    0.0298      0.015      2.009      0.045       0.001       0.059\n",
       "COUTAX_FEMALEUNEMP     0.0001   4.33e-05      2.724      0.006    3.31e-05       0.000\n",
       "======================================================================================\n",
       "\"\"\""
      ]
     },
     "execution_count": 12,
     "metadata": {},
     "output_type": "execute_result"
    }
   ],
   "source": [
    "sm_gamma_fit.summary()"
   ]
  },
  {
   "cell_type": "code",
   "execution_count": 13,
   "metadata": {},
   "outputs": [],
   "source": [
    "ll_gamma_model = ll.glm(scotland, formula, lik=ll.lik.gamma())"
   ]
  },
  {
   "cell_type": "code",
   "execution_count": 14,
   "metadata": {},
   "outputs": [],
   "source": [
    "ll_gamma_fit = ll_gamma_model.fit()"
   ]
  },
  {
   "cell_type": "markdown",
   "metadata": {},
   "source": [
    "The log-likelihood of linearlab's fit is different (slightly better) than statsmodels."
   ]
  },
  {
   "cell_type": "code",
   "execution_count": 15,
   "metadata": {},
   "outputs": [
    {
     "data": {
      "text/plain": [
       "-82.58292314828054"
      ]
     },
     "execution_count": 15,
     "metadata": {},
     "output_type": "execute_result"
    }
   ],
   "source": [
    "ll_gamma_fit.loglik"
   ]
  },
  {
   "cell_type": "markdown",
   "metadata": {},
   "source": [
    "However, the coefficients (for mu) are identical."
   ]
  },
  {
   "cell_type": "code",
   "execution_count": 16,
   "metadata": {},
   "outputs": [
    {
     "data": {
      "text/plain": [
       "mu   Intercept             5.658127\n",
       "     COUTAX               -0.002377\n",
       "     UNEMPF               -0.100477\n",
       "     MOR                   0.004813\n",
       "     ACT                  -0.006660\n",
       "     GDP                   0.000008\n",
       "     AGE                   0.029756\n",
       "     COUTAX_FEMALEUNEMP    0.000118\n",
       "phi  Intercept            -5.896751\n",
       "dtype: float64"
      ]
     },
     "execution_count": 16,
     "metadata": {},
     "output_type": "execute_result"
    }
   ],
   "source": [
    "ll_gamma_fit.beta_grouped"
   ]
  },
  {
   "cell_type": "markdown",
   "metadata": {},
   "source": [
    "The difference is that linearlab estimates the dispersion (phi), which statsmodels calls \"scale\", by true maximum likelihood, where statsmodels follows a more standard GLM framework and fits the mean response separately, then estimates dispersion from residuals.\n",
    "As gamma is an exponential dispersion model, and thus has an orthogonal parameterization, this doesn't change the estimation of the coefficients for the mean response.\n",
    "\n",
    "The advantages of the standard approach are computational simplicity (no messing with polygamma functions!).\n",
    "Linearlab's approach is much more flexible, allowing input-dependent dispersion models."
   ]
  },
  {
   "cell_type": "code",
   "execution_count": 17,
   "metadata": {},
   "outputs": [
    {
     "data": {
      "text/plain": [
       "Intercept    0.002748\n",
       "dtype: float64"
      ]
     },
     "execution_count": 17,
     "metadata": {},
     "output_type": "execute_result"
    }
   ],
   "source": [
    "np.exp(ll_gamma_fit.beta[\"phi\"])"
   ]
  },
  {
   "cell_type": "markdown",
   "metadata": {},
   "source": [
    "The model below can't be handled by a standard GLM framework.\n",
    "We specify nonstandard link functions for both mu and phi."
   ]
  },
  {
   "cell_type": "code",
   "execution_count": 18,
   "metadata": {},
   "outputs": [],
   "source": [
    "ll_gamma_softplus_model = ll.glm(scotland, formula, lik=ll.lik.gamma(mu_link=ll.link.softplusinv, phi_link=ll.link.softplusinv))"
   ]
  },
  {
   "cell_type": "code",
   "execution_count": 19,
   "metadata": {},
   "outputs": [],
   "source": [
    "ll_gamma_softplus_fit = ll_gamma_softplus_model.fit()"
   ]
  },
  {
   "cell_type": "code",
   "execution_count": 20,
   "metadata": {},
   "outputs": [
    {
     "data": {
      "text/plain": [
       "-82.755183969097"
      ]
     },
     "execution_count": 20,
     "metadata": {},
     "output_type": "execute_result"
    }
   ],
   "source": [
    "ll_gamma_softplus_fit.loglik"
   ]
  },
  {
   "cell_type": "code",
   "execution_count": 21,
   "metadata": {},
   "outputs": [
    {
     "data": {
      "text/plain": [
       "mu   Intercept             121.621492\n",
       "     COUTAX                 -0.101558\n",
       "     UNEMPF                 -4.618939\n",
       "     MOR                     0.314424\n",
       "     ACT                    -0.393455\n",
       "     GDP                     0.000427\n",
       "     AGE                     1.676418\n",
       "     COUTAX_FEMALEUNEMP      0.005220\n",
       "phi  Intercept              -5.884605\n",
       "dtype: float64"
      ]
     },
     "execution_count": 21,
     "metadata": {},
     "output_type": "execute_result"
    }
   ],
   "source": [
    "ll_gamma_softplus_fit.beta_grouped"
   ]
  },
  {
   "cell_type": "markdown",
   "metadata": {},
   "source": [
    "Linearlab can also use a shape-scale parameterization of the gamma distribution.\n",
    "This is outside of the standard GLM framework entirely, as we're no longer modeling the mean response."
   ]
  },
  {
   "cell_type": "code",
   "execution_count": 22,
   "metadata": {},
   "outputs": [],
   "source": [
    "ll_gamma_ss_model = ll.glm(scotland, formula, lik=ll.lik.gamma_ss())"
   ]
  },
  {
   "cell_type": "code",
   "execution_count": 23,
   "metadata": {},
   "outputs": [],
   "source": [
    "ll_gamma_ss_fit = ll_gamma_ss_model.fit()"
   ]
  },
  {
   "cell_type": "code",
   "execution_count": 24,
   "metadata": {},
   "outputs": [
    {
     "data": {
      "text/plain": [
       "-82.18638126400532"
      ]
     },
     "execution_count": 24,
     "metadata": {},
     "output_type": "execute_result"
    }
   ],
   "source": [
    "ll_gamma_ss_fit.loglik"
   ]
  },
  {
   "cell_type": "code",
   "execution_count": 25,
   "metadata": {},
   "outputs": [
    {
     "data": {
      "text/plain": [
       "k      Intercept             7.578341\n",
       "       COUTAX               -0.002459\n",
       "       UNEMPF               -0.104185\n",
       "       MOR                   0.004502\n",
       "       ACT                  -0.006913\n",
       "       GDP                   0.000009\n",
       "       AGE                   0.031221\n",
       "       COUTAX_FEMALEUNEMP    0.000122\n",
       "theta  Intercept            -1.810498\n",
       "dtype: float64"
      ]
     },
     "execution_count": 25,
     "metadata": {},
     "output_type": "execute_result"
    }
   ],
   "source": [
    "ll_gamma_ss_fit.beta_grouped"
   ]
  }
 ],
 "metadata": {
  "kernelspec": {
   "display_name": ".venv",
   "language": "python",
   "name": "python3"
  },
  "language_info": {
   "codemirror_mode": {
    "name": "ipython",
    "version": 3
   },
   "file_extension": ".py",
   "mimetype": "text/x-python",
   "name": "python",
   "nbconvert_exporter": "python",
   "pygments_lexer": "ipython3",
   "version": "3.11.3"
  },
  "orig_nbformat": 4
 },
 "nbformat": 4,
 "nbformat_minor": 2
}
