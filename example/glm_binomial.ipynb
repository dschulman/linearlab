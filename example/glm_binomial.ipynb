{
 "cells": [
  {
   "cell_type": "markdown",
   "metadata": {},
   "source": [
    "Reproduction of https://www.statsmodels.org/devel/examples/notebooks/generated/glm.html#GLM:-Binomial-response-data"
   ]
  },
  {
   "cell_type": "code",
   "execution_count": 1,
   "metadata": {},
   "outputs": [],
   "source": [
    "import statsmodels.api as sm\n",
    "import statsmodels.formula.api as smf"
   ]
  },
  {
   "cell_type": "code",
   "execution_count": 2,
   "metadata": {},
   "outputs": [],
   "source": [
    "import sys\n",
    "sys.path.append(\"..\")"
   ]
  },
  {
   "cell_type": "code",
   "execution_count": 3,
   "metadata": {},
   "outputs": [],
   "source": [
    "import linearlab as ll"
   ]
  },
  {
   "cell_type": "code",
   "execution_count": 4,
   "metadata": {},
   "outputs": [
    {
     "name": "stdout",
     "output_type": "stream",
     "text": [
      "::\n",
      "\n",
      "    Number of Observations - 303 (counties in California).\n",
      "\n",
      "    Number of Variables - 13 and 8 interaction terms.\n",
      "\n",
      "    Definition of variables names::\n",
      "\n",
      "        NABOVE   - Total number of students above the national median for the\n",
      "                   math section.\n",
      "        NBELOW   - Total number of students below the national median for the\n",
      "                   math section.\n",
      "        LOWINC   - Percentage of low income students\n",
      "        PERASIAN - Percentage of Asian student\n",
      "        PERBLACK - Percentage of black students\n",
      "        PERHISP  - Percentage of Hispanic students\n",
      "        PERMINTE - Percentage of minority teachers\n",
      "        AVYRSEXP - Sum of teachers' years in educational service divided by the\n",
      "                number of teachers.\n",
      "        AVSALK   - Total salary budget including benefits divided by the number\n",
      "                   of full-time teachers (in thousands)\n",
      "        PERSPENK - Per-pupil spending (in thousands)\n",
      "        PTRATIO  - Pupil-teacher ratio.\n",
      "        PCTAF    - Percentage of students taking UC/CSU prep courses\n",
      "        PCTCHRT  - Percentage of charter schools\n",
      "        PCTYRRND - Percentage of year-round schools\n",
      "\n",
      "        The below variables are interaction terms of the variables defined\n",
      "        above.\n",
      "\n",
      "        PERMINTE_AVYRSEXP\n",
      "        PEMINTE_AVSAL\n",
      "        AVYRSEXP_AVSAL\n",
      "        PERSPEN_PTRATIO\n",
      "        PERSPEN_PCTAF\n",
      "        PTRATIO_PCTAF\n",
      "        PERMINTE_AVTRSEXP_AVSAL\n",
      "        PERSPEN_PTRATIO_PCTAF\n",
      "\n"
     ]
    }
   ],
   "source": [
    "print(sm.datasets.star98.NOTE)"
   ]
  },
  {
   "cell_type": "code",
   "execution_count": 5,
   "metadata": {},
   "outputs": [],
   "source": [
    "star98 = sm.datasets.star98.load().data"
   ]
  },
  {
   "cell_type": "code",
   "execution_count": 6,
   "metadata": {},
   "outputs": [],
   "source": [
    "formula = (\n",
    "    \"NABOVE + NBELOW ~ \"\n",
    "    \"LOWINC + PERASIAN + PERBLACK + PERHISP + PERMINTE + AVYRSEXP + \"\n",
    "    \"AVSALK + PERSPENK + PTRATIO + PCTAF + PCTCHRT + PCTYRRND + \"\n",
    "    \"PERMINTE_AVYRSEXP + PERMINTE_AVSAL + AVYRSEXP_AVSAL + \"\n",
    "    \"PERSPEN_PTRATIO + PERSPEN_PCTAF + PTRATIO_PCTAF + \"\n",
    "    \"PERMINTE_AVYRSEXP_AVSAL + PERSPEN_PTRATIO_PCTAF\"\n",
    ")"
   ]
  },
  {
   "cell_type": "code",
   "execution_count": 7,
   "metadata": {},
   "outputs": [],
   "source": [
    "sm_logit_model = smf.glm(formula, star98, family=sm.families.Binomial())"
   ]
  },
  {
   "cell_type": "code",
   "execution_count": 8,
   "metadata": {},
   "outputs": [],
   "source": [
    "sm_logit_fit = sm_logit_model.fit()"
   ]
  },
  {
   "cell_type": "code",
   "execution_count": 9,
   "metadata": {},
   "outputs": [
    {
     "data": {
      "text/html": [
       "<table class=\"simpletable\">\n",
       "<caption>Generalized Linear Model Regression Results</caption>\n",
       "<tr>\n",
       "  <th>Dep. Variable:</th>   <td>['NABOVE', 'NBELOW']</td> <th>  No. Observations:  </th>  <td>   303</td> \n",
       "</tr>\n",
       "<tr>\n",
       "  <th>Model:</th>                    <td>GLM</td>         <th>  Df Residuals:      </th>  <td>   282</td> \n",
       "</tr>\n",
       "<tr>\n",
       "  <th>Model Family:</th>          <td>Binomial</td>       <th>  Df Model:          </th>  <td>    20</td> \n",
       "</tr>\n",
       "<tr>\n",
       "  <th>Link Function:</th>           <td>Logit</td>        <th>  Scale:             </th> <td>  1.0000</td>\n",
       "</tr>\n",
       "<tr>\n",
       "  <th>Method:</th>                  <td>IRLS</td>         <th>  Log-Likelihood:    </th> <td> -2998.6</td>\n",
       "</tr>\n",
       "<tr>\n",
       "  <th>Date:</th>              <td>Thu, 10 Aug 2023</td>   <th>  Deviance:          </th> <td>  4078.8</td>\n",
       "</tr>\n",
       "<tr>\n",
       "  <th>Time:</th>                  <td>06:17:05</td>       <th>  Pearson chi2:      </th> <td>4.05e+03</td>\n",
       "</tr>\n",
       "<tr>\n",
       "  <th>No. Iterations:</th>            <td>5</td>          <th>  Pseudo R-squ. (CS):</th>  <td> 1.000</td> \n",
       "</tr>\n",
       "<tr>\n",
       "  <th>Covariance Type:</th>       <td>nonrobust</td>      <th>                     </th>     <td> </td>   \n",
       "</tr>\n",
       "</table>\n",
       "<table class=\"simpletable\">\n",
       "<tr>\n",
       "             <td></td>                <th>coef</th>     <th>std err</th>      <th>z</th>      <th>P>|z|</th>  <th>[0.025</th>    <th>0.975]</th>  \n",
       "</tr>\n",
       "<tr>\n",
       "  <th>Intercept</th>               <td>    2.9589</td> <td>    1.547</td> <td>    1.913</td> <td> 0.056</td> <td>   -0.073</td> <td>    5.990</td>\n",
       "</tr>\n",
       "<tr>\n",
       "  <th>LOWINC</th>                  <td>   -0.0168</td> <td>    0.000</td> <td>  -38.749</td> <td> 0.000</td> <td>   -0.018</td> <td>   -0.016</td>\n",
       "</tr>\n",
       "<tr>\n",
       "  <th>PERASIAN</th>                <td>    0.0099</td> <td>    0.001</td> <td>   16.505</td> <td> 0.000</td> <td>    0.009</td> <td>    0.011</td>\n",
       "</tr>\n",
       "<tr>\n",
       "  <th>PERBLACK</th>                <td>   -0.0187</td> <td>    0.001</td> <td>  -25.182</td> <td> 0.000</td> <td>   -0.020</td> <td>   -0.017</td>\n",
       "</tr>\n",
       "<tr>\n",
       "  <th>PERHISP</th>                 <td>   -0.0142</td> <td>    0.000</td> <td>  -32.818</td> <td> 0.000</td> <td>   -0.015</td> <td>   -0.013</td>\n",
       "</tr>\n",
       "<tr>\n",
       "  <th>PERMINTE</th>                <td>    0.2545</td> <td>    0.030</td> <td>    8.498</td> <td> 0.000</td> <td>    0.196</td> <td>    0.313</td>\n",
       "</tr>\n",
       "<tr>\n",
       "  <th>AVYRSEXP</th>                <td>    0.2407</td> <td>    0.057</td> <td>    4.212</td> <td> 0.000</td> <td>    0.129</td> <td>    0.353</td>\n",
       "</tr>\n",
       "<tr>\n",
       "  <th>AVSALK</th>                  <td>    0.0804</td> <td>    0.014</td> <td>    5.775</td> <td> 0.000</td> <td>    0.053</td> <td>    0.108</td>\n",
       "</tr>\n",
       "<tr>\n",
       "  <th>PERSPENK</th>                <td>   -1.9522</td> <td>    0.317</td> <td>   -6.162</td> <td> 0.000</td> <td>   -2.573</td> <td>   -1.331</td>\n",
       "</tr>\n",
       "<tr>\n",
       "  <th>PTRATIO</th>                 <td>   -0.3341</td> <td>    0.061</td> <td>   -5.453</td> <td> 0.000</td> <td>   -0.454</td> <td>   -0.214</td>\n",
       "</tr>\n",
       "<tr>\n",
       "  <th>PCTAF</th>                   <td>   -0.1690</td> <td>    0.033</td> <td>   -5.169</td> <td> 0.000</td> <td>   -0.233</td> <td>   -0.105</td>\n",
       "</tr>\n",
       "<tr>\n",
       "  <th>PCTCHRT</th>                 <td>    0.0049</td> <td>    0.001</td> <td>    3.921</td> <td> 0.000</td> <td>    0.002</td> <td>    0.007</td>\n",
       "</tr>\n",
       "<tr>\n",
       "  <th>PCTYRRND</th>                <td>   -0.0036</td> <td>    0.000</td> <td>  -15.878</td> <td> 0.000</td> <td>   -0.004</td> <td>   -0.003</td>\n",
       "</tr>\n",
       "<tr>\n",
       "  <th>PERMINTE_AVYRSEXP</th>       <td>   -0.0141</td> <td>    0.002</td> <td>   -7.391</td> <td> 0.000</td> <td>   -0.018</td> <td>   -0.010</td>\n",
       "</tr>\n",
       "<tr>\n",
       "  <th>PERMINTE_AVSAL</th>          <td>   -0.0040</td> <td>    0.000</td> <td>   -8.450</td> <td> 0.000</td> <td>   -0.005</td> <td>   -0.003</td>\n",
       "</tr>\n",
       "<tr>\n",
       "  <th>AVYRSEXP_AVSAL</th>          <td>   -0.0039</td> <td>    0.001</td> <td>   -4.059</td> <td> 0.000</td> <td>   -0.006</td> <td>   -0.002</td>\n",
       "</tr>\n",
       "<tr>\n",
       "  <th>PERSPEN_PTRATIO</th>         <td>    0.0917</td> <td>    0.015</td> <td>    6.321</td> <td> 0.000</td> <td>    0.063</td> <td>    0.120</td>\n",
       "</tr>\n",
       "<tr>\n",
       "  <th>PERSPEN_PCTAF</th>           <td>    0.0490</td> <td>    0.007</td> <td>    6.574</td> <td> 0.000</td> <td>    0.034</td> <td>    0.064</td>\n",
       "</tr>\n",
       "<tr>\n",
       "  <th>PTRATIO_PCTAF</th>           <td>    0.0080</td> <td>    0.001</td> <td>    5.362</td> <td> 0.000</td> <td>    0.005</td> <td>    0.011</td>\n",
       "</tr>\n",
       "<tr>\n",
       "  <th>PERMINTE_AVYRSEXP_AVSAL</th> <td>    0.0002</td> <td> 2.99e-05</td> <td>    7.428</td> <td> 0.000</td> <td>    0.000</td> <td>    0.000</td>\n",
       "</tr>\n",
       "<tr>\n",
       "  <th>PERSPEN_PTRATIO_PCTAF</th>   <td>   -0.0022</td> <td>    0.000</td> <td>   -6.445</td> <td> 0.000</td> <td>   -0.003</td> <td>   -0.002</td>\n",
       "</tr>\n",
       "</table>"
      ],
      "text/latex": [
       "\\begin{center}\n",
       "\\begin{tabular}{lclc}\n",
       "\\toprule\n",
       "\\textbf{Dep. Variable:}            & ['NABOVE', 'NBELOW'] & \\textbf{  No. Observations:  } &      303    \\\\\n",
       "\\textbf{Model:}                    &         GLM          & \\textbf{  Df Residuals:      } &      282    \\\\\n",
       "\\textbf{Model Family:}             &       Binomial       & \\textbf{  Df Model:          } &       20    \\\\\n",
       "\\textbf{Link Function:}            &        Logit         & \\textbf{  Scale:             } &    1.0000   \\\\\n",
       "\\textbf{Method:}                   &         IRLS         & \\textbf{  Log-Likelihood:    } &   -2998.6   \\\\\n",
       "\\textbf{Date:}                     &   Thu, 10 Aug 2023   & \\textbf{  Deviance:          } &    4078.8   \\\\\n",
       "\\textbf{Time:}                     &       06:17:05       & \\textbf{  Pearson chi2:      } &  4.05e+03   \\\\\n",
       "\\textbf{No. Iterations:}           &          5           & \\textbf{  Pseudo R-squ. (CS):} &    1.000    \\\\\n",
       "\\textbf{Covariance Type:}          &      nonrobust       & \\textbf{                     } &             \\\\\n",
       "\\bottomrule\n",
       "\\end{tabular}\n",
       "\\begin{tabular}{lcccccc}\n",
       "                                   & \\textbf{coef} & \\textbf{std err} & \\textbf{z} & \\textbf{P$> |$z$|$} & \\textbf{[0.025} & \\textbf{0.975]}  \\\\\n",
       "\\midrule\n",
       "\\textbf{Intercept}                 &       2.9589  &        1.547     &     1.913  &         0.056        &       -0.073    &        5.990     \\\\\n",
       "\\textbf{LOWINC}                    &      -0.0168  &        0.000     &   -38.749  &         0.000        &       -0.018    &       -0.016     \\\\\n",
       "\\textbf{PERASIAN}                  &       0.0099  &        0.001     &    16.505  &         0.000        &        0.009    &        0.011     \\\\\n",
       "\\textbf{PERBLACK}                  &      -0.0187  &        0.001     &   -25.182  &         0.000        &       -0.020    &       -0.017     \\\\\n",
       "\\textbf{PERHISP}                   &      -0.0142  &        0.000     &   -32.818  &         0.000        &       -0.015    &       -0.013     \\\\\n",
       "\\textbf{PERMINTE}                  &       0.2545  &        0.030     &     8.498  &         0.000        &        0.196    &        0.313     \\\\\n",
       "\\textbf{AVYRSEXP}                  &       0.2407  &        0.057     &     4.212  &         0.000        &        0.129    &        0.353     \\\\\n",
       "\\textbf{AVSALK}                    &       0.0804  &        0.014     &     5.775  &         0.000        &        0.053    &        0.108     \\\\\n",
       "\\textbf{PERSPENK}                  &      -1.9522  &        0.317     &    -6.162  &         0.000        &       -2.573    &       -1.331     \\\\\n",
       "\\textbf{PTRATIO}                   &      -0.3341  &        0.061     &    -5.453  &         0.000        &       -0.454    &       -0.214     \\\\\n",
       "\\textbf{PCTAF}                     &      -0.1690  &        0.033     &    -5.169  &         0.000        &       -0.233    &       -0.105     \\\\\n",
       "\\textbf{PCTCHRT}                   &       0.0049  &        0.001     &     3.921  &         0.000        &        0.002    &        0.007     \\\\\n",
       "\\textbf{PCTYRRND}                  &      -0.0036  &        0.000     &   -15.878  &         0.000        &       -0.004    &       -0.003     \\\\\n",
       "\\textbf{PERMINTE\\_AVYRSEXP}        &      -0.0141  &        0.002     &    -7.391  &         0.000        &       -0.018    &       -0.010     \\\\\n",
       "\\textbf{PERMINTE\\_AVSAL}           &      -0.0040  &        0.000     &    -8.450  &         0.000        &       -0.005    &       -0.003     \\\\\n",
       "\\textbf{AVYRSEXP\\_AVSAL}           &      -0.0039  &        0.001     &    -4.059  &         0.000        &       -0.006    &       -0.002     \\\\\n",
       "\\textbf{PERSPEN\\_PTRATIO}          &       0.0917  &        0.015     &     6.321  &         0.000        &        0.063    &        0.120     \\\\\n",
       "\\textbf{PERSPEN\\_PCTAF}            &       0.0490  &        0.007     &     6.574  &         0.000        &        0.034    &        0.064     \\\\\n",
       "\\textbf{PTRATIO\\_PCTAF}            &       0.0080  &        0.001     &     5.362  &         0.000        &        0.005    &        0.011     \\\\\n",
       "\\textbf{PERMINTE\\_AVYRSEXP\\_AVSAL} &       0.0002  &     2.99e-05     &     7.428  &         0.000        &        0.000    &        0.000     \\\\\n",
       "\\textbf{PERSPEN\\_PTRATIO\\_PCTAF}   &      -0.0022  &        0.000     &    -6.445  &         0.000        &       -0.003    &       -0.002     \\\\\n",
       "\\bottomrule\n",
       "\\end{tabular}\n",
       "%\\caption{Generalized Linear Model Regression Results}\n",
       "\\end{center}"
      ],
      "text/plain": [
       "<class 'statsmodels.iolib.summary.Summary'>\n",
       "\"\"\"\n",
       "                  Generalized Linear Model Regression Results                   \n",
       "================================================================================\n",
       "Dep. Variable:     ['NABOVE', 'NBELOW']   No. Observations:                  303\n",
       "Model:                              GLM   Df Residuals:                      282\n",
       "Model Family:                  Binomial   Df Model:                           20\n",
       "Link Function:                    Logit   Scale:                          1.0000\n",
       "Method:                            IRLS   Log-Likelihood:                -2998.6\n",
       "Date:                  Thu, 10 Aug 2023   Deviance:                       4078.8\n",
       "Time:                          06:17:05   Pearson chi2:                 4.05e+03\n",
       "No. Iterations:                       5   Pseudo R-squ. (CS):              1.000\n",
       "Covariance Type:              nonrobust                                         \n",
       "===========================================================================================\n",
       "                              coef    std err          z      P>|z|      [0.025      0.975]\n",
       "-------------------------------------------------------------------------------------------\n",
       "Intercept                   2.9589      1.547      1.913      0.056      -0.073       5.990\n",
       "LOWINC                     -0.0168      0.000    -38.749      0.000      -0.018      -0.016\n",
       "PERASIAN                    0.0099      0.001     16.505      0.000       0.009       0.011\n",
       "PERBLACK                   -0.0187      0.001    -25.182      0.000      -0.020      -0.017\n",
       "PERHISP                    -0.0142      0.000    -32.818      0.000      -0.015      -0.013\n",
       "PERMINTE                    0.2545      0.030      8.498      0.000       0.196       0.313\n",
       "AVYRSEXP                    0.2407      0.057      4.212      0.000       0.129       0.353\n",
       "AVSALK                      0.0804      0.014      5.775      0.000       0.053       0.108\n",
       "PERSPENK                   -1.9522      0.317     -6.162      0.000      -2.573      -1.331\n",
       "PTRATIO                    -0.3341      0.061     -5.453      0.000      -0.454      -0.214\n",
       "PCTAF                      -0.1690      0.033     -5.169      0.000      -0.233      -0.105\n",
       "PCTCHRT                     0.0049      0.001      3.921      0.000       0.002       0.007\n",
       "PCTYRRND                   -0.0036      0.000    -15.878      0.000      -0.004      -0.003\n",
       "PERMINTE_AVYRSEXP          -0.0141      0.002     -7.391      0.000      -0.018      -0.010\n",
       "PERMINTE_AVSAL             -0.0040      0.000     -8.450      0.000      -0.005      -0.003\n",
       "AVYRSEXP_AVSAL             -0.0039      0.001     -4.059      0.000      -0.006      -0.002\n",
       "PERSPEN_PTRATIO             0.0917      0.015      6.321      0.000       0.063       0.120\n",
       "PERSPEN_PCTAF               0.0490      0.007      6.574      0.000       0.034       0.064\n",
       "PTRATIO_PCTAF               0.0080      0.001      5.362      0.000       0.005       0.011\n",
       "PERMINTE_AVYRSEXP_AVSAL     0.0002   2.99e-05      7.428      0.000       0.000       0.000\n",
       "PERSPEN_PTRATIO_PCTAF      -0.0022      0.000     -6.445      0.000      -0.003      -0.002\n",
       "===========================================================================================\n",
       "\"\"\""
      ]
     },
     "execution_count": 9,
     "metadata": {},
     "output_type": "execute_result"
    }
   ],
   "source": [
    "sm_logit_fit.summary()"
   ]
  },
  {
   "cell_type": "code",
   "execution_count": 10,
   "metadata": {},
   "outputs": [],
   "source": [
    "ll_logit_model = ll.glm(star98, formula, lik=ll.lik.binomial())"
   ]
  },
  {
   "cell_type": "code",
   "execution_count": 11,
   "metadata": {},
   "outputs": [],
   "source": [
    "ll_logit_fit = ll_logit_model.fit()"
   ]
  },
  {
   "cell_type": "code",
   "execution_count": 12,
   "metadata": {},
   "outputs": [
    {
     "data": {
      "text/plain": [
       "-2998.6125589939766"
      ]
     },
     "execution_count": 12,
     "metadata": {},
     "output_type": "execute_result"
    }
   ],
   "source": [
    "ll_logit_fit.loglik"
   ]
  },
  {
   "cell_type": "code",
   "execution_count": 13,
   "metadata": {},
   "outputs": [
    {
     "data": {
      "text/plain": [
       "p  Intercept                  2.958878\n",
       "   LOWINC                    -0.016815\n",
       "   PERASIAN                   0.009925\n",
       "   PERBLACK                  -0.018724\n",
       "   PERHISP                   -0.014239\n",
       "   PERMINTE                   0.254487\n",
       "   AVYRSEXP                   0.240694\n",
       "   AVSALK                     0.080409\n",
       "   PERSPENK                  -1.952160\n",
       "   PTRATIO                   -0.334086\n",
       "   PCTAF                     -0.169022\n",
       "   PCTCHRT                    0.004917\n",
       "   PCTYRRND                  -0.003580\n",
       "   PERMINTE_AVYRSEXP         -0.014077\n",
       "   PERMINTE_AVSAL            -0.004005\n",
       "   AVYRSEXP_AVSAL            -0.003906\n",
       "   PERSPEN_PTRATIO            0.091714\n",
       "   PERSPEN_PCTAF              0.048990\n",
       "   PTRATIO_PCTAF              0.008041\n",
       "   PERMINTE_AVYRSEXP_AVSAL    0.000222\n",
       "   PERSPEN_PTRATIO_PCTAF     -0.002249\n",
       "dtype: float64"
      ]
     },
     "execution_count": 13,
     "metadata": {},
     "output_type": "execute_result"
    }
   ],
   "source": [
    "ll_logit_fit.beta_grouped"
   ]
  },
  {
   "cell_type": "code",
   "execution_count": 14,
   "metadata": {},
   "outputs": [],
   "source": [
    "sm_probit_model = smf.glm(formula, star98, family=sm.families.Binomial(sm.families.links.Probit()))"
   ]
  },
  {
   "cell_type": "code",
   "execution_count": 15,
   "metadata": {},
   "outputs": [],
   "source": [
    "sm_probit_fit = sm_probit_model.fit()"
   ]
  },
  {
   "cell_type": "code",
   "execution_count": 16,
   "metadata": {},
   "outputs": [
    {
     "data": {
      "text/html": [
       "<table class=\"simpletable\">\n",
       "<caption>Generalized Linear Model Regression Results</caption>\n",
       "<tr>\n",
       "  <th>Dep. Variable:</th>   <td>['NABOVE', 'NBELOW']</td> <th>  No. Observations:  </th>  <td>   303</td> \n",
       "</tr>\n",
       "<tr>\n",
       "  <th>Model:</th>                    <td>GLM</td>         <th>  Df Residuals:      </th>  <td>   282</td> \n",
       "</tr>\n",
       "<tr>\n",
       "  <th>Model Family:</th>          <td>Binomial</td>       <th>  Df Model:          </th>  <td>    20</td> \n",
       "</tr>\n",
       "<tr>\n",
       "  <th>Link Function:</th>          <td>Probit</td>        <th>  Scale:             </th> <td>  1.0000</td>\n",
       "</tr>\n",
       "<tr>\n",
       "  <th>Method:</th>                  <td>IRLS</td>         <th>  Log-Likelihood:    </th> <td> -3014.0</td>\n",
       "</tr>\n",
       "<tr>\n",
       "  <th>Date:</th>              <td>Thu, 10 Aug 2023</td>   <th>  Deviance:          </th> <td>  4109.6</td>\n",
       "</tr>\n",
       "<tr>\n",
       "  <th>Time:</th>                  <td>06:19:08</td>       <th>  Pearson chi2:      </th> <td>4.09e+03</td>\n",
       "</tr>\n",
       "<tr>\n",
       "  <th>No. Iterations:</th>            <td>5</td>          <th>  Pseudo R-squ. (CS):</th>  <td> 1.000</td> \n",
       "</tr>\n",
       "<tr>\n",
       "  <th>Covariance Type:</th>       <td>nonrobust</td>      <th>                     </th>     <td> </td>   \n",
       "</tr>\n",
       "</table>\n",
       "<table class=\"simpletable\">\n",
       "<tr>\n",
       "             <td></td>                <th>coef</th>     <th>std err</th>      <th>z</th>      <th>P>|z|</th>  <th>[0.025</th>    <th>0.975]</th>  \n",
       "</tr>\n",
       "<tr>\n",
       "  <th>Intercept</th>               <td>    1.5439</td> <td>    0.925</td> <td>    1.669</td> <td> 0.095</td> <td>   -0.269</td> <td>    3.357</td>\n",
       "</tr>\n",
       "<tr>\n",
       "  <th>LOWINC</th>                  <td>   -0.0103</td> <td>    0.000</td> <td>  -38.981</td> <td> 0.000</td> <td>   -0.011</td> <td>   -0.010</td>\n",
       "</tr>\n",
       "<tr>\n",
       "  <th>PERASIAN</th>                <td>    0.0059</td> <td>    0.000</td> <td>   16.376</td> <td> 0.000</td> <td>    0.005</td> <td>    0.007</td>\n",
       "</tr>\n",
       "<tr>\n",
       "  <th>PERBLACK</th>                <td>   -0.0118</td> <td>    0.000</td> <td>  -26.077</td> <td> 0.000</td> <td>   -0.013</td> <td>   -0.011</td>\n",
       "</tr>\n",
       "<tr>\n",
       "  <th>PERHISP</th>                 <td>   -0.0088</td> <td>    0.000</td> <td>  -33.542</td> <td> 0.000</td> <td>   -0.009</td> <td>   -0.008</td>\n",
       "</tr>\n",
       "<tr>\n",
       "  <th>PERMINTE</th>                <td>    0.1477</td> <td>    0.018</td> <td>    8.220</td> <td> 0.000</td> <td>    0.112</td> <td>    0.183</td>\n",
       "</tr>\n",
       "<tr>\n",
       "  <th>AVYRSEXP</th>                <td>    0.1361</td> <td>    0.035</td> <td>    3.885</td> <td> 0.000</td> <td>    0.067</td> <td>    0.205</td>\n",
       "</tr>\n",
       "<tr>\n",
       "  <th>AVSALK</th>                  <td>    0.0462</td> <td>    0.009</td> <td>    5.410</td> <td> 0.000</td> <td>    0.029</td> <td>    0.063</td>\n",
       "</tr>\n",
       "<tr>\n",
       "  <th>PERSPENK</th>                <td>   -1.0953</td> <td>    0.188</td> <td>   -5.820</td> <td> 0.000</td> <td>   -1.464</td> <td>   -0.726</td>\n",
       "</tr>\n",
       "<tr>\n",
       "  <th>PTRATIO</th>                 <td>   -0.1845</td> <td>    0.036</td> <td>   -5.072</td> <td> 0.000</td> <td>   -0.256</td> <td>   -0.113</td>\n",
       "</tr>\n",
       "<tr>\n",
       "  <th>PCTAF</th>                   <td>   -0.0919</td> <td>    0.019</td> <td>   -4.794</td> <td> 0.000</td> <td>   -0.129</td> <td>   -0.054</td>\n",
       "</tr>\n",
       "<tr>\n",
       "  <th>PCTCHRT</th>                 <td>    0.0030</td> <td>    0.001</td> <td>    3.833</td> <td> 0.000</td> <td>    0.001</td> <td>    0.005</td>\n",
       "</tr>\n",
       "<tr>\n",
       "  <th>PCTYRRND</th>                <td>   -0.0022</td> <td>    0.000</td> <td>  -15.792</td> <td> 0.000</td> <td>   -0.002</td> <td>   -0.002</td>\n",
       "</tr>\n",
       "<tr>\n",
       "  <th>PERMINTE_AVYRSEXP</th>       <td>   -0.0081</td> <td>    0.001</td> <td>   -7.046</td> <td> 0.000</td> <td>   -0.010</td> <td>   -0.006</td>\n",
       "</tr>\n",
       "<tr>\n",
       "  <th>PERMINTE_AVSAL</th>          <td>   -0.0023</td> <td>    0.000</td> <td>   -8.103</td> <td> 0.000</td> <td>   -0.003</td> <td>   -0.002</td>\n",
       "</tr>\n",
       "<tr>\n",
       "  <th>AVYRSEXP_AVSAL</th>          <td>   -0.0022</td> <td>    0.001</td> <td>   -3.708</td> <td> 0.000</td> <td>   -0.003</td> <td>   -0.001</td>\n",
       "</tr>\n",
       "<tr>\n",
       "  <th>PERSPEN_PTRATIO</th>         <td>    0.0516</td> <td>    0.009</td> <td>    5.977</td> <td> 0.000</td> <td>    0.035</td> <td>    0.068</td>\n",
       "</tr>\n",
       "<tr>\n",
       "  <th>PERSPEN_PCTAF</th>           <td>    0.0274</td> <td>    0.004</td> <td>    6.284</td> <td> 0.000</td> <td>    0.019</td> <td>    0.036</td>\n",
       "</tr>\n",
       "<tr>\n",
       "  <th>PTRATIO_PCTAF</th>           <td>    0.0044</td> <td>    0.001</td> <td>    5.001</td> <td> 0.000</td> <td>    0.003</td> <td>    0.006</td>\n",
       "</tr>\n",
       "<tr>\n",
       "  <th>PERMINTE_AVYRSEXP_AVSAL</th> <td>    0.0001</td> <td>  1.8e-05</td> <td>    7.034</td> <td> 0.000</td> <td> 9.14e-05</td> <td>    0.000</td>\n",
       "</tr>\n",
       "<tr>\n",
       "  <th>PERSPEN_PTRATIO_PCTAF</th>   <td>   -0.0013</td> <td>    0.000</td> <td>   -6.151</td> <td> 0.000</td> <td>   -0.002</td> <td>   -0.001</td>\n",
       "</tr>\n",
       "</table>"
      ],
      "text/latex": [
       "\\begin{center}\n",
       "\\begin{tabular}{lclc}\n",
       "\\toprule\n",
       "\\textbf{Dep. Variable:}            & ['NABOVE', 'NBELOW'] & \\textbf{  No. Observations:  } &      303    \\\\\n",
       "\\textbf{Model:}                    &         GLM          & \\textbf{  Df Residuals:      } &      282    \\\\\n",
       "\\textbf{Model Family:}             &       Binomial       & \\textbf{  Df Model:          } &       20    \\\\\n",
       "\\textbf{Link Function:}            &        Probit        & \\textbf{  Scale:             } &    1.0000   \\\\\n",
       "\\textbf{Method:}                   &         IRLS         & \\textbf{  Log-Likelihood:    } &   -3014.0   \\\\\n",
       "\\textbf{Date:}                     &   Thu, 10 Aug 2023   & \\textbf{  Deviance:          } &    4109.6   \\\\\n",
       "\\textbf{Time:}                     &       06:19:08       & \\textbf{  Pearson chi2:      } &  4.09e+03   \\\\\n",
       "\\textbf{No. Iterations:}           &          5           & \\textbf{  Pseudo R-squ. (CS):} &    1.000    \\\\\n",
       "\\textbf{Covariance Type:}          &      nonrobust       & \\textbf{                     } &             \\\\\n",
       "\\bottomrule\n",
       "\\end{tabular}\n",
       "\\begin{tabular}{lcccccc}\n",
       "                                   & \\textbf{coef} & \\textbf{std err} & \\textbf{z} & \\textbf{P$> |$z$|$} & \\textbf{[0.025} & \\textbf{0.975]}  \\\\\n",
       "\\midrule\n",
       "\\textbf{Intercept}                 &       1.5439  &        0.925     &     1.669  &         0.095        &       -0.269    &        3.357     \\\\\n",
       "\\textbf{LOWINC}                    &      -0.0103  &        0.000     &   -38.981  &         0.000        &       -0.011    &       -0.010     \\\\\n",
       "\\textbf{PERASIAN}                  &       0.0059  &        0.000     &    16.376  &         0.000        &        0.005    &        0.007     \\\\\n",
       "\\textbf{PERBLACK}                  &      -0.0118  &        0.000     &   -26.077  &         0.000        &       -0.013    &       -0.011     \\\\\n",
       "\\textbf{PERHISP}                   &      -0.0088  &        0.000     &   -33.542  &         0.000        &       -0.009    &       -0.008     \\\\\n",
       "\\textbf{PERMINTE}                  &       0.1477  &        0.018     &     8.220  &         0.000        &        0.112    &        0.183     \\\\\n",
       "\\textbf{AVYRSEXP}                  &       0.1361  &        0.035     &     3.885  &         0.000        &        0.067    &        0.205     \\\\\n",
       "\\textbf{AVSALK}                    &       0.0462  &        0.009     &     5.410  &         0.000        &        0.029    &        0.063     \\\\\n",
       "\\textbf{PERSPENK}                  &      -1.0953  &        0.188     &    -5.820  &         0.000        &       -1.464    &       -0.726     \\\\\n",
       "\\textbf{PTRATIO}                   &      -0.1845  &        0.036     &    -5.072  &         0.000        &       -0.256    &       -0.113     \\\\\n",
       "\\textbf{PCTAF}                     &      -0.0919  &        0.019     &    -4.794  &         0.000        &       -0.129    &       -0.054     \\\\\n",
       "\\textbf{PCTCHRT}                   &       0.0030  &        0.001     &     3.833  &         0.000        &        0.001    &        0.005     \\\\\n",
       "\\textbf{PCTYRRND}                  &      -0.0022  &        0.000     &   -15.792  &         0.000        &       -0.002    &       -0.002     \\\\\n",
       "\\textbf{PERMINTE\\_AVYRSEXP}        &      -0.0081  &        0.001     &    -7.046  &         0.000        &       -0.010    &       -0.006     \\\\\n",
       "\\textbf{PERMINTE\\_AVSAL}           &      -0.0023  &        0.000     &    -8.103  &         0.000        &       -0.003    &       -0.002     \\\\\n",
       "\\textbf{AVYRSEXP\\_AVSAL}           &      -0.0022  &        0.001     &    -3.708  &         0.000        &       -0.003    &       -0.001     \\\\\n",
       "\\textbf{PERSPEN\\_PTRATIO}          &       0.0516  &        0.009     &     5.977  &         0.000        &        0.035    &        0.068     \\\\\n",
       "\\textbf{PERSPEN\\_PCTAF}            &       0.0274  &        0.004     &     6.284  &         0.000        &        0.019    &        0.036     \\\\\n",
       "\\textbf{PTRATIO\\_PCTAF}            &       0.0044  &        0.001     &     5.001  &         0.000        &        0.003    &        0.006     \\\\\n",
       "\\textbf{PERMINTE\\_AVYRSEXP\\_AVSAL} &       0.0001  &      1.8e-05     &     7.034  &         0.000        &     9.14e-05    &        0.000     \\\\\n",
       "\\textbf{PERSPEN\\_PTRATIO\\_PCTAF}   &      -0.0013  &        0.000     &    -6.151  &         0.000        &       -0.002    &       -0.001     \\\\\n",
       "\\bottomrule\n",
       "\\end{tabular}\n",
       "%\\caption{Generalized Linear Model Regression Results}\n",
       "\\end{center}"
      ],
      "text/plain": [
       "<class 'statsmodels.iolib.summary.Summary'>\n",
       "\"\"\"\n",
       "                  Generalized Linear Model Regression Results                   \n",
       "================================================================================\n",
       "Dep. Variable:     ['NABOVE', 'NBELOW']   No. Observations:                  303\n",
       "Model:                              GLM   Df Residuals:                      282\n",
       "Model Family:                  Binomial   Df Model:                           20\n",
       "Link Function:                   Probit   Scale:                          1.0000\n",
       "Method:                            IRLS   Log-Likelihood:                -3014.0\n",
       "Date:                  Thu, 10 Aug 2023   Deviance:                       4109.6\n",
       "Time:                          06:19:08   Pearson chi2:                 4.09e+03\n",
       "No. Iterations:                       5   Pseudo R-squ. (CS):              1.000\n",
       "Covariance Type:              nonrobust                                         \n",
       "===========================================================================================\n",
       "                              coef    std err          z      P>|z|      [0.025      0.975]\n",
       "-------------------------------------------------------------------------------------------\n",
       "Intercept                   1.5439      0.925      1.669      0.095      -0.269       3.357\n",
       "LOWINC                     -0.0103      0.000    -38.981      0.000      -0.011      -0.010\n",
       "PERASIAN                    0.0059      0.000     16.376      0.000       0.005       0.007\n",
       "PERBLACK                   -0.0118      0.000    -26.077      0.000      -0.013      -0.011\n",
       "PERHISP                    -0.0088      0.000    -33.542      0.000      -0.009      -0.008\n",
       "PERMINTE                    0.1477      0.018      8.220      0.000       0.112       0.183\n",
       "AVYRSEXP                    0.1361      0.035      3.885      0.000       0.067       0.205\n",
       "AVSALK                      0.0462      0.009      5.410      0.000       0.029       0.063\n",
       "PERSPENK                   -1.0953      0.188     -5.820      0.000      -1.464      -0.726\n",
       "PTRATIO                    -0.1845      0.036     -5.072      0.000      -0.256      -0.113\n",
       "PCTAF                      -0.0919      0.019     -4.794      0.000      -0.129      -0.054\n",
       "PCTCHRT                     0.0030      0.001      3.833      0.000       0.001       0.005\n",
       "PCTYRRND                   -0.0022      0.000    -15.792      0.000      -0.002      -0.002\n",
       "PERMINTE_AVYRSEXP          -0.0081      0.001     -7.046      0.000      -0.010      -0.006\n",
       "PERMINTE_AVSAL             -0.0023      0.000     -8.103      0.000      -0.003      -0.002\n",
       "AVYRSEXP_AVSAL             -0.0022      0.001     -3.708      0.000      -0.003      -0.001\n",
       "PERSPEN_PTRATIO             0.0516      0.009      5.977      0.000       0.035       0.068\n",
       "PERSPEN_PCTAF               0.0274      0.004      6.284      0.000       0.019       0.036\n",
       "PTRATIO_PCTAF               0.0044      0.001      5.001      0.000       0.003       0.006\n",
       "PERMINTE_AVYRSEXP_AVSAL     0.0001    1.8e-05      7.034      0.000    9.14e-05       0.000\n",
       "PERSPEN_PTRATIO_PCTAF      -0.0013      0.000     -6.151      0.000      -0.002      -0.001\n",
       "===========================================================================================\n",
       "\"\"\""
      ]
     },
     "execution_count": 16,
     "metadata": {},
     "output_type": "execute_result"
    }
   ],
   "source": [
    "sm_probit_fit.summary()"
   ]
  },
  {
   "cell_type": "code",
   "execution_count": 18,
   "metadata": {},
   "outputs": [],
   "source": [
    "ll_probit_model = ll.glm(star98, formula, lik=ll.lik.binomial(ll.link.probit))"
   ]
  },
  {
   "cell_type": "code",
   "execution_count": 19,
   "metadata": {},
   "outputs": [],
   "source": [
    "ll_probit_fit = ll_probit_model.fit()"
   ]
  },
  {
   "cell_type": "code",
   "execution_count": 21,
   "metadata": {},
   "outputs": [
    {
     "data": {
      "text/plain": [
       "-3014.0409879316285"
      ]
     },
     "execution_count": 21,
     "metadata": {},
     "output_type": "execute_result"
    }
   ],
   "source": [
    "ll_probit_fit.loglik"
   ]
  },
  {
   "cell_type": "code",
   "execution_count": 22,
   "metadata": {},
   "outputs": [
    {
     "data": {
      "text/plain": [
       "p  Intercept                  1.543917\n",
       "   LOWINC                    -0.010326\n",
       "   PERASIAN                   0.005927\n",
       "   PERBLACK                  -0.011753\n",
       "   PERHISP                   -0.008834\n",
       "   PERMINTE                   0.147680\n",
       "   AVYRSEXP                   0.136137\n",
       "   AVSALK                     0.046177\n",
       "   PERSPENK                  -1.095327\n",
       "   PTRATIO                   -0.184516\n",
       "   PCTAF                     -0.091851\n",
       "   PCTCHRT                    0.002986\n",
       "   PCTYRRND                  -0.002175\n",
       "   PERMINTE_AVYRSEXP         -0.008076\n",
       "   PERMINTE_AVSAL            -0.002308\n",
       "   AVYRSEXP_AVSAL            -0.002188\n",
       "   PERSPEN_PTRATIO            0.051564\n",
       "   PERSPEN_PCTAF              0.027390\n",
       "   PTRATIO_PCTAF              0.004403\n",
       "   PERMINTE_AVYRSEXP_AVSAL    0.000127\n",
       "   PERSPEN_PTRATIO_PCTAF     -0.001260\n",
       "dtype: float64"
      ]
     },
     "execution_count": 22,
     "metadata": {},
     "output_type": "execute_result"
    }
   ],
   "source": [
    "ll_probit_fit.beta_grouped"
   ]
  },
  {
   "cell_type": "code",
   "execution_count": 23,
   "metadata": {},
   "outputs": [],
   "source": [
    "sm_cauchit_model = smf.glm(formula, star98, family=sm.families.Binomial(sm.families.links.Cauchy()))"
   ]
  },
  {
   "cell_type": "code",
   "execution_count": 24,
   "metadata": {},
   "outputs": [],
   "source": [
    "sm_cauchit_fit = sm_cauchit_model.fit()"
   ]
  },
  {
   "cell_type": "code",
   "execution_count": 25,
   "metadata": {},
   "outputs": [
    {
     "data": {
      "text/html": [
       "<table class=\"simpletable\">\n",
       "<caption>Generalized Linear Model Regression Results</caption>\n",
       "<tr>\n",
       "  <th>Dep. Variable:</th>   <td>['NABOVE', 'NBELOW']</td> <th>  No. Observations:  </th>  <td>   303</td> \n",
       "</tr>\n",
       "<tr>\n",
       "  <th>Model:</th>                    <td>GLM</td>         <th>  Df Residuals:      </th>  <td>   282</td> \n",
       "</tr>\n",
       "<tr>\n",
       "  <th>Model Family:</th>          <td>Binomial</td>       <th>  Df Model:          </th>  <td>    20</td> \n",
       "</tr>\n",
       "<tr>\n",
       "  <th>Link Function:</th>          <td>Cauchy</td>        <th>  Scale:             </th> <td>  1.0000</td>\n",
       "</tr>\n",
       "<tr>\n",
       "  <th>Method:</th>                  <td>IRLS</td>         <th>  Log-Likelihood:    </th> <td> -2985.9</td>\n",
       "</tr>\n",
       "<tr>\n",
       "  <th>Date:</th>              <td>Thu, 10 Aug 2023</td>   <th>  Deviance:          </th> <td>  4053.3</td>\n",
       "</tr>\n",
       "<tr>\n",
       "  <th>Time:</th>                  <td>06:22:04</td>       <th>  Pearson chi2:      </th> <td>4.00e+03</td>\n",
       "</tr>\n",
       "<tr>\n",
       "  <th>No. Iterations:</th>            <td>7</td>          <th>  Pseudo R-squ. (CS):</th>  <td> 1.000</td> \n",
       "</tr>\n",
       "<tr>\n",
       "  <th>Covariance Type:</th>       <td>nonrobust</td>      <th>                     </th>     <td> </td>   \n",
       "</tr>\n",
       "</table>\n",
       "<table class=\"simpletable\">\n",
       "<tr>\n",
       "             <td></td>                <th>coef</th>     <th>std err</th>      <th>z</th>      <th>P>|z|</th>  <th>[0.025</th>    <th>0.975]</th>  \n",
       "</tr>\n",
       "<tr>\n",
       "  <th>Intercept</th>               <td>    6.3387</td> <td>    1.562</td> <td>    4.059</td> <td> 0.000</td> <td>    3.278</td> <td>    9.400</td>\n",
       "</tr>\n",
       "<tr>\n",
       "  <th>LOWINC</th>                  <td>   -0.0148</td> <td>    0.000</td> <td>  -37.254</td> <td> 0.000</td> <td>   -0.016</td> <td>   -0.014</td>\n",
       "</tr>\n",
       "<tr>\n",
       "  <th>PERASIAN</th>                <td>    0.0104</td> <td>    0.001</td> <td>   17.489</td> <td> 0.000</td> <td>    0.009</td> <td>    0.012</td>\n",
       "</tr>\n",
       "<tr>\n",
       "  <th>PERBLACK</th>                <td>   -0.0144</td> <td>    0.001</td> <td>  -20.430</td> <td> 0.000</td> <td>   -0.016</td> <td>   -0.013</td>\n",
       "</tr>\n",
       "<tr>\n",
       "  <th>PERHISP</th>                 <td>   -0.0116</td> <td>    0.000</td> <td>  -28.598</td> <td> 0.000</td> <td>   -0.012</td> <td>   -0.011</td>\n",
       "</tr>\n",
       "<tr>\n",
       "  <th>PERMINTE</th>                <td>    0.2773</td> <td>    0.030</td> <td>    9.300</td> <td> 0.000</td> <td>    0.219</td> <td>    0.336</td>\n",
       "</tr>\n",
       "<tr>\n",
       "  <th>AVYRSEXP</th>                <td>    0.2583</td> <td>    0.050</td> <td>    5.151</td> <td> 0.000</td> <td>    0.160</td> <td>    0.357</td>\n",
       "</tr>\n",
       "<tr>\n",
       "  <th>AVSALK</th>                  <td>    0.0850</td> <td>    0.012</td> <td>    6.927</td> <td> 0.000</td> <td>    0.061</td> <td>    0.109</td>\n",
       "</tr>\n",
       "<tr>\n",
       "  <th>PERSPENK</th>                <td>   -2.7343</td> <td>    0.331</td> <td>   -8.252</td> <td> 0.000</td> <td>   -3.384</td> <td>   -2.085</td>\n",
       "</tr>\n",
       "<tr>\n",
       "  <th>PTRATIO</th>                 <td>   -0.4948</td> <td>    0.064</td> <td>   -7.720</td> <td> 0.000</td> <td>   -0.620</td> <td>   -0.369</td>\n",
       "</tr>\n",
       "<tr>\n",
       "  <th>PCTAF</th>                   <td>   -0.2728</td> <td>    0.036</td> <td>   -7.606</td> <td> 0.000</td> <td>   -0.343</td> <td>   -0.203</td>\n",
       "</tr>\n",
       "<tr>\n",
       "  <th>PCTCHRT</th>                 <td>    0.0041</td> <td>    0.001</td> <td>    4.001</td> <td> 0.000</td> <td>    0.002</td> <td>    0.006</td>\n",
       "</tr>\n",
       "<tr>\n",
       "  <th>PCTYRRND</th>                <td>   -0.0032</td> <td>    0.000</td> <td>  -15.691</td> <td> 0.000</td> <td>   -0.004</td> <td>   -0.003</td>\n",
       "</tr>\n",
       "<tr>\n",
       "  <th>PERMINTE_AVYRSEXP</th>       <td>   -0.0159</td> <td>    0.002</td> <td>   -8.488</td> <td> 0.000</td> <td>   -0.020</td> <td>   -0.012</td>\n",
       "</tr>\n",
       "<tr>\n",
       "  <th>PERMINTE_AVSAL</th>          <td>   -0.0044</td> <td>    0.000</td> <td>   -9.442</td> <td> 0.000</td> <td>   -0.005</td> <td>   -0.004</td>\n",
       "</tr>\n",
       "<tr>\n",
       "  <th>AVYRSEXP_AVSAL</th>          <td>   -0.0043</td> <td>    0.001</td> <td>   -5.042</td> <td> 0.000</td> <td>   -0.006</td> <td>   -0.003</td>\n",
       "</tr>\n",
       "<tr>\n",
       "  <th>PERSPEN_PTRATIO</th>         <td>    0.1258</td> <td>    0.015</td> <td>    8.331</td> <td> 0.000</td> <td>    0.096</td> <td>    0.155</td>\n",
       "</tr>\n",
       "<tr>\n",
       "  <th>PERSPEN_PCTAF</th>           <td>    0.0707</td> <td>    0.008</td> <td>    8.576</td> <td> 0.000</td> <td>    0.055</td> <td>    0.087</td>\n",
       "</tr>\n",
       "<tr>\n",
       "  <th>PTRATIO_PCTAF</th>           <td>    0.0125</td> <td>    0.002</td> <td>    7.697</td> <td> 0.000</td> <td>    0.009</td> <td>    0.016</td>\n",
       "</tr>\n",
       "<tr>\n",
       "  <th>PERMINTE_AVYRSEXP_AVSAL</th> <td>    0.0003</td> <td> 2.91e-05</td> <td>    8.616</td> <td> 0.000</td> <td>    0.000</td> <td>    0.000</td>\n",
       "</tr>\n",
       "<tr>\n",
       "  <th>PERSPEN_PTRATIO_PCTAF</th>   <td>   -0.0032</td> <td>    0.000</td> <td>   -8.405</td> <td> 0.000</td> <td>   -0.004</td> <td>   -0.002</td>\n",
       "</tr>\n",
       "</table>"
      ],
      "text/latex": [
       "\\begin{center}\n",
       "\\begin{tabular}{lclc}\n",
       "\\toprule\n",
       "\\textbf{Dep. Variable:}            & ['NABOVE', 'NBELOW'] & \\textbf{  No. Observations:  } &      303    \\\\\n",
       "\\textbf{Model:}                    &         GLM          & \\textbf{  Df Residuals:      } &      282    \\\\\n",
       "\\textbf{Model Family:}             &       Binomial       & \\textbf{  Df Model:          } &       20    \\\\\n",
       "\\textbf{Link Function:}            &        Cauchy        & \\textbf{  Scale:             } &    1.0000   \\\\\n",
       "\\textbf{Method:}                   &         IRLS         & \\textbf{  Log-Likelihood:    } &   -2985.9   \\\\\n",
       "\\textbf{Date:}                     &   Thu, 10 Aug 2023   & \\textbf{  Deviance:          } &    4053.3   \\\\\n",
       "\\textbf{Time:}                     &       06:22:04       & \\textbf{  Pearson chi2:      } &  4.00e+03   \\\\\n",
       "\\textbf{No. Iterations:}           &          7           & \\textbf{  Pseudo R-squ. (CS):} &    1.000    \\\\\n",
       "\\textbf{Covariance Type:}          &      nonrobust       & \\textbf{                     } &             \\\\\n",
       "\\bottomrule\n",
       "\\end{tabular}\n",
       "\\begin{tabular}{lcccccc}\n",
       "                                   & \\textbf{coef} & \\textbf{std err} & \\textbf{z} & \\textbf{P$> |$z$|$} & \\textbf{[0.025} & \\textbf{0.975]}  \\\\\n",
       "\\midrule\n",
       "\\textbf{Intercept}                 &       6.3387  &        1.562     &     4.059  &         0.000        &        3.278    &        9.400     \\\\\n",
       "\\textbf{LOWINC}                    &      -0.0148  &        0.000     &   -37.254  &         0.000        &       -0.016    &       -0.014     \\\\\n",
       "\\textbf{PERASIAN}                  &       0.0104  &        0.001     &    17.489  &         0.000        &        0.009    &        0.012     \\\\\n",
       "\\textbf{PERBLACK}                  &      -0.0144  &        0.001     &   -20.430  &         0.000        &       -0.016    &       -0.013     \\\\\n",
       "\\textbf{PERHISP}                   &      -0.0116  &        0.000     &   -28.598  &         0.000        &       -0.012    &       -0.011     \\\\\n",
       "\\textbf{PERMINTE}                  &       0.2773  &        0.030     &     9.300  &         0.000        &        0.219    &        0.336     \\\\\n",
       "\\textbf{AVYRSEXP}                  &       0.2583  &        0.050     &     5.151  &         0.000        &        0.160    &        0.357     \\\\\n",
       "\\textbf{AVSALK}                    &       0.0850  &        0.012     &     6.927  &         0.000        &        0.061    &        0.109     \\\\\n",
       "\\textbf{PERSPENK}                  &      -2.7343  &        0.331     &    -8.252  &         0.000        &       -3.384    &       -2.085     \\\\\n",
       "\\textbf{PTRATIO}                   &      -0.4948  &        0.064     &    -7.720  &         0.000        &       -0.620    &       -0.369     \\\\\n",
       "\\textbf{PCTAF}                     &      -0.2728  &        0.036     &    -7.606  &         0.000        &       -0.343    &       -0.203     \\\\\n",
       "\\textbf{PCTCHRT}                   &       0.0041  &        0.001     &     4.001  &         0.000        &        0.002    &        0.006     \\\\\n",
       "\\textbf{PCTYRRND}                  &      -0.0032  &        0.000     &   -15.691  &         0.000        &       -0.004    &       -0.003     \\\\\n",
       "\\textbf{PERMINTE\\_AVYRSEXP}        &      -0.0159  &        0.002     &    -8.488  &         0.000        &       -0.020    &       -0.012     \\\\\n",
       "\\textbf{PERMINTE\\_AVSAL}           &      -0.0044  &        0.000     &    -9.442  &         0.000        &       -0.005    &       -0.004     \\\\\n",
       "\\textbf{AVYRSEXP\\_AVSAL}           &      -0.0043  &        0.001     &    -5.042  &         0.000        &       -0.006    &       -0.003     \\\\\n",
       "\\textbf{PERSPEN\\_PTRATIO}          &       0.1258  &        0.015     &     8.331  &         0.000        &        0.096    &        0.155     \\\\\n",
       "\\textbf{PERSPEN\\_PCTAF}            &       0.0707  &        0.008     &     8.576  &         0.000        &        0.055    &        0.087     \\\\\n",
       "\\textbf{PTRATIO\\_PCTAF}            &       0.0125  &        0.002     &     7.697  &         0.000        &        0.009    &        0.016     \\\\\n",
       "\\textbf{PERMINTE\\_AVYRSEXP\\_AVSAL} &       0.0003  &     2.91e-05     &     8.616  &         0.000        &        0.000    &        0.000     \\\\\n",
       "\\textbf{PERSPEN\\_PTRATIO\\_PCTAF}   &      -0.0032  &        0.000     &    -8.405  &         0.000        &       -0.004    &       -0.002     \\\\\n",
       "\\bottomrule\n",
       "\\end{tabular}\n",
       "%\\caption{Generalized Linear Model Regression Results}\n",
       "\\end{center}"
      ],
      "text/plain": [
       "<class 'statsmodels.iolib.summary.Summary'>\n",
       "\"\"\"\n",
       "                  Generalized Linear Model Regression Results                   \n",
       "================================================================================\n",
       "Dep. Variable:     ['NABOVE', 'NBELOW']   No. Observations:                  303\n",
       "Model:                              GLM   Df Residuals:                      282\n",
       "Model Family:                  Binomial   Df Model:                           20\n",
       "Link Function:                   Cauchy   Scale:                          1.0000\n",
       "Method:                            IRLS   Log-Likelihood:                -2985.9\n",
       "Date:                  Thu, 10 Aug 2023   Deviance:                       4053.3\n",
       "Time:                          06:22:04   Pearson chi2:                 4.00e+03\n",
       "No. Iterations:                       7   Pseudo R-squ. (CS):              1.000\n",
       "Covariance Type:              nonrobust                                         \n",
       "===========================================================================================\n",
       "                              coef    std err          z      P>|z|      [0.025      0.975]\n",
       "-------------------------------------------------------------------------------------------\n",
       "Intercept                   6.3387      1.562      4.059      0.000       3.278       9.400\n",
       "LOWINC                     -0.0148      0.000    -37.254      0.000      -0.016      -0.014\n",
       "PERASIAN                    0.0104      0.001     17.489      0.000       0.009       0.012\n",
       "PERBLACK                   -0.0144      0.001    -20.430      0.000      -0.016      -0.013\n",
       "PERHISP                    -0.0116      0.000    -28.598      0.000      -0.012      -0.011\n",
       "PERMINTE                    0.2773      0.030      9.300      0.000       0.219       0.336\n",
       "AVYRSEXP                    0.2583      0.050      5.151      0.000       0.160       0.357\n",
       "AVSALK                      0.0850      0.012      6.927      0.000       0.061       0.109\n",
       "PERSPENK                   -2.7343      0.331     -8.252      0.000      -3.384      -2.085\n",
       "PTRATIO                    -0.4948      0.064     -7.720      0.000      -0.620      -0.369\n",
       "PCTAF                      -0.2728      0.036     -7.606      0.000      -0.343      -0.203\n",
       "PCTCHRT                     0.0041      0.001      4.001      0.000       0.002       0.006\n",
       "PCTYRRND                   -0.0032      0.000    -15.691      0.000      -0.004      -0.003\n",
       "PERMINTE_AVYRSEXP          -0.0159      0.002     -8.488      0.000      -0.020      -0.012\n",
       "PERMINTE_AVSAL             -0.0044      0.000     -9.442      0.000      -0.005      -0.004\n",
       "AVYRSEXP_AVSAL             -0.0043      0.001     -5.042      0.000      -0.006      -0.003\n",
       "PERSPEN_PTRATIO             0.1258      0.015      8.331      0.000       0.096       0.155\n",
       "PERSPEN_PCTAF               0.0707      0.008      8.576      0.000       0.055       0.087\n",
       "PTRATIO_PCTAF               0.0125      0.002      7.697      0.000       0.009       0.016\n",
       "PERMINTE_AVYRSEXP_AVSAL     0.0003   2.91e-05      8.616      0.000       0.000       0.000\n",
       "PERSPEN_PTRATIO_PCTAF      -0.0032      0.000     -8.405      0.000      -0.004      -0.002\n",
       "===========================================================================================\n",
       "\"\"\""
      ]
     },
     "execution_count": 25,
     "metadata": {},
     "output_type": "execute_result"
    }
   ],
   "source": [
    "sm_cauchit_fit.summary()"
   ]
  },
  {
   "cell_type": "code",
   "execution_count": 26,
   "metadata": {},
   "outputs": [],
   "source": [
    "ll_cauchit_model = ll.glm(star98, formula, lik=ll.lik.binomial(ll.link.cauchit))"
   ]
  },
  {
   "cell_type": "code",
   "execution_count": 27,
   "metadata": {},
   "outputs": [],
   "source": [
    "ll_cauchit_fit = ll_cauchit_model.fit()"
   ]
  },
  {
   "cell_type": "code",
   "execution_count": 28,
   "metadata": {},
   "outputs": [
    {
     "data": {
      "text/plain": [
       "-2985.90195670526"
      ]
     },
     "execution_count": 28,
     "metadata": {},
     "output_type": "execute_result"
    }
   ],
   "source": [
    "ll_cauchit_fit.loglik"
   ]
  },
  {
   "cell_type": "code",
   "execution_count": 29,
   "metadata": {},
   "outputs": [
    {
     "data": {
      "text/plain": [
       "p  Intercept                  6.338691\n",
       "   LOWINC                    -0.014766\n",
       "   PERASIAN                   0.010363\n",
       "   PERBLACK                  -0.014395\n",
       "   PERHISP                   -0.011633\n",
       "   PERMINTE                   0.277337\n",
       "   AVYRSEXP                   0.258281\n",
       "   AVSALK                     0.084957\n",
       "   PERSPENK                  -2.734326\n",
       "   PTRATIO                   -0.494774\n",
       "   PCTAF                     -0.272836\n",
       "   PCTCHRT                    0.004143\n",
       "   PCTYRRND                  -0.003197\n",
       "   PERMINTE_AVYRSEXP         -0.015877\n",
       "   PERMINTE_AVSAL            -0.004444\n",
       "   AVYRSEXP_AVSAL            -0.004270\n",
       "   PERSPEN_PTRATIO            0.125752\n",
       "   PERSPEN_PCTAF              0.070688\n",
       "   PTRATIO_PCTAF              0.012541\n",
       "   PERMINTE_AVYRSEXP_AVSAL    0.000251\n",
       "   PERSPEN_PTRATIO_PCTAF     -0.003196\n",
       "dtype: float64"
      ]
     },
     "execution_count": 29,
     "metadata": {},
     "output_type": "execute_result"
    }
   ],
   "source": [
    "ll_cauchit_fit.beta_grouped"
   ]
  },
  {
   "cell_type": "code",
   "execution_count": 30,
   "metadata": {},
   "outputs": [],
   "source": [
    "sm_loglog_model = smf.glm(formula, star98, family=sm.families.Binomial(sm.families.links.LogLog()))"
   ]
  },
  {
   "cell_type": "code",
   "execution_count": 31,
   "metadata": {},
   "outputs": [],
   "source": [
    "sm_loglog_fit = sm_loglog_model.fit()"
   ]
  },
  {
   "cell_type": "code",
   "execution_count": 32,
   "metadata": {},
   "outputs": [
    {
     "data": {
      "text/html": [
       "<table class=\"simpletable\">\n",
       "<caption>Generalized Linear Model Regression Results</caption>\n",
       "<tr>\n",
       "  <th>Dep. Variable:</th>   <td>['NABOVE', 'NBELOW']</td> <th>  No. Observations:  </th>  <td>   303</td> \n",
       "</tr>\n",
       "<tr>\n",
       "  <th>Model:</th>                    <td>GLM</td>         <th>  Df Residuals:      </th>  <td>   282</td> \n",
       "</tr>\n",
       "<tr>\n",
       "  <th>Model Family:</th>          <td>Binomial</td>       <th>  Df Model:          </th>  <td>    20</td> \n",
       "</tr>\n",
       "<tr>\n",
       "  <th>Link Function:</th>          <td>LogLog</td>        <th>  Scale:             </th> <td>  1.0000</td>\n",
       "</tr>\n",
       "<tr>\n",
       "  <th>Method:</th>                  <td>IRLS</td>         <th>  Log-Likelihood:    </th> <td> -3270.8</td>\n",
       "</tr>\n",
       "<tr>\n",
       "  <th>Date:</th>              <td>Thu, 10 Aug 2023</td>   <th>  Deviance:          </th> <td>  4623.2</td>\n",
       "</tr>\n",
       "<tr>\n",
       "  <th>Time:</th>                  <td>06:24:28</td>       <th>  Pearson chi2:      </th> <td>4.60e+03</td>\n",
       "</tr>\n",
       "<tr>\n",
       "  <th>No. Iterations:</th>            <td>6</td>          <th>  Pseudo R-squ. (CS):</th>  <td> 1.000</td> \n",
       "</tr>\n",
       "<tr>\n",
       "  <th>Covariance Type:</th>       <td>nonrobust</td>      <th>                     </th>     <td> </td>   \n",
       "</tr>\n",
       "</table>\n",
       "<table class=\"simpletable\">\n",
       "<tr>\n",
       "             <td></td>                <th>coef</th>     <th>std err</th>      <th>z</th>      <th>P>|z|</th>  <th>[0.025</th>    <th>0.975]</th>  \n",
       "</tr>\n",
       "<tr>\n",
       "  <th>Intercept</th>               <td>    4.2550</td> <td>    1.056</td> <td>    4.029</td> <td> 0.000</td> <td>    2.185</td> <td>    6.325</td>\n",
       "</tr>\n",
       "<tr>\n",
       "  <th>LOWINC</th>                  <td>   -0.0111</td> <td>    0.000</td> <td>  -38.986</td> <td> 0.000</td> <td>   -0.012</td> <td>   -0.011</td>\n",
       "</tr>\n",
       "<tr>\n",
       "  <th>PERASIAN</th>                <td>    0.0059</td> <td>    0.000</td> <td>   14.148</td> <td> 0.000</td> <td>    0.005</td> <td>    0.007</td>\n",
       "</tr>\n",
       "<tr>\n",
       "  <th>PERBLACK</th>                <td>   -0.0132</td> <td>    0.000</td> <td>  -28.470</td> <td> 0.000</td> <td>   -0.014</td> <td>   -0.012</td>\n",
       "</tr>\n",
       "<tr>\n",
       "  <th>PERHISP</th>                 <td>   -0.0095</td> <td>    0.000</td> <td>  -34.479</td> <td> 0.000</td> <td>   -0.010</td> <td>   -0.009</td>\n",
       "</tr>\n",
       "<tr>\n",
       "  <th>PERMINTE</th>                <td>    0.1183</td> <td>    0.018</td> <td>    6.496</td> <td> 0.000</td> <td>    0.083</td> <td>    0.154</td>\n",
       "</tr>\n",
       "<tr>\n",
       "  <th>AVYRSEXP</th>                <td>    0.0734</td> <td>    0.039</td> <td>    1.903</td> <td> 0.057</td> <td>   -0.002</td> <td>    0.149</td>\n",
       "</tr>\n",
       "<tr>\n",
       "  <th>AVSALK</th>                  <td>    0.0317</td> <td>    0.009</td> <td>    3.389</td> <td> 0.001</td> <td>    0.013</td> <td>    0.050</td>\n",
       "</tr>\n",
       "<tr>\n",
       "  <th>PERSPENK</th>                <td>   -1.4653</td> <td>    0.220</td> <td>   -6.672</td> <td> 0.000</td> <td>   -1.896</td> <td>   -1.035</td>\n",
       "</tr>\n",
       "<tr>\n",
       "  <th>PTRATIO</th>                 <td>   -0.2472</td> <td>    0.042</td> <td>   -5.909</td> <td> 0.000</td> <td>   -0.329</td> <td>   -0.165</td>\n",
       "</tr>\n",
       "<tr>\n",
       "  <th>PCTAF</th>                   <td>   -0.1421</td> <td>    0.023</td> <td>   -6.150</td> <td> 0.000</td> <td>   -0.187</td> <td>   -0.097</td>\n",
       "</tr>\n",
       "<tr>\n",
       "  <th>PCTCHRT</th>                 <td>    0.0031</td> <td>    0.001</td> <td>    3.599</td> <td> 0.000</td> <td>    0.001</td> <td>    0.005</td>\n",
       "</tr>\n",
       "<tr>\n",
       "  <th>PCTYRRND</th>                <td>   -0.0023</td> <td>    0.000</td> <td>  -15.922</td> <td> 0.000</td> <td>   -0.003</td> <td>   -0.002</td>\n",
       "</tr>\n",
       "<tr>\n",
       "  <th>PERMINTE_AVYRSEXP</th>       <td>   -0.0061</td> <td>    0.001</td> <td>   -5.215</td> <td> 0.000</td> <td>   -0.008</td> <td>   -0.004</td>\n",
       "</tr>\n",
       "<tr>\n",
       "  <th>PERMINTE_AVSAL</th>          <td>   -0.0018</td> <td>    0.000</td> <td>   -6.051</td> <td> 0.000</td> <td>   -0.002</td> <td>   -0.001</td>\n",
       "</tr>\n",
       "<tr>\n",
       "  <th>AVYRSEXP_AVSAL</th>          <td>   -0.0011</td> <td>    0.001</td> <td>   -1.659</td> <td> 0.097</td> <td>   -0.002</td> <td>    0.000</td>\n",
       "</tr>\n",
       "<tr>\n",
       "  <th>PERSPEN_PTRATIO</th>         <td>    0.0671</td> <td>    0.010</td> <td>    6.695</td> <td> 0.000</td> <td>    0.047</td> <td>    0.087</td>\n",
       "</tr>\n",
       "<tr>\n",
       "  <th>PERSPEN_PCTAF</th>           <td>    0.0402</td> <td>    0.005</td> <td>    7.512</td> <td> 0.000</td> <td>    0.030</td> <td>    0.051</td>\n",
       "</tr>\n",
       "<tr>\n",
       "  <th>PTRATIO_PCTAF</th>           <td>    0.0066</td> <td>    0.001</td> <td>    6.255</td> <td> 0.000</td> <td>    0.005</td> <td>    0.009</td>\n",
       "</tr>\n",
       "<tr>\n",
       "  <th>PERMINTE_AVYRSEXP_AVSAL</th> <td>   9.2e-05</td> <td> 1.87e-05</td> <td>    4.931</td> <td> 0.000</td> <td> 5.54e-05</td> <td>    0.000</td>\n",
       "</tr>\n",
       "<tr>\n",
       "  <th>PERSPEN_PTRATIO_PCTAF</th>   <td>   -0.0018</td> <td>    0.000</td> <td>   -7.296</td> <td> 0.000</td> <td>   -0.002</td> <td>   -0.001</td>\n",
       "</tr>\n",
       "</table>"
      ],
      "text/latex": [
       "\\begin{center}\n",
       "\\begin{tabular}{lclc}\n",
       "\\toprule\n",
       "\\textbf{Dep. Variable:}            & ['NABOVE', 'NBELOW'] & \\textbf{  No. Observations:  } &      303    \\\\\n",
       "\\textbf{Model:}                    &         GLM          & \\textbf{  Df Residuals:      } &      282    \\\\\n",
       "\\textbf{Model Family:}             &       Binomial       & \\textbf{  Df Model:          } &       20    \\\\\n",
       "\\textbf{Link Function:}            &        LogLog        & \\textbf{  Scale:             } &    1.0000   \\\\\n",
       "\\textbf{Method:}                   &         IRLS         & \\textbf{  Log-Likelihood:    } &   -3270.8   \\\\\n",
       "\\textbf{Date:}                     &   Thu, 10 Aug 2023   & \\textbf{  Deviance:          } &    4623.2   \\\\\n",
       "\\textbf{Time:}                     &       06:24:28       & \\textbf{  Pearson chi2:      } &  4.60e+03   \\\\\n",
       "\\textbf{No. Iterations:}           &          6           & \\textbf{  Pseudo R-squ. (CS):} &    1.000    \\\\\n",
       "\\textbf{Covariance Type:}          &      nonrobust       & \\textbf{                     } &             \\\\\n",
       "\\bottomrule\n",
       "\\end{tabular}\n",
       "\\begin{tabular}{lcccccc}\n",
       "                                   & \\textbf{coef} & \\textbf{std err} & \\textbf{z} & \\textbf{P$> |$z$|$} & \\textbf{[0.025} & \\textbf{0.975]}  \\\\\n",
       "\\midrule\n",
       "\\textbf{Intercept}                 &       4.2550  &        1.056     &     4.029  &         0.000        &        2.185    &        6.325     \\\\\n",
       "\\textbf{LOWINC}                    &      -0.0111  &        0.000     &   -38.986  &         0.000        &       -0.012    &       -0.011     \\\\\n",
       "\\textbf{PERASIAN}                  &       0.0059  &        0.000     &    14.148  &         0.000        &        0.005    &        0.007     \\\\\n",
       "\\textbf{PERBLACK}                  &      -0.0132  &        0.000     &   -28.470  &         0.000        &       -0.014    &       -0.012     \\\\\n",
       "\\textbf{PERHISP}                   &      -0.0095  &        0.000     &   -34.479  &         0.000        &       -0.010    &       -0.009     \\\\\n",
       "\\textbf{PERMINTE}                  &       0.1183  &        0.018     &     6.496  &         0.000        &        0.083    &        0.154     \\\\\n",
       "\\textbf{AVYRSEXP}                  &       0.0734  &        0.039     &     1.903  &         0.057        &       -0.002    &        0.149     \\\\\n",
       "\\textbf{AVSALK}                    &       0.0317  &        0.009     &     3.389  &         0.001        &        0.013    &        0.050     \\\\\n",
       "\\textbf{PERSPENK}                  &      -1.4653  &        0.220     &    -6.672  &         0.000        &       -1.896    &       -1.035     \\\\\n",
       "\\textbf{PTRATIO}                   &      -0.2472  &        0.042     &    -5.909  &         0.000        &       -0.329    &       -0.165     \\\\\n",
       "\\textbf{PCTAF}                     &      -0.1421  &        0.023     &    -6.150  &         0.000        &       -0.187    &       -0.097     \\\\\n",
       "\\textbf{PCTCHRT}                   &       0.0031  &        0.001     &     3.599  &         0.000        &        0.001    &        0.005     \\\\\n",
       "\\textbf{PCTYRRND}                  &      -0.0023  &        0.000     &   -15.922  &         0.000        &       -0.003    &       -0.002     \\\\\n",
       "\\textbf{PERMINTE\\_AVYRSEXP}        &      -0.0061  &        0.001     &    -5.215  &         0.000        &       -0.008    &       -0.004     \\\\\n",
       "\\textbf{PERMINTE\\_AVSAL}           &      -0.0018  &        0.000     &    -6.051  &         0.000        &       -0.002    &       -0.001     \\\\\n",
       "\\textbf{AVYRSEXP\\_AVSAL}           &      -0.0011  &        0.001     &    -1.659  &         0.097        &       -0.002    &        0.000     \\\\\n",
       "\\textbf{PERSPEN\\_PTRATIO}          &       0.0671  &        0.010     &     6.695  &         0.000        &        0.047    &        0.087     \\\\\n",
       "\\textbf{PERSPEN\\_PCTAF}            &       0.0402  &        0.005     &     7.512  &         0.000        &        0.030    &        0.051     \\\\\n",
       "\\textbf{PTRATIO\\_PCTAF}            &       0.0066  &        0.001     &     6.255  &         0.000        &        0.005    &        0.009     \\\\\n",
       "\\textbf{PERMINTE\\_AVYRSEXP\\_AVSAL} &      9.2e-05  &     1.87e-05     &     4.931  &         0.000        &     5.54e-05    &        0.000     \\\\\n",
       "\\textbf{PERSPEN\\_PTRATIO\\_PCTAF}   &      -0.0018  &        0.000     &    -7.296  &         0.000        &       -0.002    &       -0.001     \\\\\n",
       "\\bottomrule\n",
       "\\end{tabular}\n",
       "%\\caption{Generalized Linear Model Regression Results}\n",
       "\\end{center}"
      ],
      "text/plain": [
       "<class 'statsmodels.iolib.summary.Summary'>\n",
       "\"\"\"\n",
       "                  Generalized Linear Model Regression Results                   \n",
       "================================================================================\n",
       "Dep. Variable:     ['NABOVE', 'NBELOW']   No. Observations:                  303\n",
       "Model:                              GLM   Df Residuals:                      282\n",
       "Model Family:                  Binomial   Df Model:                           20\n",
       "Link Function:                   LogLog   Scale:                          1.0000\n",
       "Method:                            IRLS   Log-Likelihood:                -3270.8\n",
       "Date:                  Thu, 10 Aug 2023   Deviance:                       4623.2\n",
       "Time:                          06:24:28   Pearson chi2:                 4.60e+03\n",
       "No. Iterations:                       6   Pseudo R-squ. (CS):              1.000\n",
       "Covariance Type:              nonrobust                                         \n",
       "===========================================================================================\n",
       "                              coef    std err          z      P>|z|      [0.025      0.975]\n",
       "-------------------------------------------------------------------------------------------\n",
       "Intercept                   4.2550      1.056      4.029      0.000       2.185       6.325\n",
       "LOWINC                     -0.0111      0.000    -38.986      0.000      -0.012      -0.011\n",
       "PERASIAN                    0.0059      0.000     14.148      0.000       0.005       0.007\n",
       "PERBLACK                   -0.0132      0.000    -28.470      0.000      -0.014      -0.012\n",
       "PERHISP                    -0.0095      0.000    -34.479      0.000      -0.010      -0.009\n",
       "PERMINTE                    0.1183      0.018      6.496      0.000       0.083       0.154\n",
       "AVYRSEXP                    0.0734      0.039      1.903      0.057      -0.002       0.149\n",
       "AVSALK                      0.0317      0.009      3.389      0.001       0.013       0.050\n",
       "PERSPENK                   -1.4653      0.220     -6.672      0.000      -1.896      -1.035\n",
       "PTRATIO                    -0.2472      0.042     -5.909      0.000      -0.329      -0.165\n",
       "PCTAF                      -0.1421      0.023     -6.150      0.000      -0.187      -0.097\n",
       "PCTCHRT                     0.0031      0.001      3.599      0.000       0.001       0.005\n",
       "PCTYRRND                   -0.0023      0.000    -15.922      0.000      -0.003      -0.002\n",
       "PERMINTE_AVYRSEXP          -0.0061      0.001     -5.215      0.000      -0.008      -0.004\n",
       "PERMINTE_AVSAL             -0.0018      0.000     -6.051      0.000      -0.002      -0.001\n",
       "AVYRSEXP_AVSAL             -0.0011      0.001     -1.659      0.097      -0.002       0.000\n",
       "PERSPEN_PTRATIO             0.0671      0.010      6.695      0.000       0.047       0.087\n",
       "PERSPEN_PCTAF               0.0402      0.005      7.512      0.000       0.030       0.051\n",
       "PTRATIO_PCTAF               0.0066      0.001      6.255      0.000       0.005       0.009\n",
       "PERMINTE_AVYRSEXP_AVSAL    9.2e-05   1.87e-05      4.931      0.000    5.54e-05       0.000\n",
       "PERSPEN_PTRATIO_PCTAF      -0.0018      0.000     -7.296      0.000      -0.002      -0.001\n",
       "===========================================================================================\n",
       "\"\"\""
      ]
     },
     "execution_count": 32,
     "metadata": {},
     "output_type": "execute_result"
    }
   ],
   "source": [
    "sm_loglog_fit.summary()"
   ]
  },
  {
   "cell_type": "code",
   "execution_count": 33,
   "metadata": {},
   "outputs": [],
   "source": [
    "ll_loglog_model = ll.glm(star98, formula, lik=ll.lik.binomial(ll.link.loglog))"
   ]
  },
  {
   "cell_type": "code",
   "execution_count": 34,
   "metadata": {},
   "outputs": [],
   "source": [
    "ll_loglog_fit = ll_loglog_model.fit()"
   ]
  },
  {
   "cell_type": "code",
   "execution_count": 35,
   "metadata": {},
   "outputs": [
    {
     "data": {
      "text/plain": [
       "-3270.8427515828516"
      ]
     },
     "execution_count": 35,
     "metadata": {},
     "output_type": "execute_result"
    }
   ],
   "source": [
    "ll_loglog_fit.loglik"
   ]
  },
  {
   "cell_type": "code",
   "execution_count": 36,
   "metadata": {},
   "outputs": [
    {
     "data": {
      "text/plain": [
       "p  Intercept                  4.254966\n",
       "   LOWINC                    -0.011135\n",
       "   PERASIAN                   0.005884\n",
       "   PERBLACK                  -0.013154\n",
       "   PERHISP                   -0.009474\n",
       "   PERMINTE                   0.118271\n",
       "   AVYRSEXP                   0.073423\n",
       "   AVSALK                     0.031662\n",
       "   PERSPENK                  -1.465295\n",
       "   PTRATIO                   -0.247174\n",
       "   PCTAF                     -0.142116\n",
       "   PCTCHRT                    0.003142\n",
       "   PCTYRRND                  -0.002273\n",
       "   PERMINTE_AVYRSEXP         -0.006135\n",
       "   PERMINTE_AVSAL            -0.001759\n",
       "   AVYRSEXP_AVSAL            -0.001078\n",
       "   PERSPEN_PTRATIO            0.067138\n",
       "   PERSPEN_PCTAF              0.040162\n",
       "   PTRATIO_PCTAF              0.006607\n",
       "   PERMINTE_AVYRSEXP_AVSAL    0.000092\n",
       "   PERSPEN_PTRATIO_PCTAF     -0.001816\n",
       "dtype: float64"
      ]
     },
     "execution_count": 36,
     "metadata": {},
     "output_type": "execute_result"
    }
   ],
   "source": [
    "ll_loglog_fit.beta_grouped"
   ]
  },
  {
   "cell_type": "code",
   "execution_count": 37,
   "metadata": {},
   "outputs": [],
   "source": [
    "sm_cloglog_model = smf.glm(formula, star98, family=sm.families.Binomial(sm.families.links.CLogLog()))"
   ]
  },
  {
   "cell_type": "code",
   "execution_count": 38,
   "metadata": {},
   "outputs": [],
   "source": [
    "sm_cloglog_fit = sm_cloglog_model.fit()"
   ]
  },
  {
   "cell_type": "code",
   "execution_count": 39,
   "metadata": {},
   "outputs": [
    {
     "data": {
      "text/html": [
       "<table class=\"simpletable\">\n",
       "<caption>Generalized Linear Model Regression Results</caption>\n",
       "<tr>\n",
       "  <th>Dep. Variable:</th>   <td>['NABOVE', 'NBELOW']</td> <th>  No. Observations:  </th>  <td>   303</td> \n",
       "</tr>\n",
       "<tr>\n",
       "  <th>Model:</th>                    <td>GLM</td>         <th>  Df Residuals:      </th>  <td>   282</td> \n",
       "</tr>\n",
       "<tr>\n",
       "  <th>Model Family:</th>          <td>Binomial</td>       <th>  Df Model:          </th>  <td>    20</td> \n",
       "</tr>\n",
       "<tr>\n",
       "  <th>Link Function:</th>          <td>CLogLog</td>       <th>  Scale:             </th> <td>  1.0000</td>\n",
       "</tr>\n",
       "<tr>\n",
       "  <th>Method:</th>                  <td>IRLS</td>         <th>  Log-Likelihood:    </th> <td> -2885.1</td>\n",
       "</tr>\n",
       "<tr>\n",
       "  <th>Date:</th>              <td>Thu, 10 Aug 2023</td>   <th>  Deviance:          </th> <td>  3851.8</td>\n",
       "</tr>\n",
       "<tr>\n",
       "  <th>Time:</th>                  <td>06:26:08</td>       <th>  Pearson chi2:      </th> <td>3.82e+03</td>\n",
       "</tr>\n",
       "<tr>\n",
       "  <th>No. Iterations:</th>            <td>6</td>          <th>  Pseudo R-squ. (CS):</th>  <td> 1.000</td> \n",
       "</tr>\n",
       "<tr>\n",
       "  <th>Covariance Type:</th>       <td>nonrobust</td>      <th>                     </th>     <td> </td>   \n",
       "</tr>\n",
       "</table>\n",
       "<table class=\"simpletable\">\n",
       "<tr>\n",
       "             <td></td>                <th>coef</th>     <th>std err</th>      <th>z</th>      <th>P>|z|</th>  <th>[0.025</th>    <th>0.975]</th>  \n",
       "</tr>\n",
       "<tr>\n",
       "  <th>Intercept</th>               <td>   -0.0839</td> <td>    1.059</td> <td>   -0.079</td> <td> 0.937</td> <td>   -2.159</td> <td>    1.991</td>\n",
       "</tr>\n",
       "<tr>\n",
       "  <th>LOWINC</th>                  <td>   -0.0121</td> <td>    0.000</td> <td>  -37.653</td> <td> 0.000</td> <td>   -0.013</td> <td>   -0.011</td>\n",
       "</tr>\n",
       "<tr>\n",
       "  <th>PERASIAN</th>                <td>    0.0072</td> <td>    0.000</td> <td>   17.782</td> <td> 0.000</td> <td>    0.006</td> <td>    0.008</td>\n",
       "</tr>\n",
       "<tr>\n",
       "  <th>PERBLACK</th>                <td>   -0.0138</td> <td>    0.001</td> <td>  -23.626</td> <td> 0.000</td> <td>   -0.015</td> <td>   -0.013</td>\n",
       "</tr>\n",
       "<tr>\n",
       "  <th>PERHISP</th>                 <td>   -0.0109</td> <td>    0.000</td> <td>  -32.644</td> <td> 0.000</td> <td>   -0.012</td> <td>   -0.010</td>\n",
       "</tr>\n",
       "<tr>\n",
       "  <th>PERMINTE</th>                <td>    0.2213</td> <td>    0.023</td> <td>    9.496</td> <td> 0.000</td> <td>    0.176</td> <td>    0.267</td>\n",
       "</tr>\n",
       "<tr>\n",
       "  <th>AVYRSEXP</th>                <td>    0.2180</td> <td>    0.041</td> <td>    5.264</td> <td> 0.000</td> <td>    0.137</td> <td>    0.299</td>\n",
       "</tr>\n",
       "<tr>\n",
       "  <th>AVSALK</th>                  <td>    0.0707</td> <td>    0.010</td> <td>    6.952</td> <td> 0.000</td> <td>    0.051</td> <td>    0.091</td>\n",
       "</tr>\n",
       "<tr>\n",
       "  <th>PERSPENK</th>                <td>   -1.1468</td> <td>    0.211</td> <td>   -5.429</td> <td> 0.000</td> <td>   -1.561</td> <td>   -0.733</td>\n",
       "</tr>\n",
       "<tr>\n",
       "  <th>PTRATIO</th>                 <td>   -0.1927</td> <td>    0.041</td> <td>   -4.649</td> <td> 0.000</td> <td>   -0.274</td> <td>   -0.111</td>\n",
       "</tr>\n",
       "<tr>\n",
       "  <th>PCTAF</th>                   <td>   -0.0744</td> <td>    0.021</td> <td>   -3.597</td> <td> 0.000</td> <td>   -0.115</td> <td>   -0.034</td>\n",
       "</tr>\n",
       "<tr>\n",
       "  <th>PCTCHRT</th>                 <td>    0.0035</td> <td>    0.001</td> <td>    3.835</td> <td> 0.000</td> <td>    0.002</td> <td>    0.005</td>\n",
       "</tr>\n",
       "<tr>\n",
       "  <th>PCTYRRND</th>                <td>   -0.0027</td> <td>    0.000</td> <td>  -15.482</td> <td> 0.000</td> <td>   -0.003</td> <td>   -0.002</td>\n",
       "</tr>\n",
       "<tr>\n",
       "  <th>PERMINTE_AVYRSEXP</th>       <td>   -0.0120</td> <td>    0.001</td> <td>   -8.147</td> <td> 0.000</td> <td>   -0.015</td> <td>   -0.009</td>\n",
       "</tr>\n",
       "<tr>\n",
       "  <th>PERMINTE_AVSAL</th>          <td>   -0.0036</td> <td>    0.000</td> <td>   -9.745</td> <td> 0.000</td> <td>   -0.004</td> <td>   -0.003</td>\n",
       "</tr>\n",
       "<tr>\n",
       "  <th>AVYRSEXP_AVSAL</th>          <td>   -0.0036</td> <td>    0.001</td> <td>   -5.174</td> <td> 0.000</td> <td>   -0.005</td> <td>   -0.002</td>\n",
       "</tr>\n",
       "<tr>\n",
       "  <th>PERSPEN_PTRATIO</th>         <td>    0.0552</td> <td>    0.010</td> <td>    5.697</td> <td> 0.000</td> <td>    0.036</td> <td>    0.074</td>\n",
       "</tr>\n",
       "<tr>\n",
       "  <th>PERSPEN_PCTAF</th>           <td>    0.0241</td> <td>    0.005</td> <td>    5.251</td> <td> 0.000</td> <td>    0.015</td> <td>    0.033</td>\n",
       "</tr>\n",
       "<tr>\n",
       "  <th>PTRATIO_PCTAF</th>           <td>    0.0037</td> <td>    0.001</td> <td>    3.901</td> <td> 0.000</td> <td>    0.002</td> <td>    0.006</td>\n",
       "</tr>\n",
       "<tr>\n",
       "  <th>PERMINTE_AVYRSEXP_AVSAL</th> <td>    0.0002</td> <td> 2.29e-05</td> <td>    8.453</td> <td> 0.000</td> <td>    0.000</td> <td>    0.000</td>\n",
       "</tr>\n",
       "<tr>\n",
       "  <th>PERSPEN_PTRATIO_PCTAF</th>   <td>   -0.0011</td> <td>    0.000</td> <td>   -5.216</td> <td> 0.000</td> <td>   -0.002</td> <td>   -0.001</td>\n",
       "</tr>\n",
       "</table>"
      ],
      "text/latex": [
       "\\begin{center}\n",
       "\\begin{tabular}{lclc}\n",
       "\\toprule\n",
       "\\textbf{Dep. Variable:}            & ['NABOVE', 'NBELOW'] & \\textbf{  No. Observations:  } &      303    \\\\\n",
       "\\textbf{Model:}                    &         GLM          & \\textbf{  Df Residuals:      } &      282    \\\\\n",
       "\\textbf{Model Family:}             &       Binomial       & \\textbf{  Df Model:          } &       20    \\\\\n",
       "\\textbf{Link Function:}            &       CLogLog        & \\textbf{  Scale:             } &    1.0000   \\\\\n",
       "\\textbf{Method:}                   &         IRLS         & \\textbf{  Log-Likelihood:    } &   -2885.1   \\\\\n",
       "\\textbf{Date:}                     &   Thu, 10 Aug 2023   & \\textbf{  Deviance:          } &    3851.8   \\\\\n",
       "\\textbf{Time:}                     &       06:26:08       & \\textbf{  Pearson chi2:      } &  3.82e+03   \\\\\n",
       "\\textbf{No. Iterations:}           &          6           & \\textbf{  Pseudo R-squ. (CS):} &    1.000    \\\\\n",
       "\\textbf{Covariance Type:}          &      nonrobust       & \\textbf{                     } &             \\\\\n",
       "\\bottomrule\n",
       "\\end{tabular}\n",
       "\\begin{tabular}{lcccccc}\n",
       "                                   & \\textbf{coef} & \\textbf{std err} & \\textbf{z} & \\textbf{P$> |$z$|$} & \\textbf{[0.025} & \\textbf{0.975]}  \\\\\n",
       "\\midrule\n",
       "\\textbf{Intercept}                 &      -0.0839  &        1.059     &    -0.079  &         0.937        &       -2.159    &        1.991     \\\\\n",
       "\\textbf{LOWINC}                    &      -0.0121  &        0.000     &   -37.653  &         0.000        &       -0.013    &       -0.011     \\\\\n",
       "\\textbf{PERASIAN}                  &       0.0072  &        0.000     &    17.782  &         0.000        &        0.006    &        0.008     \\\\\n",
       "\\textbf{PERBLACK}                  &      -0.0138  &        0.001     &   -23.626  &         0.000        &       -0.015    &       -0.013     \\\\\n",
       "\\textbf{PERHISP}                   &      -0.0109  &        0.000     &   -32.644  &         0.000        &       -0.012    &       -0.010     \\\\\n",
       "\\textbf{PERMINTE}                  &       0.2213  &        0.023     &     9.496  &         0.000        &        0.176    &        0.267     \\\\\n",
       "\\textbf{AVYRSEXP}                  &       0.2180  &        0.041     &     5.264  &         0.000        &        0.137    &        0.299     \\\\\n",
       "\\textbf{AVSALK}                    &       0.0707  &        0.010     &     6.952  &         0.000        &        0.051    &        0.091     \\\\\n",
       "\\textbf{PERSPENK}                  &      -1.1468  &        0.211     &    -5.429  &         0.000        &       -1.561    &       -0.733     \\\\\n",
       "\\textbf{PTRATIO}                   &      -0.1927  &        0.041     &    -4.649  &         0.000        &       -0.274    &       -0.111     \\\\\n",
       "\\textbf{PCTAF}                     &      -0.0744  &        0.021     &    -3.597  &         0.000        &       -0.115    &       -0.034     \\\\\n",
       "\\textbf{PCTCHRT}                   &       0.0035  &        0.001     &     3.835  &         0.000        &        0.002    &        0.005     \\\\\n",
       "\\textbf{PCTYRRND}                  &      -0.0027  &        0.000     &   -15.482  &         0.000        &       -0.003    &       -0.002     \\\\\n",
       "\\textbf{PERMINTE\\_AVYRSEXP}        &      -0.0120  &        0.001     &    -8.147  &         0.000        &       -0.015    &       -0.009     \\\\\n",
       "\\textbf{PERMINTE\\_AVSAL}           &      -0.0036  &        0.000     &    -9.745  &         0.000        &       -0.004    &       -0.003     \\\\\n",
       "\\textbf{AVYRSEXP\\_AVSAL}           &      -0.0036  &        0.001     &    -5.174  &         0.000        &       -0.005    &       -0.002     \\\\\n",
       "\\textbf{PERSPEN\\_PTRATIO}          &       0.0552  &        0.010     &     5.697  &         0.000        &        0.036    &        0.074     \\\\\n",
       "\\textbf{PERSPEN\\_PCTAF}            &       0.0241  &        0.005     &     5.251  &         0.000        &        0.015    &        0.033     \\\\\n",
       "\\textbf{PTRATIO\\_PCTAF}            &       0.0037  &        0.001     &     3.901  &         0.000        &        0.002    &        0.006     \\\\\n",
       "\\textbf{PERMINTE\\_AVYRSEXP\\_AVSAL} &       0.0002  &     2.29e-05     &     8.453  &         0.000        &        0.000    &        0.000     \\\\\n",
       "\\textbf{PERSPEN\\_PTRATIO\\_PCTAF}   &      -0.0011  &        0.000     &    -5.216  &         0.000        &       -0.002    &       -0.001     \\\\\n",
       "\\bottomrule\n",
       "\\end{tabular}\n",
       "%\\caption{Generalized Linear Model Regression Results}\n",
       "\\end{center}"
      ],
      "text/plain": [
       "<class 'statsmodels.iolib.summary.Summary'>\n",
       "\"\"\"\n",
       "                  Generalized Linear Model Regression Results                   \n",
       "================================================================================\n",
       "Dep. Variable:     ['NABOVE', 'NBELOW']   No. Observations:                  303\n",
       "Model:                              GLM   Df Residuals:                      282\n",
       "Model Family:                  Binomial   Df Model:                           20\n",
       "Link Function:                  CLogLog   Scale:                          1.0000\n",
       "Method:                            IRLS   Log-Likelihood:                -2885.1\n",
       "Date:                  Thu, 10 Aug 2023   Deviance:                       3851.8\n",
       "Time:                          06:26:08   Pearson chi2:                 3.82e+03\n",
       "No. Iterations:                       6   Pseudo R-squ. (CS):              1.000\n",
       "Covariance Type:              nonrobust                                         \n",
       "===========================================================================================\n",
       "                              coef    std err          z      P>|z|      [0.025      0.975]\n",
       "-------------------------------------------------------------------------------------------\n",
       "Intercept                  -0.0839      1.059     -0.079      0.937      -2.159       1.991\n",
       "LOWINC                     -0.0121      0.000    -37.653      0.000      -0.013      -0.011\n",
       "PERASIAN                    0.0072      0.000     17.782      0.000       0.006       0.008\n",
       "PERBLACK                   -0.0138      0.001    -23.626      0.000      -0.015      -0.013\n",
       "PERHISP                    -0.0109      0.000    -32.644      0.000      -0.012      -0.010\n",
       "PERMINTE                    0.2213      0.023      9.496      0.000       0.176       0.267\n",
       "AVYRSEXP                    0.2180      0.041      5.264      0.000       0.137       0.299\n",
       "AVSALK                      0.0707      0.010      6.952      0.000       0.051       0.091\n",
       "PERSPENK                   -1.1468      0.211     -5.429      0.000      -1.561      -0.733\n",
       "PTRATIO                    -0.1927      0.041     -4.649      0.000      -0.274      -0.111\n",
       "PCTAF                      -0.0744      0.021     -3.597      0.000      -0.115      -0.034\n",
       "PCTCHRT                     0.0035      0.001      3.835      0.000       0.002       0.005\n",
       "PCTYRRND                   -0.0027      0.000    -15.482      0.000      -0.003      -0.002\n",
       "PERMINTE_AVYRSEXP          -0.0120      0.001     -8.147      0.000      -0.015      -0.009\n",
       "PERMINTE_AVSAL             -0.0036      0.000     -9.745      0.000      -0.004      -0.003\n",
       "AVYRSEXP_AVSAL             -0.0036      0.001     -5.174      0.000      -0.005      -0.002\n",
       "PERSPEN_PTRATIO             0.0552      0.010      5.697      0.000       0.036       0.074\n",
       "PERSPEN_PCTAF               0.0241      0.005      5.251      0.000       0.015       0.033\n",
       "PTRATIO_PCTAF               0.0037      0.001      3.901      0.000       0.002       0.006\n",
       "PERMINTE_AVYRSEXP_AVSAL     0.0002   2.29e-05      8.453      0.000       0.000       0.000\n",
       "PERSPEN_PTRATIO_PCTAF      -0.0011      0.000     -5.216      0.000      -0.002      -0.001\n",
       "===========================================================================================\n",
       "\"\"\""
      ]
     },
     "execution_count": 39,
     "metadata": {},
     "output_type": "execute_result"
    }
   ],
   "source": [
    "sm_cloglog_fit.summary()"
   ]
  },
  {
   "cell_type": "code",
   "execution_count": 40,
   "metadata": {},
   "outputs": [],
   "source": [
    "ll_cloglog_model = ll.glm(star98, formula, lik=ll.lik.binomial(ll.link.cloglog))"
   ]
  },
  {
   "cell_type": "code",
   "execution_count": 41,
   "metadata": {},
   "outputs": [],
   "source": [
    "ll_cloglog_fit = ll_cloglog_model.fit()"
   ]
  },
  {
   "cell_type": "code",
   "execution_count": 42,
   "metadata": {},
   "outputs": [
    {
     "data": {
      "text/plain": [
       "-2885.1361523091327"
      ]
     },
     "execution_count": 42,
     "metadata": {},
     "output_type": "execute_result"
    }
   ],
   "source": [
    "ll_cloglog_fit.loglik"
   ]
  },
  {
   "cell_type": "code",
   "execution_count": 43,
   "metadata": {},
   "outputs": [
    {
     "data": {
      "text/plain": [
       "p  Intercept                 -0.083918\n",
       "   LOWINC                    -0.012077\n",
       "   PERASIAN                   0.007176\n",
       "   PERBLACK                  -0.013755\n",
       "   PERHISP                   -0.010855\n",
       "   PERMINTE                   0.221333\n",
       "   AVYRSEXP                   0.218000\n",
       "   AVSALK                     0.070656\n",
       "   PERSPENK                  -1.146776\n",
       "   PTRATIO                   -0.192686\n",
       "   PCTAF                     -0.074351\n",
       "   PCTCHRT                    0.003526\n",
       "   PCTYRRND                  -0.002703\n",
       "   PERMINTE_AVYRSEXP         -0.011970\n",
       "   PERMINTE_AVSAL            -0.003583\n",
       "   AVYRSEXP_AVSAL            -0.003604\n",
       "   PERSPEN_PTRATIO            0.055230\n",
       "   PERSPEN_PCTAF              0.024148\n",
       "   PTRATIO_PCTAF              0.003711\n",
       "   PERMINTE_AVYRSEXP_AVSAL    0.000194\n",
       "   PERSPEN_PTRATIO_PCTAF     -0.001134\n",
       "dtype: float64"
      ]
     },
     "execution_count": 43,
     "metadata": {},
     "output_type": "execute_result"
    }
   ],
   "source": [
    "ll_cloglog_fit.beta_grouped"
   ]
  }
 ],
 "metadata": {
  "kernelspec": {
   "display_name": ".venv",
   "language": "python",
   "name": "python3"
  },
  "language_info": {
   "codemirror_mode": {
    "name": "ipython",
    "version": 3
   },
   "file_extension": ".py",
   "mimetype": "text/x-python",
   "name": "python",
   "nbconvert_exporter": "python",
   "pygments_lexer": "ipython3",
   "version": "3.11.3"
  },
  "orig_nbformat": 4
 },
 "nbformat": 4,
 "nbformat_minor": 2
}
